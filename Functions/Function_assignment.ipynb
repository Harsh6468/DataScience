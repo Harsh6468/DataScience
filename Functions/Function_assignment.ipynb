{
  "nbformat": 4,
  "nbformat_minor": 0,
  "metadata": {
    "colab": {
      "provenance": []
    },
    "kernelspec": {
      "name": "python3",
      "display_name": "Python 3"
    },
    "language_info": {
      "name": "python"
    }
  },
  "cells": [
    {
      "cell_type": "code",
      "execution_count": 2,
      "metadata": {
        "id": "0K03JUW56Uhv"
      },
      "outputs": [],
      "source": [
        "# Function"
      ]
    },
    {
      "cell_type": "code",
      "source": [
        "# Theory Questions"
      ],
      "metadata": {
        "id": "s0yHzlc3_TW8"
      },
      "execution_count": null,
      "outputs": []
    },
    {
      "cell_type": "code",
      "source": [
        "# 1. What is the difference between a function and a method in Python?\n",
        "'''\n",
        "A function is an independent block of reusable code defined using def. A method is a function associated with an object and is called using dot notation.\n",
        "Example:\n",
        "# Function (Independent)\n",
        "def greet(name):\n",
        "    return f\"Hello, {name}!\"\n",
        "\n",
        "print(greet(\"Harsh\"))  # Output: Hello, Harsh!\n",
        "\n",
        "# Method (Associated with an Object)\n",
        "class Person:\n",
        "    def __init__(self, name):\n",
        "        self.name = name\n",
        "\n",
        "    def greet(self):\n",
        "        return f\"Hello, {self.name}!\"\n",
        "\n",
        "p = Person(\"HArsh\")\n",
        "print(p.greet())  # Output: Hello, Harsh!\n",
        "\n",
        "'''"
      ],
      "metadata": {
        "colab": {
          "base_uri": "https://localhost:8080/",
          "height": 70
        },
        "id": "0Ltc1q_h7cZ8",
        "outputId": "75d94751-e41e-4f6a-8a0b-c3e6ff5e1b1b"
      },
      "execution_count": 4,
      "outputs": [
        {
          "output_type": "execute_result",
          "data": {
            "text/plain": [
              "'\\nA function is an independent block of reusable code defined using def. A method is a function associated with an object and is called using dot notation.\\nExample: \\n# Function (Independent)\\ndef greet(name):\\n    return f\"Hello, {name}!\"\\n\\nprint(greet(\"Harsh\"))  # Output: Hello, Harsh!\\n\\n# Method (Associated with an Object)\\nclass Person:\\n    def __init__(self, name):\\n        self.name = name\\n\\n    def greet(self):\\n        return f\"Hello, {self.name}!\"\\n\\np = Person(\"HArsh\")\\nprint(p.greet())  # Output: Hello, Harsh!\\n\\n'"
            ],
            "application/vnd.google.colaboratory.intrinsic+json": {
              "type": "string"
            }
          },
          "metadata": {},
          "execution_count": 4
        }
      ]
    },
    {
      "cell_type": "code",
      "source": [
        "# 2. Explain the concept of function arguments and parameters in Python.\n",
        "'''\n",
        "Arguments are actual values passed when calling a function. Parameters are variables listed in the function definition.\n",
        "Example:\n",
        "\n",
        "def add(a, b):\n",
        "    return a + b\n",
        "\n",
        "result = add(5, 3)\n",
        "print(result)  # Output: 8\n",
        "\n",
        "'''"
      ],
      "metadata": {
        "colab": {
          "base_uri": "https://localhost:8080/",
          "height": 36
        },
        "id": "ygRdH5Uo7pT5",
        "outputId": "b515ca28-913a-4c62-9ae7-69ac1e8b8296"
      },
      "execution_count": 5,
      "outputs": [
        {
          "output_type": "execute_result",
          "data": {
            "text/plain": [
              "'\\nArguments are actual values passed when calling a function. Parameters are variables listed in the function definition.\\nExample:\\n'"
            ],
            "application/vnd.google.colaboratory.intrinsic+json": {
              "type": "string"
            }
          },
          "metadata": {},
          "execution_count": 5
        }
      ]
    },
    {
      "cell_type": "code",
      "source": [
        "# 3. What are the different ways to define and call a function in Python?\n",
        "'''\n",
        "Python allows defining functions in multiple ways:\n",
        " - Normal Function\n",
        " - Lambda Function\n",
        " - Function with Default Parameters\n",
        " - Function with Variable Arguments (*args, **kwargs)\n",
        "\n",
        "Example:-\n",
        "# Normal Function\n",
        "def square(n):\n",
        "    return n * n\n",
        "\n",
        "print(square(4))  # Output: 16\n",
        "\n",
        "# Lambda Function (Anonymous Function)\n",
        "square_lambda = lambda n: n * n\n",
        "print(square_lambda(4))  # Output: 16\n",
        "\n",
        "# Default Parameter\n",
        "def greet(name=\"Guest\"):\n",
        "    return f\"Hello, {name}!\"\n",
        "\n",
        "print(greet())       # Output: Hello, Guest!\n",
        "print(greet(\"Tom\"))  # Output: Hello, Tom!\n",
        "\n",
        "# Variable Arguments\n",
        "def add_numbers(*args):\n",
        "    return sum(args)\n",
        "\n",
        "print(add_numbers(1, 2, 3, 4))  # Output: 10\n",
        "\n",
        "'''"
      ],
      "metadata": {
        "colab": {
          "base_uri": "https://localhost:8080/",
          "height": 88
        },
        "id": "0eet3twF8k6m",
        "outputId": "fbf0ac62-63f1-4db6-db2c-c9d0e78e479e"
      },
      "execution_count": 6,
      "outputs": [
        {
          "output_type": "execute_result",
          "data": {
            "text/plain": [
              "'\\nPython allows defining functions in multiple ways:\\n - Normal Function\\n - Lambda Function\\n - Function with Default Parameters\\n - Function with Variable Arguments (*args, **kwargs)\\n\\nExample:- \\n# Normal Function\\ndef square(n):\\n    return n * n\\n\\nprint(square(4))  # Output: 16\\n\\n# Lambda Function (Anonymous Function)\\nsquare_lambda = lambda n: n * n\\nprint(square_lambda(4))  # Output: 16\\n\\n# Default Parameter\\ndef greet(name=\"Guest\"):\\n    return f\"Hello, {name}!\"\\n\\nprint(greet())       # Output: Hello, Guest!\\nprint(greet(\"Tom\"))  # Output: Hello, Tom!\\n\\n# Variable Arguments\\ndef add_numbers(*args):\\n    return sum(args)\\n\\nprint(add_numbers(1, 2, 3, 4))  # Output: 10\\n\\n'"
            ],
            "application/vnd.google.colaboratory.intrinsic+json": {
              "type": "string"
            }
          },
          "metadata": {},
          "execution_count": 6
        }
      ]
    },
    {
      "cell_type": "code",
      "source": [
        "# 4. What is the purpose of the return statement in a Python function?\n",
        "'''\n",
        "The return statement is used to return a value from a function.\n",
        "\n",
        "Example:\n",
        "def multiply(a, b):\n",
        "    return a * b\n",
        "\n",
        "result = multiply(3, 5)\n",
        "print(result)  # Output: 15\n",
        "\n",
        "'''"
      ],
      "metadata": {
        "colab": {
          "base_uri": "https://localhost:8080/",
          "height": 36
        },
        "id": "2_OwxYUg9M6N",
        "outputId": "8c10f8fa-dcb5-4990-aa1d-8d7b8d837e1b"
      },
      "execution_count": 7,
      "outputs": [
        {
          "output_type": "execute_result",
          "data": {
            "text/plain": [
              "'\\nThe return statement is used to return a value from a function.\\n\\nExample: \\ndef multiply(a, b):\\n    return a * b\\n\\nresult = multiply(3, 5)\\nprint(result)  # Output: 15\\n\\n'"
            ],
            "application/vnd.google.colaboratory.intrinsic+json": {
              "type": "string"
            }
          },
          "metadata": {},
          "execution_count": 7
        }
      ]
    },
    {
      "cell_type": "code",
      "source": [
        "# 5. What are iterators in Python and how do they differ from iterables?\n",
        "'''\n",
        "Iterable: An object that can be looped over (e.g., list, tuple, string).\n",
        "Iterator: An object that implements __iter__() and __next__() methods.\n",
        "\n",
        "Example:\n",
        "\n",
        "# Iterable (List)\n",
        "numbers = [1, 2, 3]\n",
        "for num in numbers:\n",
        "    print(num)  # Output: 1 2 3\n",
        "\n",
        "# Iterator using iter() and next()\n",
        "numbers_iter = iter(numbers)\n",
        "print(next(numbers_iter))  # Output: 1\n",
        "print(next(numbers_iter))  # Output: 2\n",
        "\n",
        "'''"
      ],
      "metadata": {
        "colab": {
          "base_uri": "https://localhost:8080/",
          "height": 70
        },
        "id": "YdcKLtV99W-S",
        "outputId": "471daece-1350-42b3-db2e-38234bb21189"
      },
      "execution_count": 9,
      "outputs": [
        {
          "output_type": "execute_result",
          "data": {
            "text/plain": [
              "'\\nIterable: An object that can be looped over (e.g., list, tuple, string).\\nIterator: An object that implements __iter__() and __next__() methods.\\n\\nExample:\\n\\n# Iterable (List)\\nnumbers = [1, 2, 3]\\nfor num in numbers:\\n    print(num)  # Output: 1 2 3\\n\\n# Iterator using iter() and next()\\nnumbers_iter = iter(numbers)\\nprint(next(numbers_iter))  # Output: 1\\nprint(next(numbers_iter))  # Output: 2\\n\\n'"
            ],
            "application/vnd.google.colaboratory.intrinsic+json": {
              "type": "string"
            }
          },
          "metadata": {},
          "execution_count": 9
        }
      ]
    },
    {
      "cell_type": "code",
      "source": [
        "# 6. Explain the concept of generators in Python and how they are defined.\n",
        "'''\n",
        "A generator is a special function that yields values lazily using the yield keyword.\n",
        "\n",
        "Example:\n",
        "\n",
        "def count_up_to(n):\n",
        "    count = 1\n",
        "    while count <= n:\n",
        "        yield count\n",
        "        count += 1\n",
        "\n",
        "gen = count_up_to(3)\n",
        "print(next(gen))  # Output: 1\n",
        "print(next(gen))  # Output: 2\n",
        "print(next(gen))  # Output: 3\n",
        "\n",
        "'''"
      ],
      "metadata": {
        "colab": {
          "base_uri": "https://localhost:8080/",
          "height": 53
        },
        "id": "ZaosoeVA9o6X",
        "outputId": "874b9830-1052-441a-9db5-3cb3afc51d0d"
      },
      "execution_count": 10,
      "outputs": [
        {
          "output_type": "execute_result",
          "data": {
            "text/plain": [
              "'\\nA generator is a special function that yields values lazily using the yield keyword.\\n\\nExample:\\n\\ndef count_up_to(n):\\n    count = 1\\n    while count <= n:\\n        yield count\\n        count += 1\\n\\ngen = count_up_to(3)\\nprint(next(gen))  # Output: 1\\nprint(next(gen))  # Output: 2\\nprint(next(gen))  # Output: 3\\n\\n'"
            ],
            "application/vnd.google.colaboratory.intrinsic+json": {
              "type": "string"
            }
          },
          "metadata": {},
          "execution_count": 10
        }
      ]
    },
    {
      "cell_type": "code",
      "source": [
        "# 7. What are the advantages of using generators over regular functions?\n",
        "'''\n",
        "Memory Efficient: Generates values one at a time, avoiding memory overhead.\n",
        "Faster Execution: No need to store all values in memory.\n",
        "Lazy Evaluation: Computes values only when needed.\n",
        "\n",
        "Example:\n",
        "# Generator that generates numbers one at a time\n",
        "def squares(n):\n",
        "    for i in range(n):\n",
        "        yield i * i\n",
        "\n",
        "gen = squares(5)\n",
        "print(list(gen))  # Output: [0, 1, 4, 9, 16]\n",
        "\n",
        "'''"
      ],
      "metadata": {
        "colab": {
          "base_uri": "https://localhost:8080/",
          "height": 70
        },
        "id": "sOVOqzZk9yJx",
        "outputId": "7edd70db-a1aa-4454-f4ac-d7cd8943ee0f"
      },
      "execution_count": 11,
      "outputs": [
        {
          "output_type": "execute_result",
          "data": {
            "text/plain": [
              "'\\nMemory Efficient: Generates values one at a time, avoiding memory overhead.\\nFaster Execution: No need to store all values in memory.\\nLazy Evaluation: Computes values only when needed.\\n\\nExample:\\n# Generator that generates numbers one at a time\\ndef squares(n):\\n    for i in range(n):\\n        yield i * i\\n\\ngen = squares(5)\\nprint(list(gen))  # Output: [0, 1, 4, 9, 16]\\n\\n'"
            ],
            "application/vnd.google.colaboratory.intrinsic+json": {
              "type": "string"
            }
          },
          "metadata": {},
          "execution_count": 11
        }
      ]
    },
    {
      "cell_type": "code",
      "source": [
        "# 8. What is a lambda function in Python and when is it typically used?\n",
        "'''\n",
        "A lambda function is an anonymous function used for short, simple operations.\n",
        "\n",
        "Example:\n",
        "# Normal function\n",
        "def add(a, b):\n",
        "    return a + b\n",
        "\n",
        "# Lambda function\n",
        "add_lambda = lambda a, b: a + b\n",
        "\n",
        "print(add_lambda(3, 5))  # Output: 8\n",
        "\n",
        "'''"
      ],
      "metadata": {
        "colab": {
          "base_uri": "https://localhost:8080/",
          "height": 53
        },
        "id": "_QJakyG7-DRw",
        "outputId": "5abf8e26-ab7e-404f-f6cf-5358b28d6f85"
      },
      "execution_count": 12,
      "outputs": [
        {
          "output_type": "execute_result",
          "data": {
            "text/plain": [
              "'\\nA lambda function is an anonymous function used for short, simple operations.\\n\\nExample:\\n# Normal function\\ndef add(a, b):\\n    return a + b\\n\\n# Lambda function\\nadd_lambda = lambda a, b: a + b\\n\\nprint(add_lambda(3, 5))  # Output: 8\\n\\n'"
            ],
            "application/vnd.google.colaboratory.intrinsic+json": {
              "type": "string"
            }
          },
          "metadata": {},
          "execution_count": 12
        }
      ]
    },
    {
      "cell_type": "code",
      "source": [
        "# 9. Explain the purpose and usage of the map() function in Python.\n",
        "'''\n",
        "The map() function applies a function to each element of an iterable.\n",
        "\n",
        "Example:\n",
        "numbers = [1, 2, 3, 4]\n",
        "squared = list(map(lambda x: x * x, numbers))\n",
        "print(squared)  # Output: [1, 4, 9, 16]\n",
        "\n",
        "'''"
      ],
      "metadata": {
        "colab": {
          "base_uri": "https://localhost:8080/",
          "height": 53
        },
        "id": "1A2lBRIu-OPc",
        "outputId": "c14cf7f0-468f-4cbb-c95d-1182f19f0394"
      },
      "execution_count": 13,
      "outputs": [
        {
          "output_type": "execute_result",
          "data": {
            "text/plain": [
              "'\\nThe map() function applies a function to each element of an iterable.\\n\\nExample:\\nnumbers = [1, 2, 3, 4]\\nsquared = list(map(lambda x: x * x, numbers))\\nprint(squared)  # Output: [1, 4, 9, 16]\\n\\n'"
            ],
            "application/vnd.google.colaboratory.intrinsic+json": {
              "type": "string"
            }
          },
          "metadata": {},
          "execution_count": 13
        }
      ]
    },
    {
      "cell_type": "code",
      "source": [
        "# What is the difference between map(), reduce(), and filter() functions in Python?\n",
        "'''\n",
        "Function\tPurpose\t                                            Example\n",
        "map()\t    Applies a function to all elements of an iterable\t  map(lambda x: x*2, [1, 2, 3]) → [2, 4, 6]\n",
        "filter()\tFilters elements based on a condition\t              filter(lambda x: x%2==0, [1, 2, 3]) → [2]\n",
        "reduce()\tReduces an iterable to a single value\t              reduce(lambda x, y: x+y, [1, 2, 3]) → 6\n",
        "\n",
        "Example:\n",
        "from functools import reduce\n",
        "\n",
        "# map()\n",
        "numbers = [1, 2, 3, 4]\n",
        "squared = list(map(lambda x: x * x, numbers))\n",
        "print(squared)  # Output: [1, 4, 9, 16]\n",
        "\n",
        "# filter()\n",
        "evens = list(filter(lambda x: x % 2 == 0, numbers))\n",
        "print(evens)  # Output: [2, 4]\n",
        "\n",
        "# reduce()\n",
        "sum_all = reduce(lambda x, y: x + y, numbers)\n",
        "print(sum_all)  # Output: 10\n",
        "\n",
        "'''\n"
      ],
      "metadata": {
        "colab": {
          "base_uri": "https://localhost:8080/",
          "height": 105
        },
        "id": "zJkqvqML-de-",
        "outputId": "3bfcaeb0-df0c-4b46-bdf9-d9ddd9c9b324"
      },
      "execution_count": 14,
      "outputs": [
        {
          "output_type": "execute_result",
          "data": {
            "text/plain": [
              "'\\nFunction\\tPurpose\\t                                            Example\\nmap()\\t    Applies a function to all elements of an iterable\\t  map(lambda x: x*2, [1, 2, 3]) → [2, 4, 6]\\nfilter()\\tFilters elements based on a condition\\t              filter(lambda x: x%2==0, [1, 2, 3]) → [2]\\nreduce()\\tReduces an iterable to a single value\\t              reduce(lambda x, y: x+y, [1, 2, 3]) → 6\\n\\nExample: \\nfrom functools import reduce\\n\\n# map()\\nnumbers = [1, 2, 3, 4]\\nsquared = list(map(lambda x: x * x, numbers))\\nprint(squared)  # Output: [1, 4, 9, 16]\\n\\n# filter()\\nevens = list(filter(lambda x: x % 2 == 0, numbers))\\nprint(evens)  # Output: [2, 4]\\n\\n# reduce()\\nsum_all = reduce(lambda x, y: x + y, numbers)\\nprint(sum_all)  # Output: 10\\n\\n'"
            ],
            "application/vnd.google.colaboratory.intrinsic+json": {
              "type": "string"
            }
          },
          "metadata": {},
          "execution_count": 14
        }
      ]
    },
    {
      "cell_type": "code",
      "source": [
        "# Practical Questions"
      ],
      "metadata": {
        "id": "y915rHFy-z9v"
      },
      "execution_count": 15,
      "outputs": []
    },
    {
      "cell_type": "code",
      "source": [
        "# 1. Write a Python function that takes a list of numbers as input and returns the sum of all even numbers in the list.\n",
        "def sum_even_numbers(numbers):\n",
        "    return sum(num for num in numbers if num % 2 == 0)\n",
        "\n",
        "print(sum_even_numbers([1, 2, 3, 4, 5, 6]))  # Output: 12\n"
      ],
      "metadata": {
        "id": "d2h2xHIx_a82"
      },
      "execution_count": null,
      "outputs": []
    }
  ]
}