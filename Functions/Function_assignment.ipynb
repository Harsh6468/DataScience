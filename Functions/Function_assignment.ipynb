{
  "cells": [
    {
      "cell_type": "code",
      "execution_count": 2,
      "metadata": {
        "id": "0K03JUW56Uhv"
      },
      "outputs": [],
      "source": [
        "# Function"
      ]
    },
    {
      "cell_type": "code",
      "execution_count": null,
      "metadata": {
        "id": "s0yHzlc3_TW8"
      },
      "outputs": [],
      "source": [
        "# Theory Questions"
      ]
    },
    {
      "cell_type": "code",
      "execution_count": 4,
      "metadata": {
        "colab": {
          "base_uri": "https://localhost:8080/",
          "height": 70
        },
        "id": "0Ltc1q_h7cZ8",
        "outputId": "75d94751-e41e-4f6a-8a0b-c3e6ff5e1b1b"
      },
      "outputs": [
        {
          "data": {
            "application/vnd.google.colaboratory.intrinsic+json": {
              "type": "string"
            },
            "text/plain": [
              "'\\nA function is an independent block of reusable code defined using def. A method is a function associated with an object and is called using dot notation.\\nExample: \\n# Function (Independent)\\ndef greet(name):\\n    return f\"Hello, {name}!\"\\n\\nprint(greet(\"Harsh\"))  # Output: Hello, Harsh!\\n\\n# Method (Associated with an Object)\\nclass Person:\\n    def __init__(self, name):\\n        self.name = name\\n\\n    def greet(self):\\n        return f\"Hello, {self.name}!\"\\n\\np = Person(\"HArsh\")\\nprint(p.greet())  # Output: Hello, Harsh!\\n\\n'"
            ]
          },
          "execution_count": 4,
          "metadata": {},
          "output_type": "execute_result"
        }
      ],
      "source": [
        "# 1. What is the difference between a function and a method in Python?\n",
        "'''\n",
        "A function is an independent block of reusable code defined using def. A method is a function associated with an object and is called using dot notation.\n",
        "Example:\n",
        "# Function (Independent)\n",
        "def greet(name):\n",
        "    return f\"Hello, {name}!\"\n",
        "\n",
        "print(greet(\"Harsh\"))  # Output: Hello, Harsh!\n",
        "\n",
        "# Method (Associated with an Object)\n",
        "class Person:\n",
        "    def __init__(self, name):\n",
        "        self.name = name\n",
        "\n",
        "    def greet(self):\n",
        "        return f\"Hello, {self.name}!\"\n",
        "\n",
        "p = Person(\"Harsh\")\n",
        "print(p.greet())  # Output: Hello, Harsh!\n",
        "\n",
        "'''"
      ]
    },
    {
      "cell_type": "code",
      "execution_count": 5,
      "metadata": {
        "colab": {
          "base_uri": "https://localhost:8080/",
          "height": 36
        },
        "id": "ygRdH5Uo7pT5",
        "outputId": "b515ca28-913a-4c62-9ae7-69ac1e8b8296"
      },
      "outputs": [
        {
          "data": {
            "application/vnd.google.colaboratory.intrinsic+json": {
              "type": "string"
            },
            "text/plain": [
              "'\\nArguments are actual values passed when calling a function. Parameters are variables listed in the function definition.\\nExample:\\n'"
            ]
          },
          "execution_count": 5,
          "metadata": {},
          "output_type": "execute_result"
        }
      ],
      "source": [
        "# 2. Explain the concept of function arguments and parameters in Python.\n",
        "'''\n",
        "Arguments are actual values passed when calling a function. Parameters are variables listed in the function definition.\n",
        "Example:\n",
        "\n",
        "def add(a, b):\n",
        "    return a + b\n",
        "\n",
        "result = add(5, 3)\n",
        "print(result)  # Output: 8\n",
        "\n",
        "'''"
      ]
    },
    {
      "cell_type": "code",
      "execution_count": 6,
      "metadata": {
        "colab": {
          "base_uri": "https://localhost:8080/",
          "height": 88
        },
        "id": "0eet3twF8k6m",
        "outputId": "fbf0ac62-63f1-4db6-db2c-c9d0e78e479e"
      },
      "outputs": [
        {
          "data": {
            "application/vnd.google.colaboratory.intrinsic+json": {
              "type": "string"
            },
            "text/plain": [
              "'\\nPython allows defining functions in multiple ways:\\n - Normal Function\\n - Lambda Function\\n - Function with Default Parameters\\n - Function with Variable Arguments (*args, **kwargs)\\n\\nExample:- \\n# Normal Function\\ndef square(n):\\n    return n * n\\n\\nprint(square(4))  # Output: 16\\n\\n# Lambda Function (Anonymous Function)\\nsquare_lambda = lambda n: n * n\\nprint(square_lambda(4))  # Output: 16\\n\\n# Default Parameter\\ndef greet(name=\"Guest\"):\\n    return f\"Hello, {name}!\"\\n\\nprint(greet())       # Output: Hello, Guest!\\nprint(greet(\"Tom\"))  # Output: Hello, Tom!\\n\\n# Variable Arguments\\ndef add_numbers(*args):\\n    return sum(args)\\n\\nprint(add_numbers(1, 2, 3, 4))  # Output: 10\\n\\n'"
            ]
          },
          "execution_count": 6,
          "metadata": {},
          "output_type": "execute_result"
        }
      ],
      "source": [
        "# 3. What are the different ways to define and call a function in Python?\n",
        "'''\n",
        "Python allows defining functions in multiple ways:\n",
        " - Normal Function\n",
        " - Lambda Function\n",
        " - Function with Default Parameters\n",
        " - Function with Variable Arguments (*args, **kwargs)\n",
        "\n",
        "Example:-\n",
        "# Normal Function\n",
        "def square(n):\n",
        "    return n * n\n",
        "\n",
        "print(square(4))  # Output: 16\n",
        "\n",
        "# Lambda Function (Anonymous Function)\n",
        "square_lambda = lambda n: n * n\n",
        "print(square_lambda(4))  # Output: 16\n",
        "\n",
        "# Default Parameter\n",
        "def greet(name=\"Guest\"):\n",
        "    return f\"Hello, {name}!\"\n",
        "\n",
        "print(greet())       # Output: Hello, Guest!\n",
        "print(greet(\"Tom\"))  # Output: Hello, Tom!\n",
        "\n",
        "# Variable Arguments\n",
        "def add_numbers(*args):\n",
        "    return sum(args)\n",
        "\n",
        "print(add_numbers(1, 2, 3, 4))  # Output: 10\n",
        "\n",
        "'''"
      ]
    },
    {
      "cell_type": "code",
      "execution_count": 7,
      "metadata": {
        "colab": {
          "base_uri": "https://localhost:8080/",
          "height": 36
        },
        "id": "2_OwxYUg9M6N",
        "outputId": "8c10f8fa-dcb5-4990-aa1d-8d7b8d837e1b"
      },
      "outputs": [
        {
          "data": {
            "application/vnd.google.colaboratory.intrinsic+json": {
              "type": "string"
            },
            "text/plain": [
              "'\\nThe return statement is used to return a value from a function.\\n\\nExample: \\ndef multiply(a, b):\\n    return a * b\\n\\nresult = multiply(3, 5)\\nprint(result)  # Output: 15\\n\\n'"
            ]
          },
          "execution_count": 7,
          "metadata": {},
          "output_type": "execute_result"
        }
      ],
      "source": [
        "# 4. What is the purpose of the return statement in a Python function?\n",
        "'''\n",
        "The return statement is used to return a value from a function.\n",
        "\n",
        "Example:\n",
        "def multiply(a, b):\n",
        "    return a * b\n",
        "\n",
        "result = multiply(3, 5)\n",
        "print(result)  # Output: 15\n",
        "\n",
        "'''"
      ]
    },
    {
      "cell_type": "code",
      "execution_count": 9,
      "metadata": {
        "colab": {
          "base_uri": "https://localhost:8080/",
          "height": 70
        },
        "id": "YdcKLtV99W-S",
        "outputId": "471daece-1350-42b3-db2e-38234bb21189"
      },
      "outputs": [
        {
          "data": {
            "application/vnd.google.colaboratory.intrinsic+json": {
              "type": "string"
            },
            "text/plain": [
              "'\\nIterable: An object that can be looped over (e.g., list, tuple, string).\\nIterator: An object that implements __iter__() and __next__() methods.\\n\\nExample:\\n\\n# Iterable (List)\\nnumbers = [1, 2, 3]\\nfor num in numbers:\\n    print(num)  # Output: 1 2 3\\n\\n# Iterator using iter() and next()\\nnumbers_iter = iter(numbers)\\nprint(next(numbers_iter))  # Output: 1\\nprint(next(numbers_iter))  # Output: 2\\n\\n'"
            ]
          },
          "execution_count": 9,
          "metadata": {},
          "output_type": "execute_result"
        }
      ],
      "source": [
        "# 5. What are iterators in Python and how do they differ from iterables?\n",
        "'''\n",
        "Iterable: An object that can be looped over (e.g., list, tuple, string).\n",
        "Iterator: An object that implements __iter__() and __next__() methods.\n",
        "\n",
        "Example:\n",
        "\n",
        "# Iterable (List)\n",
        "numbers = [1, 2, 3]\n",
        "for num in numbers:\n",
        "    print(num)  # Output: 1 2 3\n",
        "\n",
        "# Iterator using iter() and next()\n",
        "numbers_iter = iter(numbers)\n",
        "print(next(numbers_iter))  # Output: 1\n",
        "print(next(numbers_iter))  # Output: 2\n",
        "\n",
        "'''"
      ]
    },
    {
      "cell_type": "code",
      "execution_count": 10,
      "metadata": {
        "colab": {
          "base_uri": "https://localhost:8080/",
          "height": 53
        },
        "id": "ZaosoeVA9o6X",
        "outputId": "874b9830-1052-441a-9db5-3cb3afc51d0d"
      },
      "outputs": [
        {
          "data": {
            "application/vnd.google.colaboratory.intrinsic+json": {
              "type": "string"
            },
            "text/plain": [
              "'\\nA generator is a special function that yields values lazily using the yield keyword.\\n\\nExample:\\n\\ndef count_up_to(n):\\n    count = 1\\n    while count <= n:\\n        yield count\\n        count += 1\\n\\ngen = count_up_to(3)\\nprint(next(gen))  # Output: 1\\nprint(next(gen))  # Output: 2\\nprint(next(gen))  # Output: 3\\n\\n'"
            ]
          },
          "execution_count": 10,
          "metadata": {},
          "output_type": "execute_result"
        }
      ],
      "source": [
        "# 6. Explain the concept of generators in Python and how they are defined.\n",
        "'''\n",
        "A generator is a special function that yields values lazily using the yield keyword.\n",
        "\n",
        "Example:\n",
        "\n",
        "def count_up_to(n):\n",
        "    count = 1\n",
        "    while count <= n:\n",
        "        yield count\n",
        "        count += 1\n",
        "\n",
        "gen = count_up_to(3)\n",
        "print(next(gen))  # Output: 1\n",
        "print(next(gen))  # Output: 2\n",
        "print(next(gen))  # Output: 3\n",
        "\n",
        "'''"
      ]
    },
    {
      "cell_type": "code",
      "execution_count": 11,
      "metadata": {
        "colab": {
          "base_uri": "https://localhost:8080/",
          "height": 70
        },
        "id": "sOVOqzZk9yJx",
        "outputId": "7edd70db-a1aa-4454-f4ac-d7cd8943ee0f"
      },
      "outputs": [
        {
          "data": {
            "application/vnd.google.colaboratory.intrinsic+json": {
              "type": "string"
            },
            "text/plain": [
              "'\\nMemory Efficient: Generates values one at a time, avoiding memory overhead.\\nFaster Execution: No need to store all values in memory.\\nLazy Evaluation: Computes values only when needed.\\n\\nExample:\\n# Generator that generates numbers one at a time\\ndef squares(n):\\n    for i in range(n):\\n        yield i * i\\n\\ngen = squares(5)\\nprint(list(gen))  # Output: [0, 1, 4, 9, 16]\\n\\n'"
            ]
          },
          "execution_count": 11,
          "metadata": {},
          "output_type": "execute_result"
        }
      ],
      "source": [
        "# 7. What are the advantages of using generators over regular functions?\n",
        "'''\n",
        "Memory Efficient: Generates values one at a time, avoiding memory overhead.\n",
        "Faster Execution: No need to store all values in memory.\n",
        "Lazy Evaluation: Computes values only when needed.\n",
        "\n",
        "Example:\n",
        "# Generator that generates numbers one at a time\n",
        "def squares(n):\n",
        "    for i in range(n):\n",
        "        yield i * i\n",
        "\n",
        "gen = squares(5)\n",
        "print(list(gen))  # Output: [0, 1, 4, 9, 16]\n",
        "\n",
        "'''"
      ]
    },
    {
      "cell_type": "code",
      "execution_count": 12,
      "metadata": {
        "colab": {
          "base_uri": "https://localhost:8080/",
          "height": 53
        },
        "id": "_QJakyG7-DRw",
        "outputId": "5abf8e26-ab7e-404f-f6cf-5358b28d6f85"
      },
      "outputs": [
        {
          "data": {
            "application/vnd.google.colaboratory.intrinsic+json": {
              "type": "string"
            },
            "text/plain": [
              "'\\nA lambda function is an anonymous function used for short, simple operations.\\n\\nExample:\\n# Normal function\\ndef add(a, b):\\n    return a + b\\n\\n# Lambda function\\nadd_lambda = lambda a, b: a + b\\n\\nprint(add_lambda(3, 5))  # Output: 8\\n\\n'"
            ]
          },
          "execution_count": 12,
          "metadata": {},
          "output_type": "execute_result"
        }
      ],
      "source": [
        "# 8. What is a lambda function in Python and when is it typically used?\n",
        "'''\n",
        "A lambda function is an anonymous function used for short, simple operations.\n",
        "\n",
        "Example:\n",
        "# Normal function\n",
        "def add(a, b):\n",
        "    return a + b\n",
        "\n",
        "# Lambda function\n",
        "add_lambda = lambda a, b: a + b\n",
        "\n",
        "print(add_lambda(3, 5))  # Output: 8\n",
        "\n",
        "'''"
      ]
    },
    {
      "cell_type": "code",
      "execution_count": 13,
      "metadata": {
        "colab": {
          "base_uri": "https://localhost:8080/",
          "height": 53
        },
        "id": "1A2lBRIu-OPc",
        "outputId": "c14cf7f0-468f-4cbb-c95d-1182f19f0394"
      },
      "outputs": [
        {
          "data": {
            "application/vnd.google.colaboratory.intrinsic+json": {
              "type": "string"
            },
            "text/plain": [
              "'\\nThe map() function applies a function to each element of an iterable.\\n\\nExample:\\nnumbers = [1, 2, 3, 4]\\nsquared = list(map(lambda x: x * x, numbers))\\nprint(squared)  # Output: [1, 4, 9, 16]\\n\\n'"
            ]
          },
          "execution_count": 13,
          "metadata": {},
          "output_type": "execute_result"
        }
      ],
      "source": [
        "# 9. Explain the purpose and usage of the map() function in Python.\n",
        "'''\n",
        "The map() function applies a function to each element of an iterable.\n",
        "\n",
        "Example:\n",
        "numbers = [1, 2, 3, 4]\n",
        "squared = list(map(lambda x: x * x, numbers))\n",
        "print(squared)  # Output: [1, 4, 9, 16]\n",
        "\n",
        "'''"
      ]
    },
    {
      "cell_type": "code",
      "execution_count": 14,
      "metadata": {
        "colab": {
          "base_uri": "https://localhost:8080/",
          "height": 105
        },
        "id": "zJkqvqML-de-",
        "outputId": "3bfcaeb0-df0c-4b46-bdf9-d9ddd9c9b324"
      },
      "outputs": [
        {
          "data": {
            "application/vnd.google.colaboratory.intrinsic+json": {
              "type": "string"
            },
            "text/plain": [
              "'\\nFunction\\tPurpose\\t                                            Example\\nmap()\\t    Applies a function to all elements of an iterable\\t  map(lambda x: x*2, [1, 2, 3]) → [2, 4, 6]\\nfilter()\\tFilters elements based on a condition\\t              filter(lambda x: x%2==0, [1, 2, 3]) → [2]\\nreduce()\\tReduces an iterable to a single value\\t              reduce(lambda x, y: x+y, [1, 2, 3]) → 6\\n\\nExample: \\nfrom functools import reduce\\n\\n# map()\\nnumbers = [1, 2, 3, 4]\\nsquared = list(map(lambda x: x * x, numbers))\\nprint(squared)  # Output: [1, 4, 9, 16]\\n\\n# filter()\\nevens = list(filter(lambda x: x % 2 == 0, numbers))\\nprint(evens)  # Output: [2, 4]\\n\\n# reduce()\\nsum_all = reduce(lambda x, y: x + y, numbers)\\nprint(sum_all)  # Output: 10\\n\\n'"
            ]
          },
          "execution_count": 14,
          "metadata": {},
          "output_type": "execute_result"
        }
      ],
      "source": [
        "# What is the difference between map(), reduce(), and filter() functions in Python?\n",
        "'''\n",
        "Function\tPurpose\t                                            Example\n",
        "map()\t    Applies a function to all elements of an iterable\t  map(lambda x: x*2, [1, 2, 3]) → [2, 4, 6]\n",
        "filter()\tFilters elements based on a condition\t              filter(lambda x: x%2==0, [1, 2, 3]) → [2]\n",
        "reduce()\tReduces an iterable to a single value\t              reduce(lambda x, y: x+y, [1, 2, 3]) → 6\n",
        "\n",
        "Example:\n",
        "from functools import reduce\n",
        "\n",
        "# map()\n",
        "numbers = [1, 2, 3, 4]\n",
        "squared = list(map(lambda x: x * x, numbers))\n",
        "print(squared)  # Output: [1, 4, 9, 16]\n",
        "\n",
        "# filter()\n",
        "evens = list(filter(lambda x: x % 2 == 0, numbers))\n",
        "print(evens)  # Output: [2, 4]\n",
        "\n",
        "# reduce()\n",
        "sum_all = reduce(lambda x, y: x + y, numbers)\n",
        "print(sum_all)  # Output: 10\n",
        "\n",
        "'''\n"
      ]
    },
    {
      "cell_type": "code",
      "execution_count": 1,
      "metadata": {
        "id": "0gTmxlqFIG02"
      },
      "outputs": [
        {
          "data": {
            "text/plain": [
              "'\\nImage uploaded for this question.\\n'"
            ]
          },
          "execution_count": 1,
          "metadata": {},
          "output_type": "execute_result"
        }
      ],
      "source": [
        "# 11. Using pen & Paper write the internal mechanism for sum operation using reduce function on this given list:[47,11,42,13];\n",
        "'''\n",
        "Image uploaded for this question.\n",
        "'''"
      ]
    },
    {
      "cell_type": "code",
      "execution_count": 15,
      "metadata": {
        "id": "y915rHFy-z9v"
      },
      "outputs": [],
      "source": [
        "# Practical Questions"
      ]
    },
    {
      "cell_type": "code",
      "execution_count": 16,
      "metadata": {
        "colab": {
          "base_uri": "https://localhost:8080/"
        },
        "id": "d2h2xHIx_a82",
        "outputId": "2b85d153-6615-4b76-8a7a-3ac708d17569"
      },
      "outputs": [
        {
          "name": "stdout",
          "output_type": "stream",
          "text": [
            "12\n"
          ]
        }
      ],
      "source": [
        "# 1. Write a Python function that takes a list of numbers as input and returns the sum of all even numbers in the list.\n",
        "def sum_even_numbers(numbers):\n",
        "    return sum(num for num in numbers if num % 2 == 0)\n",
        "\n",
        "print(sum_even_numbers([1, 2, 3, 4, 5, 6]))\n"
      ]
    },
    {
      "cell_type": "code",
      "execution_count": 17,
      "metadata": {
        "colab": {
          "base_uri": "https://localhost:8080/"
        },
        "id": "8bfyTiXnDviW",
        "outputId": "c3e3f112-9739-408c-a8f1-41d5b3630298"
      },
      "outputs": [
        {
          "name": "stdout",
          "output_type": "stream",
          "text": [
            "Enter a string: Hello\n",
            "olleH\n"
          ]
        }
      ],
      "source": [
        "# 2. Create a Python function that accepts a string and returns the reverse of that string.\n",
        "def reverse_string(s):\n",
        "    return s[::-1]\n",
        "\n",
        "text = input(\"Enter a string: \")\n",
        "print(reverse_string(text))\n"
      ]
    },
    {
      "cell_type": "code",
      "execution_count": 18,
      "metadata": {
        "colab": {
          "base_uri": "https://localhost:8080/"
        },
        "id": "aFet_MpSEZkO",
        "outputId": "d042e013-242d-4cb6-f744-1732ae6dbace"
      },
      "outputs": [
        {
          "name": "stdout",
          "output_type": "stream",
          "text": [
            "[1, 4, 9, 16]\n"
          ]
        }
      ],
      "source": [
        "# 3. Implement a Python function that takes a list of integers and returns a new list containing the squares of each number.\n",
        "def square_numbers(numbers):\n",
        "    return [num ** 2 for num in numbers]\n",
        "\n",
        "print(square_numbers([1, 2, 3, 4]))\n"
      ]
    },
    {
      "cell_type": "code",
      "execution_count": 19,
      "metadata": {
        "colab": {
          "base_uri": "https://localhost:8080/"
        },
        "id": "vSQ9RYn2Enp2",
        "outputId": "4e23ae0a-9f51-47ce-8114-f848ceecbbf5"
      },
      "outputs": [
        {
          "name": "stdout",
          "output_type": "stream",
          "text": [
            "[2, 3, 5, 7, 11, 13, 17, 19, 23, 29, 31, 37, 41, 43, 47, 53, 59, 61, 67, 71, 73, 79, 83, 89, 97, 101, 103, 107, 109, 113, 127, 131, 137, 139, 149, 151, 157, 163, 167, 173, 179, 181, 191, 193, 197, 199]\n"
          ]
        }
      ],
      "source": [
        "# 4. Write a Python function that checks if a given number is prime or not from 1 to 200.\n",
        "def is_prime(n):\n",
        "    if n < 2:\n",
        "        return False\n",
        "    for i in range(2, int(n ** 0.5) + 1):\n",
        "        if n % i == 0:\n",
        "            return False\n",
        "    return True\n",
        "\n",
        "primes = [n for n in range(1, 201) if is_prime(n)]\n",
        "print(primes)\n"
      ]
    },
    {
      "cell_type": "code",
      "execution_count": 20,
      "metadata": {
        "colab": {
          "base_uri": "https://localhost:8080/"
        },
        "id": "9s-NpEw6E76Y",
        "outputId": "733e9221-a453-407e-e4fa-4ffe11af1254"
      },
      "outputs": [
        {
          "name": "stdout",
          "output_type": "stream",
          "text": [
            "[1, 1, 2, 3, 5, 8, 13, 21, 34, 55]\n"
          ]
        }
      ],
      "source": [
        "# 5. Create an iterator class in Python that generates the Fibonacci sequence up to a specified number of terms.\n",
        "\n",
        "class Fibonacci:\n",
        "    def __init__(self, n):\n",
        "        self.n, self.a, self.b = n, 0, 1\n",
        "\n",
        "    def __iter__(self):\n",
        "        return self\n",
        "\n",
        "    def __next__(self):\n",
        "        if self.n <= 0:\n",
        "            raise StopIteration\n",
        "        self.n -= 1\n",
        "        self.a, self.b = self.b, self.a + self.b\n",
        "        return self.a\n",
        "\n",
        "fib = Fibonacci(10)\n",
        "print(list(fib))\n"
      ]
    },
    {
      "cell_type": "code",
      "execution_count": 21,
      "metadata": {
        "colab": {
          "base_uri": "https://localhost:8080/"
        },
        "id": "Nrn4aSrGFbZf",
        "outputId": "d04aaac8-432d-43b7-f9dc-a496386c2026"
      },
      "outputs": [
        {
          "name": "stdout",
          "output_type": "stream",
          "text": [
            "[1, 2, 4, 8, 16, 32]\n"
          ]
        }
      ],
      "source": [
        "# 6. Write a generator function in Python that yields the powers of 2 up to a given exponent.\n",
        "def powers_of_2(exp):\n",
        "    for i in range(exp + 1):\n",
        "        yield 2 ** i\n",
        "\n",
        "print(list(powers_of_2(5)))\n"
      ]
    },
    {
      "cell_type": "code",
      "execution_count": 22,
      "metadata": {
        "id": "wP0N7LSGFxn2"
      },
      "outputs": [],
      "source": [
        "# 7. Implement a generator function that reads a file line by line and yields each line as a string.\n",
        "def read_file(file_path):\n",
        "    with open(file_path, 'r') as file:\n",
        "        for line in file:\n",
        "            yield line.strip()\n",
        "\n",
        "# Example usage:\n",
        "# for line in read_file(\"example.txt\"):\n",
        "#     print(line)\n"
      ]
    },
    {
      "cell_type": "code",
      "execution_count": 23,
      "metadata": {
        "colab": {
          "base_uri": "https://localhost:8080/"
        },
        "id": "wPvbZ07BGA4u",
        "outputId": "94e30a81-c2fc-4815-eea3-872559719a1a"
      },
      "outputs": [
        {
          "name": "stdout",
          "output_type": "stream",
          "text": [
            "[(2, 1), (4, 2), (1, 3)]\n"
          ]
        }
      ],
      "source": [
        "# 8. Use a lambda function in Python to sort a list of tuples based on the second element of each tuple.\n",
        "data = [(1, 3), (2, 1), (4, 2)]\n",
        "sorted_data = sorted(data, key=lambda x: x[1])\n",
        "print(sorted_data)\n"
      ]
    },
    {
      "cell_type": "code",
      "execution_count": 24,
      "metadata": {
        "colab": {
          "base_uri": "https://localhost:8080/"
        },
        "id": "hJ3OWDASGPEw",
        "outputId": "ba767615-4923-4f6d-dbcd-1509c0a0f1ef"
      },
      "outputs": [
        {
          "name": "stdout",
          "output_type": "stream",
          "text": [
            "[32.0, 68.0, 86.0, 104.0]\n"
          ]
        }
      ],
      "source": [
        "# 9. Write a Python program that uses map() to convert a list of temperatures from Celsius to Fahrenheit.\n",
        "celsius = [0, 20, 30, 40]\n",
        "fahrenheit = list(map(lambda c: (c * 9/5) + 32, celsius))\n",
        "print(fahrenheit)"
      ]
    },
    {
      "cell_type": "code",
      "execution_count": 25,
      "metadata": {
        "colab": {
          "base_uri": "https://localhost:8080/"
        },
        "id": "panhHpH-EJI9",
        "outputId": "2c2564ee-4817-4470-8ae5-6806c006fa24"
      },
      "outputs": [
        {
          "name": "stdout",
          "output_type": "stream",
          "text": [
            "hll wrld\n"
          ]
        }
      ],
      "source": [
        "# 10. Create a Python program that uses filter() to remove all the vowels from a given string.\n",
        "def remove_vowels(s):\n",
        "    return ''.join(filter(lambda ch: ch.lower() not in 'aeiou', s))\n",
        "\n",
        "print(remove_vowels(\"hello world\"))"
      ]
    },
    {
      "cell_type": "code",
      "execution_count": 27,
      "metadata": {
        "colab": {
          "base_uri": "https://localhost:8080/"
        },
        "id": "RXTGso-wGbDz",
        "outputId": "e94f9c69-6c0a-4c77-ecc5-a700f9f3c732"
      },
      "outputs": [
        {
          "name": "stdout",
          "output_type": "stream",
          "text": [
            "[(34587, 163.8), (98762, 284.0), (77226, 108.85000000000001), (88112, 84.97)]\n"
          ]
        }
      ],
      "source": [
        "'''\n",
        "Imagine an accounting routine used in a book shop. It works on a list with sublists, which look like this:\n",
        "Write a Python program, which returns a list with 2-tuples. Each tuple consists of the order number and the\n",
        "product of the price per item and the quantity. The product should be increased by 10,- € if the value of the\n",
        "order is smaller than 100,00 €.\n",
        "Write a Python program using lambda and map.\n",
        "\n",
        "'''\n",
        "orders = [\n",
        "    (34587, \"Learning Python, Mark Lutz\", 4, 40.95),\n",
        "    (98762, \"Programming Python, Mark Lutz\", 5, 56.80),\n",
        "    (77226, \"Head First Python, Paul Barry\", 3, 32.95),\n",
        "    (88112, \"Einführung in Python3, Bernd Klein\", 3, 24.99)\n",
        "]\n",
        "\n",
        "order_totals = list(map(lambda x: (x[0], x[2] * x[3] if x[2] * x[3] >= 100 else x[2] * x[3] + 10), orders))\n",
        "\n",
        "print(order_totals)\n"
      ]
    },
    {
      "cell_type": "code",
      "execution_count": null,
      "metadata": {
        "id": "AJkXi0jKHMXO"
      },
      "outputs": [],
      "source": []
    }
  ],
  "metadata": {
    "colab": {
      "provenance": []
    },
    "kernelspec": {
      "display_name": "Python 3",
      "name": "python3"
    },
    "language_info": {
      "codemirror_mode": {
        "name": "ipython",
        "version": 3
      },
      "file_extension": ".py",
      "mimetype": "text/x-python",
      "name": "python",
      "nbconvert_exporter": "python",
      "pygments_lexer": "ipython3",
      "version": "3.12.8"
    }
  },
  "nbformat": 4,
  "nbformat_minor": 0
}
