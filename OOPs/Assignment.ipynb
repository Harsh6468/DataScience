{
 "cells": [
  {
   "cell_type": "markdown",
   "metadata": {},
   "source": [
    "## **Object-Oriented Programming**"
   ]
  },
  {
   "cell_type": "markdown",
   "metadata": {},
   "source": [
    "### **Theory Question**"
   ]
  },
  {
   "cell_type": "markdown",
   "metadata": {},
   "source": [
    "### **1. What is Object-Oriented Programming (OOP)?**\n",
    "- Object-Oriented Programming (OOP) is a programming paradigm based on the concept of \"objects\" that encapsulate data (attributes) and behavior (methods). It allows code to be modular, reusable, and scalable. OOP is based on four main principles: Encapsulation, Abstraction, Inheritance, and Polymorphism."
   ]
  },
  {
   "cell_type": "markdown",
   "metadata": {},
   "source": [
    "### **2. What is a class in OOP?**\n",
    "- A class is a blueprint for creating objects. It defines a set of attributes (variables) and methods (functions) that the objects created from the class will have."
   ]
  },
  {
   "cell_type": "markdown",
   "metadata": {},
   "source": [
    "### **3. What is an object in OOP?**\n",
    "- An object is an instance of a class. It has its own state (attribute values) and can perform actions using the class methods."
   ]
  },
  {
   "cell_type": "markdown",
   "metadata": {},
   "source": [
    "### **4. What is the difference between abstraction and encapsulation?**\n",
    "- \n",
    "    | Feature   | Abstraction   | Encapsulation |\n",
    "    |-----------|---------------|---------------|\n",
    "    |Definition\t|Hides implementation details and shows only relevant information.\t| Restricts direct access to data by using access modifiers.|\n",
    "    |Purpose\t|Focuses on what an object does.\t|Focuses on how data is protected inside an object.|\n",
    "    |Implementation\t|Achieved using abstract classes and interfaces.\t|Achieved using private/protected variables and getter/setter methods.|"
   ]
  },
  {
   "cell_type": "markdown",
   "metadata": {},
   "source": [
    "### **5. What are dunder methods in Python?**\n",
    "- Dunder methods, also called **magic methods**, are special methods in Python that start and end with double underscores (`__`). They are used to define how objects behave in specific situations, such as initialization, representation, arithmetic operations, and comparison.\n",
    "\n",
    "    **Common Dunder Methods:**\n",
    "\n",
    "    | Dunder Method | Purpose |\n",
    "    |--------------|---------|\n",
    "    | `__init__` | Constructor (initializes an object) |\n",
    "    | `__str__` | Returns a human-readable string representation |\n",
    "    | `__repr__` | Returns an unambiguous string representation |\n",
    "    | `__len__` | Defines behavior for `len(obj)` |\n",
    "    | `__add__` | Defines behavior for `+` operator |\n",
    "    | `__sub__` | Defines behavior for `-` operator |\n",
    "    | `__eq__` | Defines behavior for `==` operator |\n",
    "    | `__lt__` | Defines behavior for `<` operator |\n",
    "    | `__getitem__` | Enables indexing (`obj[key]`) |\n",
    "    | `__setitem__` | Allows setting values (`obj[key] = value`) |\n"
   ]
  },
  {
   "cell_type": "markdown",
   "metadata": {},
   "source": [
    "### **6. Explain the concept of inheritance in OOP?**\n",
    "- **Inheritance** is a fundamental concept in OOP that allows a class (called the **child** or **subclass**) to derive properties and behaviors from another class (called the **parent** or **superclass**). This promotes **code reuse** and **modularity**, enabling hierarchical relationships between classes.\n",
    "\n",
    "    Python supports multiple types of inheritance:\n",
    "\n",
    "    1. **Single Inheritance** – A subclass inherits from one superclass.  \n",
    "    2. **Multiple Inheritance** – A subclass inherits from multiple superclasses.  \n",
    "    3. **Multilevel Inheritance** – A subclass inherits from another subclass.  \n",
    "    4. **Hierarchical Inheritance** – Multiple subclasses inherit from a single superclass.  \n",
    "    5. **Hybrid Inheritance** – A combination of two or more types of inheritance."
   ]
  },
  {
   "cell_type": "markdown",
   "metadata": {},
   "source": [
    "### **7. What is polymorphism in OOP?**\n",
    "- Polymorphism allows objects of different classes to be treated as objects of a common base class. It enables a single interface to be used for different data types.\n",
    "\n",
    "Example of polymorphism:\n",
    "```python\n",
    "class Cat:\n",
    "    def speak(self):\n",
    "        return \"Meow\"\n",
    "\n",
    "class Dog:\n",
    "    def speak(self):\n",
    "        return \"Bark\"\n",
    "\n",
    "def animal_sound(animal):\n",
    "    return animal.speak()\n",
    "\n",
    "c = Cat()\n",
    "d = Dog()\n",
    "print(animal_sound(c))\n",
    "print(animal_sound(d))\n",
    "```"
   ]
  },
  {
   "cell_type": "markdown",
   "metadata": {},
   "source": [
    "### **8. How is Encapsulation Achieved in Python?**  \n",
    "**Encapsulation** restricts access to certain attributes and methods of an object.  \n",
    "- **Public members:** Accessible from anywhere.  \n",
    "- **Protected members (`_var`)**: Suggests restricted access (not enforced).  \n",
    "- **Private members (`__var`)**: Name mangling prevents direct access.  \n",
    "\n",
    "Example:  \n",
    "```python\n",
    "class Car:\n",
    "    def __init__(self, brand):\n",
    "        self.brand = brand\n",
    "        self._speed = 0\n",
    "        self.__engine = \"V8\"\n",
    "\n",
    "car = Car(\"Lamborghini\")\n",
    "print(car.brand)\n",
    "print(car._speed)\n",
    "```"
   ]
  },
  {
   "cell_type": "markdown",
   "metadata": {},
   "source": [
    "### **9. What is a Constructor in Python?**  \n",
    "A **constructor** is a special method (`__init__`) called when an object is created.  \n",
    "\n",
    "Example:  \n",
    "```python\n",
    "class Person:\n",
    "    def __init__(self, name, age):\n",
    "        self.name = name\n",
    "        self.age = age\n",
    "\n",
    "p = Person(\"Harsh\", 30)\n",
    "print(p.name)\n",
    "```"
   ]
  },
  {
   "cell_type": "markdown",
   "metadata": {},
   "source": [
    "### **10. Class and Static Methods in Python**  \n",
    "- **Class Method (`@classmethod`)**: Works with the class rather than an instance.  \n",
    "- **Static Method (`@staticmethod`)**: Doesn’t modify class or instance state.  \n",
    "\n",
    "Example:  \n",
    "```python\n",
    "class Demo:\n",
    "    class_var = \"Class Variable\"\n",
    "\n",
    "    @classmethod\n",
    "    def class_method(cls):\n",
    "        return cls.class_var\n",
    "\n",
    "    @staticmethod\n",
    "    def static_method():\n",
    "        return \"Static Method\"\n",
    "\n",
    "print(Demo.class_method())\n",
    "print(Demo.static_method())\n",
    "```"
   ]
  },
  {
   "cell_type": "markdown",
   "metadata": {},
   "source": [
    "### **11. Method Overloading in Python**  \n",
    "Python **does not support traditional method overloading**, but we can achieve it using default arguments or `*args`.  \n",
    "\n",
    "```python\n",
    "class Math:\n",
    "    def add(self, a, b, c=0):\n",
    "        return a + b + c\n",
    "\n",
    "m = Math()\n",
    "print(m.add(2, 3))\n",
    "print(m.add(2, 3, 4))\n",
    "```"
   ]
  },
  {
   "cell_type": "markdown",
   "metadata": {},
   "source": [
    "### **12. What is method overriding in OOP?**  \n",
    "Occurs when a subclass gives different implementation for method in the super classs.  \n",
    "\n",
    "```python\n",
    "class Parent:\n",
    "    def show(self):\n",
    "        return \"Parent\"\n",
    "\n",
    "class Child(Parent):\n",
    "    def show(self):\n",
    "        return \"Child\"\n",
    "\n",
    "c = Child()\n",
    "print(c.show())\n",
    "```"
   ]
  },
  {
   "cell_type": "markdown",
   "metadata": {},
   "source": [
    "### **13. What is a property decorator in Python?**  \n",
    "The @property decorator in Python is used to define getter methods in a class, allowing controlled access to instance attributes. It provides a way to use methods as attributes, preventing direct modification while still allowing retrieval.\n",
    "```python\n",
    "class Person:\n",
    "    def __init__(self, name):\n",
    "        self._name = name\n",
    "\n",
    "    @property\n",
    "    def name(self):\n",
    "        return self._name\n",
    "\n",
    "p = Person(\"Harsh\n",
    "\")\n",
    "print(p.name)\n",
    "```"
   ]
  },
  {
   "cell_type": "markdown",
   "metadata": {},
   "source": [
    "### **14. Why is Polymorphism Important in OOP?**  \n",
    "- Polymorphism is a fundamental concept in Object-Oriented Programming (OOP) that allows objects of different classes to be treated as objects of a common superclass. It enables a single interface to be used for different data types or classes.\n",
    "- **Code reusability**  \n",
    "- **Flexibility**  \n",
    "- **Scalability**  \n",
    "- **Loose coupling**\n",
    "\n",
    "Example:\n",
    "\n",
    "```python\n",
    "class Animal:\n",
    "    def speak(self):\n",
    "        return \"Animal makes a sound\"\n",
    "\n",
    "class Dog(Animal):\n",
    "    def speak(self):\n",
    "        return \"Woof!\"\n",
    "\n",
    "class Cat(Animal):\n",
    "    def speak(self):\n",
    "        return \"Meow!\"\n",
    "\n",
    "animals = [Dog(), Cat(), Animal()]\n",
    "for animal in animals:\n",
    "    print(animal.speak())\n",
    "# Output:\n",
    "# Woof!\n",
    "# Meow!  \n",
    "# Animal makes a sound\n",
    "```"
   ]
  },
  {
   "cell_type": "markdown",
   "metadata": {},
   "source": [
    "### **15. What is an Abstract Class in Python?**  \n",
    "An **abstract class** is a class which contains at least one abstract method (`@abstractmethod`).  \n",
    "\n",
    "```python\n",
    "from abc import ABC, abstractmethod\n",
    "\n",
    "class Animal(ABC):\n",
    "    @abstractmethod\n",
    "    def speak(self):\n",
    "        pass\n",
    "\n",
    "class Dog(Animal):\n",
    "    def speak(self):\n",
    "        return \"Bark\"\n",
    "\n",
    "d = Dog()\n",
    "print(d.speak())  # Output: Bark\n",
    "```"
   ]
  },
  {
   "cell_type": "markdown",
   "metadata": {},
   "source": [
    "### **16. What are advantages of OOP?**  \n",
    "- **Code Reusability** – Avoids redundancy.\n",
    "- **Encapsulation** – Hides implementation details.\n",
    "- **Polymorphism** – Enables dynamic behavior.\n",
    "- **Inheritance** – Promotes modularity.\n",
    "- **Abstraction** – Reduces complexity."
   ]
  },
  {
   "cell_type": "markdown",
   "metadata": {},
   "source": [
    "### **17. What is the difference between a class variable and an instance variable?**  \n",
    "- **Class Variable:** Shared by all instances (`cls.var`).\n",
    "- **Instance Variable:** Unique to each instance (`self.var`).\n",
    "\n",
    "```python\n",
    "class Car:\n",
    "    wheels = 4  # Class variable\n",
    "\n",
    "    def __init__(self, brand):\n",
    "        self.brand = brand  # Instance variable\n",
    "\n",
    "car1 = Car(\"Toyota\")\n",
    "car2 = Car(\"Honda\")\n",
    "\n",
    "print(car1.wheels)  # Output: 4\n",
    "print(car2.wheels)  # Output: 4\n",
    "\n",
    "Car.wheels = 6\n",
    "print(car1.wheels)  # Output: 6\n",
    "print(car2.wheels)  # Output: 6\n",
    "```"
   ]
  },
  {
   "cell_type": "markdown",
   "metadata": {},
   "source": [
    "### **18. What is Multiple Inheritance in Python?**\n",
    "When a class inherits multiple class is called multiple inheritance.\n",
    "\n",
    "```python\n",
    "class A:\n",
    "    def method_a(self):\n",
    "        return \"A\"\n",
    "\n",
    "class B:\n",
    "    def method_b(self):\n",
    "        return \"B\"\n",
    "\n",
    "class C(A, B):\n",
    "    pass\n",
    "\n",
    "c = C()\n",
    "print(c.method_a())  # Output: A\n",
    "print(c.method_b())  # Output: B\n",
    "```"
   ]
  },
  {
   "cell_type": "markdown",
   "metadata": {},
   "source": [
    "### **19. What is the purpose of `__str__` and `__repr__` method in python?**  \n",
    "- `__str__` → User-friendly string representation.  \n",
    "- `__repr__` → Detailed representation for debugging.\n",
    "\n",
    "```python\n",
    "class Car:\n",
    "    def __str__(self):\n",
    "        return \"Car object\"\n",
    "\n",
    "    def __repr__(self):\n",
    "        return \"Car('Brand', 'Model')\"\n",
    "\n",
    "car = Car()\n",
    "print(str(car))   # Output: Car object\n",
    "print(repr(car))  # Output: Car('Brand', 'Model')\n",
    "```"
   ]
  },
  {
   "cell_type": "markdown",
   "metadata": {},
   "source": [
    "### **20. What is the significance of `super()` function in Python?**  \n",
    "The super() function in Python is used to call methods from the parent (superclass) class inside a child (subclass) class. It is primarily used in inheritance to avoid redundant code and allow for method overriding while still utilizing the parent class functionality.\n",
    "```python\n",
    "class Parent:\n",
    "    def show(self):\n",
    "        return \"Parent\"\n",
    "\n",
    "class Child(Parent):\n",
    "    def show(self):\n",
    "        return super().show() + \" -> Child\"\n",
    "\n",
    "c = Child()\n",
    "print(c.show())  # Output: Parent -> Child\n",
    "```"
   ]
  },
  {
   "cell_type": "markdown",
   "metadata": {},
   "source": [
    "### **21. What is the significance of `__del__` method in Python?**  \n",
    "The `__del__` method in Python is a destructor method that is called when an object is about to be destroyed (garbage collected). It allows you to define cleanup actions, such as closing files, releasing memory, or disconnecting from databases before the object is removed from memory.\n",
    "\n",
    "```python\n",
    "class Demo:\n",
    "    def __del__(self):\n",
    "        print(\"Object deleted\")\n",
    "\n",
    "d = Demo()\n",
    "del d  # Output: Object deleted\n",
    "```"
   ]
  },
  {
   "cell_type": "markdown",
   "metadata": {},
   "source": [
    "### **22. What is the difference between @staticmethod and @classmethod in Python?**\n",
    "- Both `@staticmethod` and `@classmethod` are used to define **methods inside a class** that are not **instance methods** (i.e., they don’t operate on instance-specific data). However, they have key differences.\n",
    "\n",
    "| Feature         | `@staticmethod`                      | `@classmethod`                      |\n",
    "|----------------|----------------------------------|----------------------------------|\n",
    "| **Receives**   | No `self` or `cls` parameter  | `cls` (class reference)        |\n",
    "| **Can modify class variables?** | No  | Yes |\n",
    "| **Can modify instance variables?** | No | No |\n",
    "| **Use case**  | Utility functions | Modifying class-level data |\n",
    "\n",
    "\n",
    "#### **Example of `@staticmethod`**\n",
    "```python\n",
    "class MathOperations:\n",
    "    @staticmethod\n",
    "    def add(x, y):\n",
    "        return x + y\n",
    "\n",
    "print(MathOperations.add(5, 3))  # Output: 8\n",
    "```\n",
    "\n",
    "#### **Example of `@classmethod`**\n",
    "```python\n",
    "class Employee:\n",
    "    company_name = \"TechCorp\"\n",
    "\n",
    "    @classmethod\n",
    "    def set_company_name(cls, name):\n",
    "        cls.company_name = name\n",
    "\n",
    "print(Employee.company_name)  # Output: TechCorp\n",
    "\n",
    "Employee.set_company_name(\"NewTech\")\n",
    "\n",
    "print(Employee.company_name)  # Output: NewTech\n",
    "```\n",
    "\n",
    "#### **When to Use What?**\n",
    "- **Use `@staticmethod`** when you need a **function inside a class that does not interact with instance or class attributes** (e.g., utility functions).\n",
    "- **Use `@classmethod`** when you need to **modify class-level attributes** or create alternative constructors."
   ]
  },
  {
   "cell_type": "markdown",
   "metadata": {},
   "source": [
    "### **23. How polymorphism works in Python with inheritance?**  \n",
    "\n",
    "- **Polymorphism** in Python allows different classes to share the **same interface** while having different implementations. This means you can call the **same method** on objects of different classes, and each class can define its own behavior for that method.\n",
    "\n",
    "- **Polymorphism with Inheritance**\n",
    "When a child class **inherits** from a parent class, it can **override** its methods to provide a different implementation. This allows the same method name to behave differently based on the object calling it.\n",
    "\n",
    "#### **Example: Polymorphism Using Method Overriding**\n",
    "```python\n",
    "class Animal:\n",
    "    def speak(self):\n",
    "        return \"Animal makes a sound\"\n",
    "\n",
    "class Dog(Animal):\n",
    "    def speak(self):\n",
    "        return \"Woof!\"\n",
    "\n",
    "class Cat(Animal):\n",
    "    def speak(self):\n",
    "        return \"Meow!\"\n",
    "\n",
    "# Using polymorphism\n",
    "animals = [Dog(), Cat(), Animal()]\n",
    "\n",
    "for animal in animals:\n",
    "    print(animal.speak())  # Calls the overridden method in each subclass\n",
    "```\n",
    "**Output:**  \n",
    "```\n",
    "Woof!  \n",
    "Meow!  \n",
    "Animal makes a sound  \n",
    "```\n"
   ]
  },
  {
   "cell_type": "markdown",
   "metadata": {},
   "source": [
    "### **24. What is Method Chaining in Python OOP?**  \n",
    "**Method chaining** in Python OOP allows multiple methods to be called on the same object in a **single statement**. This is done by returning `self` (the instance) from each method, so the next method can be called immediately.\n",
    "\n",
    "#### **Basic Example of Method Chaining**\n",
    "```python\n",
    "class Person:\n",
    "    def __init__(self, name):\n",
    "        self.name = name\n",
    "        self.age = None\n",
    "        self.city = None\n",
    "\n",
    "    def set_age(self, age):\n",
    "        self.age = age\n",
    "        return self\n",
    "\n",
    "    def set_city(self, city):\n",
    "        self.city = city\n",
    "        return self\n",
    "\n",
    "    def display(self):\n",
    "        print(f\"Name: {self.name}, Age: {self.age}, City: {self.city}\")\n",
    "        return self  # Returning self allows further chaining\n",
    "\n",
    "# Method chaining example\n",
    "person = Person(\"Harsh\").set_age(25).set_city(\"Nalanda\").display()\n",
    "```\n",
    "**Output:**  \n",
    "```\n",
    "Name: Harsh, Age: 25, City: Nalanda"
   ]
  },
  {
   "cell_type": "markdown",
   "metadata": {},
   "source": [
    "## **Practicle Questions**"
   ]
  },
  {
   "cell_type": "markdown",
   "metadata": {},
   "source": [
    "#### **1. Create a parent class Animal with a method speak() that prints a generic message. Create a child class Dog that overrides the speak() method to print \"Bark!\".**"
   ]
  },
  {
   "cell_type": "code",
   "execution_count": 2,
   "metadata": {},
   "outputs": [
    {
     "name": "stdout",
     "output_type": "stream",
     "text": [
      "Bark!\n"
     ]
    }
   ],
   "source": [
    "class Animal:\n",
    "    def speak(self):\n",
    "        return \"Animal makes a sound\"\n",
    "\n",
    "class Dog(Animal):\n",
    "    def speak(self):\n",
    "        return \"Bark!\"\n",
    "\n",
    "\n",
    "animals = Dog()\n",
    "print(animals.speak())"
   ]
  },
  {
   "cell_type": "markdown",
   "metadata": {},
   "source": [
    "#### **2.  Write a program to create an abstract class Shape with a method area(). Derive classes Circle and Rectangle from it and implement the area() method in both.**"
   ]
  },
  {
   "cell_type": "code",
   "execution_count": 4,
   "metadata": {},
   "outputs": [
    {
     "name": "stdout",
     "output_type": "stream",
     "text": [
      "78.5\n",
      "20\n"
     ]
    }
   ],
   "source": [
    "from abc import ABC, abstractmethod\n",
    "class Shape(ABC):\n",
    "    @abstractmethod\n",
    "    def area(self):\n",
    "        pass\n",
    "\n",
    "class Circle(Shape):\n",
    "    def area(self, x):\n",
    "        return 3.14 * x * x\n",
    "\n",
    "class Rectangle(Shape):\n",
    "    def area(self, x, y):\n",
    "        return x * y\n",
    "    \n",
    "circle = Circle()\n",
    "rectangle = Rectangle()\n",
    "\n",
    "print(circle.area(5))\n",
    "print(rectangle.area(5, 4))"
   ]
  },
  {
   "cell_type": "markdown",
   "metadata": {},
   "source": [
    "#### **3. Implement a multi-level inheritance scenario where a class Vehicle has an attribute type. Derive a class Car and further derive a class ElectricCar that adds a battery attribute.**"
   ]
  },
  {
   "cell_type": "code",
   "execution_count": 5,
   "metadata": {},
   "outputs": [
    {
     "name": "stdout",
     "output_type": "stream",
     "text": [
      "Vehicle Type: Car\n",
      "Brand: Maruti\n",
      "Battery Capacity: 100 kWh\n"
     ]
    }
   ],
   "source": [
    "class Vehicle:\n",
    "    def __init__(self, vehicle_type):\n",
    "        self.vehicle_type = vehicle_type\n",
    "\n",
    "    def display_type(self):\n",
    "        print(f\"Vehicle Type: {self.vehicle_type}\")\n",
    "\n",
    "class Car(Vehicle):\n",
    "    def __init__(self, vehicle_type, brand):\n",
    "        super().__init__(vehicle_type)\n",
    "        self.brand = brand\n",
    "\n",
    "    def display_car_info(self):\n",
    "        print(f\"Brand: {self.brand}\")\n",
    "\n",
    "class ElectricCar(Car):\n",
    "    def __init__(self, vehicle_type, brand, battery_capacity):\n",
    "        super().__init__(vehicle_type, brand)\n",
    "        self.battery_capacity = battery_capacity\n",
    "\n",
    "    def display_electric_car_info(self):\n",
    "        print(f\"Battery Capacity: {self.battery_capacity} kWh\")\n",
    "\n",
    "cars = ElectricCar(\"Car\", \"Maruti\", 100)\n",
    "\n",
    "cars.display_type()\n",
    "cars.display_car_info()\n",
    "cars.display_electric_car_info()\n"
   ]
  },
  {
   "cell_type": "markdown",
   "metadata": {},
   "source": [
    "\n",
    "\n",
    "#### **4. Demonstrate polymorphism by creating a base class Bird with a method fly(). Create two derived classes Sparrow and Penguin that override the fly() method.**"
   ]
  },
  {
   "cell_type": "code",
   "execution_count": 13,
   "metadata": {},
   "outputs": [
    {
     "name": "stdout",
     "output_type": "stream",
     "text": [
      "Sparrow can fly\n",
      "Penguin can't fly\n"
     ]
    }
   ],
   "source": [
    "class Bird:\n",
    "    def fly():\n",
    "        pass\n",
    "\n",
    "class Sparrow(Bird):\n",
    "    def fly(self):\n",
    "        print(\"Sparrow can fly\")\n",
    "\n",
    "class Penguin(Bird):\n",
    "    def fly(self):\n",
    "        print(\"Penguin can't fly\")\n",
    "\n",
    "sparrow = Sparrow()\n",
    "penguin = Penguin()\n",
    "\n",
    "sparrow.fly()\n",
    "penguin.fly()"
   ]
  },
  {
   "cell_type": "markdown",
   "metadata": {},
   "source": [
    "#### **5. Write a program to demonstrate encapsulation by creating a class BankAccount with private attributes balance and methods to deposit, withdraw, and check balance.**"
   ]
  },
  {
   "cell_type": "code",
   "execution_count": 16,
   "metadata": {},
   "outputs": [
    {
     "name": "stdout",
     "output_type": "stream",
     "text": [
      "Available Balance: 0.0\n",
      "Available Balance: 5000.0\n",
      "Available Balance: 4522.0\n"
     ]
    }
   ],
   "source": [
    "class BankAccount:\n",
    "    def __init__(self):\n",
    "        self.__balance = 0.0\n",
    "    \n",
    "    def deposite(self, amount):\n",
    "        self.__balance += amount\n",
    "\n",
    "    def withdraw(self, amount):\n",
    "        self.__balance -= amount\n",
    "\n",
    "    def check_balance(self):\n",
    "        print(f\"Available Balance: {self.__balance}\")\n",
    "\n",
    "shubhu = BankAccount()\n",
    "shubhu.check_balance()\n",
    "shubhu.deposite(5000)\n",
    "shubhu.check_balance()\n",
    "shubhu.withdraw(478)\n",
    "shubhu.check_balance()"
   ]
  },
  {
   "cell_type": "markdown",
   "metadata": {},
   "source": [
    "#### **6. Demonstrate runtime polymorphism using a method play() in a base class Instrument. Derive classes Guitar and Piano that implement their own version of play().**"
   ]
  },
  {
   "cell_type": "code",
   "execution_count": 18,
   "metadata": {},
   "outputs": [
    {
     "name": "stdout",
     "output_type": "stream",
     "text": [
      "Strumming the guitar 🎸...\n",
      "Playing the piano 🎹...\n"
     ]
    }
   ],
   "source": [
    "class Instrument:\n",
    "    def play(self):\n",
    "        print(\"Playing an instrument...\")\n",
    "\n",
    "class Guitar(Instrument):\n",
    "    def play(self):\n",
    "        print(\"Strumming the guitar 🎸...\")\n",
    "\n",
    "class Piano(Instrument):\n",
    "    def play(self):\n",
    "        print(\"Playing the piano 🎹...\")\n",
    "\n",
    "def perform(instrument):\n",
    "    instrument.play()\n",
    "\n",
    "guitar = Guitar()\n",
    "piano = Piano()\n",
    "\n",
    "perform(guitar)\n",
    "perform(piano)"
   ]
  },
  {
   "cell_type": "markdown",
   "metadata": {},
   "source": [
    "#### **7. Create a class MathOperations with a class method add_numbers() to add two numbers and a static method subtract_numbers() to subtract two numbers.**"
   ]
  },
  {
   "cell_type": "code",
   "execution_count": 21,
   "metadata": {},
   "outputs": [
    {
     "name": "stdout",
     "output_type": "stream",
     "text": [
      "94\n",
      "84\n"
     ]
    }
   ],
   "source": [
    "class MathOperations:\n",
    "    def add_numbers(self, x, y):\n",
    "        return x + y\n",
    "    @staticmethod\n",
    "    def subtract_numbers(x, y):\n",
    "        return x - y\n",
    "\n",
    "operations = MathOperations()\n",
    "print(operations.add_numbers(5, 89))\n",
    "print(operations.subtract_numbers(89, 5))"
   ]
  },
  {
   "cell_type": "markdown",
   "metadata": {},
   "source": [
    "#### **8. Implement a class Person with a class method to count the total number of persons created.**"
   ]
  },
  {
   "cell_type": "code",
   "execution_count": 29,
   "metadata": {},
   "outputs": [
    {
     "name": "stdout",
     "output_type": "stream",
     "text": [
      "4\n"
     ]
    }
   ],
   "source": [
    "class Person:\n",
    "    count = 0\n",
    "\n",
    "    def __init__(self, name):\n",
    "        self.name = name\n",
    "        Person.count += 1\n",
    "    \n",
    "    @classmethod\n",
    "    def total_person(cls):\n",
    "        return cls.count\n",
    "\n",
    "p1 = Person(\"Shubhu\")\n",
    "p2 = Person(\"Ankita\")\n",
    "p3 = Person(\"Nayan\")\n",
    "p4 = Person(\"Namita\")\n",
    "\n",
    "print(Person.total_person())"
   ]
  },
  {
   "cell_type": "markdown",
   "metadata": {},
   "source": [
    "#### **9. Write a class Fraction with attributes numerator and denominator. Override the str method to display the fraction as \"numerator/denominator\".**"
   ]
  },
  {
   "cell_type": "code",
   "execution_count": 34,
   "metadata": {},
   "outputs": [
    {
     "name": "stdout",
     "output_type": "stream",
     "text": [
      "3/7\n"
     ]
    }
   ],
   "source": [
    "class Fraction:\n",
    "    def __init__(self, numerator, denominator):\n",
    "        if denominator == 0:\n",
    "            raise ValueError(\"Can't be divided by zero.\")\n",
    "        self.numerator = numerator\n",
    "        self.denominator = denominator\n",
    "    \n",
    "    def __str__(self):\n",
    "        return f\"{self.numerator}/{self.denominator}\"\n",
    "    \n",
    "f = Fraction(numerator=3, denominator=7)\n",
    "print(str(f))"
   ]
  },
  {
   "cell_type": "markdown",
   "metadata": {},
   "source": [
    "#### **10. Demonstrate operator overloading by creating a class Vector and overriding the add method to add two vectors.**"
   ]
  },
  {
   "cell_type": "code",
   "execution_count": 38,
   "metadata": {},
   "outputs": [
    {
     "name": "stdout",
     "output_type": "stream",
     "text": [
      "Vector v1:  (3, 9)\n",
      "Vector v2:  (4, 7)\n",
      "Sum of v1 and v2:  (7, 16)\n"
     ]
    }
   ],
   "source": [
    "class Vector:\n",
    "    def __init__(self, x, y):\n",
    "        self.x = x\n",
    "        self.y = y\n",
    "\n",
    "    def __add__(self, other):\n",
    "        if not isinstance(other, Vector):\n",
    "            raise TypeError(\"Operand must be an instance of Vector\")\n",
    "        return Vector(self.x + other.x, self.y + other.y)\n",
    "    \n",
    "    def __str__(self):\n",
    "        return f\"({self.x}, {self.y})\"\n",
    "\n",
    "v1 = Vector(3, 9)\n",
    "v2 = Vector(4, 7)\n",
    "\n",
    "v3 = v1 + v2\n",
    "\n",
    "print(\"Vector v1: \", v1)\n",
    "print(\"Vector v2: \", v2)\n",
    "print(\"Sum of v1 and v2: \", v3)"
   ]
  },
  {
   "cell_type": "markdown",
   "metadata": {},
   "source": [
    "#### **11. Create a class Person with attributes name and age. Add a method greet() that prints \"Hello, my name is {name} and I am {age} years old.\"**"
   ]
  },
  {
   "cell_type": "code",
   "execution_count": 40,
   "metadata": {},
   "outputs": [
    {
     "name": "stdout",
     "output_type": "stream",
     "text": [
      "Hello, my name is Harsh and I am 23 years old.\n"
     ]
    }
   ],
   "source": [
    "class Person:\n",
    "    def __init__(self, name, age):\n",
    "        self.name = name\n",
    "        self.age = age\n",
    "    \n",
    "    def greet(self):\n",
    "        print(f\"Hello, my name is {self.name} and I am {self.age} years old.\")\n",
    "\n",
    "p1 = Person(\"Harsh\", 23)\n",
    "p1.greet()"
   ]
  },
  {
   "cell_type": "markdown",
   "metadata": {},
   "source": [
    "#### **12. Implement a class Student with attributes name and grades. Create a method average_grade() to compute the average of the grades.**"
   ]
  },
  {
   "cell_type": "code",
   "execution_count": 46,
   "metadata": {},
   "outputs": [
    {
     "name": "stdout",
     "output_type": "stream",
     "text": [
      "Average grade of Shubhu is 83.60\n"
     ]
    }
   ],
   "source": [
    "class Student:\n",
    "    def __init__(self, name, grades):\n",
    "        self.name = name\n",
    "        self.grades = grades\n",
    "\n",
    "    def average_grade(self):\n",
    "        if not self.grades:\n",
    "            return 0\n",
    "        return sum(self.grades) / len(self.grades)\n",
    "\n",
    "s1 = Student(\"Shubhu\", [75, 89, 81, 94, 79])\n",
    "\n",
    "print(f\"Average grade of {s1.name} is {s1.average_grade():.2f}\")"
   ]
  },
  {
   "cell_type": "markdown",
   "metadata": {},
   "source": [
    "#### **13. Create a class Rectangle with methods set_dimensions() to set the dimensions and area() to calculate the area.**"
   ]
  },
  {
   "cell_type": "code",
   "execution_count": 47,
   "metadata": {},
   "outputs": [
    {
     "name": "stdout",
     "output_type": "stream",
     "text": [
      "Area:  259\n"
     ]
    }
   ],
   "source": [
    "class Rectangle:\n",
    "    def __init__(self, length = 0, width = 0):\n",
    "        self.length = length\n",
    "        self.width = width\n",
    "    \n",
    "    def set_dimensions(self, length, width):\n",
    "        self.length = length\n",
    "        self.width = width\n",
    "\n",
    "    def area(self):\n",
    "        return self.length * self.width\n",
    "\n",
    "r1 = Rectangle()\n",
    "r1.set_dimensions(7, 37)\n",
    "area = r1.area()\n",
    "\n",
    "print(\"Area: \", area)"
   ]
  },
  {
   "cell_type": "markdown",
   "metadata": {},
   "source": [
    "#### **14. Create a class Employee with a method calculate_salary() that computes the salary based on hours worked and hourly rate. Create a derived class Manager that adds a bonus to the salary**"
   ]
  },
  {
   "cell_type": "code",
   "execution_count": 59,
   "metadata": {},
   "outputs": [
    {
     "name": "stdout",
     "output_type": "stream",
     "text": [
      "Shubhu's total salary: ₹41000\n"
     ]
    }
   ],
   "source": [
    "class Employee:\n",
    "    def __init__(self, name, hours_worked, hourly_rate):\n",
    "        self.name = name\n",
    "        self.hours_worked = hours_worked\n",
    "        self.hourly_rate = hourly_rate\n",
    "\n",
    "    def calculate_salary(self):\n",
    "        return self.hours_worked * self.hourly_rate\n",
    "\n",
    "class Manager(Employee):\n",
    "    def __init__(self, name, hours_worked, hourly_rate):\n",
    "        super().__init__(name, hours_worked, hourly_rate)\n",
    "\n",
    "    def give_bonus(self, employee, bonus_amount):\n",
    "        employee.bonus = bonus_amount\n",
    "\n",
    "    def calculate_total_salary(self, employee):\n",
    "        base_salary = employee.calculate_salary()\n",
    "        if hasattr(employee, 'bonus'):\n",
    "            return base_salary + employee.bonus\n",
    "        return base_salary\n",
    "\n",
    "\n",
    "employee = Employee(\"Shubhu\", 200, 200)\n",
    "manager = Manager(\"Harsh\", 40, 500)\n",
    "\n",
    "manager.give_bonus(employee, 1000)\n",
    "\n",
    "total_salary = manager.calculate_total_salary(employee)\n",
    "print(f\"{employee.name}'s total salary: ₹{total_salary}\")"
   ]
  },
  {
   "cell_type": "markdown",
   "metadata": {},
   "source": [
    "#### **15. Create a class Product with attributes name, price, and quantity. Implement a method total_price() that calculates the total price of the product.**"
   ]
  },
  {
   "cell_type": "code",
   "execution_count": 52,
   "metadata": {},
   "outputs": [
    {
     "name": "stdout",
     "output_type": "stream",
     "text": [
      "1600\n",
      "1500\n"
     ]
    }
   ],
   "source": [
    "class Product:\n",
    "    def __init__(self, name, price, quantity):\n",
    "        self.name = name\n",
    "        self.price = price\n",
    "        self.quantity = quantity\n",
    "\n",
    "    def total_price(self):\n",
    "        return self.price * self.quantity\n",
    "\n",
    "product1 = Product(\"Laptop\", 800, 2)\n",
    "product2 = Product(\"Phone\", 500, 3)\n",
    "\n",
    "print(product1.total_price())\n",
    "print(product2.total_price())"
   ]
  },
  {
   "cell_type": "markdown",
   "metadata": {},
   "source": [
    "#### **16. Create a class Animal with an abstract method sound(). Create two derived classes Cow and Sheep that implement the sound() method.**"
   ]
  },
  {
   "cell_type": "code",
   "execution_count": 53,
   "metadata": {},
   "outputs": [
    {
     "name": "stdout",
     "output_type": "stream",
     "text": [
      "Cow Sound: Moo\n",
      "Sheep Sound: Baa\n"
     ]
    }
   ],
   "source": [
    "from abc import ABC, abstractmethod\n",
    "\n",
    "class Animal(ABC):\n",
    "    @abstractmethod\n",
    "    def sound(self):\n",
    "        pass\n",
    "\n",
    "class Cow(Animal):\n",
    "    def sound(self):\n",
    "        return \"Moo\"\n",
    "\n",
    "class Sheep(Animal):\n",
    "    def sound(self):\n",
    "        return \"Baa\"\n",
    "\n",
    "cow = Cow()\n",
    "sheep = Sheep()\n",
    "\n",
    "print(\"Cow Sound:\", cow.sound())\n",
    "print(\"Sheep Sound:\", sheep.sound())"
   ]
  },
  {
   "cell_type": "markdown",
   "metadata": {},
   "source": [
    "#### **17. Create a class Book with attributes title, author, and year_published. Add a method get_book_info() that returns a formatted string with the book's details.**"
   ]
  },
  {
   "cell_type": "code",
   "execution_count": 54,
   "metadata": {},
   "outputs": [
    {
     "name": "stdout",
     "output_type": "stream",
     "text": [
      "'1984' by George Orwell, published in 1949.\n",
      "'To Kill a Mockingbird' by Harper Lee, published in 1960.\n"
     ]
    }
   ],
   "source": [
    "class Book:\n",
    "    def __init__(self, title, author, year_published):\n",
    "        self.title = title\n",
    "        self.author = author\n",
    "        self.year_published = year_published\n",
    "\n",
    "    def get_book_info(self):\n",
    "        return f\"'{self.title}' by {self.author}, published in {self.year_published}.\"\n",
    "\n",
    "\n",
    "book1 = Book(\"1984\", \"George Orwell\", 1949)\n",
    "book2 = Book(\"To Kill a Mockingbird\", \"Harper Lee\", 1960)\n",
    "\n",
    "print(book1.get_book_info())\n",
    "print(book2.get_book_info()) "
   ]
  },
  {
   "cell_type": "markdown",
   "metadata": {},
   "source": [
    "#### **18. Create a class House with attributes address and price. Create a derived class Mansion that adds an attribute number_of_rooms.**"
   ]
  },
  {
   "cell_type": "code",
   "execution_count": 55,
   "metadata": {},
   "outputs": [
    {
     "name": "stdout",
     "output_type": "stream",
     "text": [
      "Address: 123 Main St, Price: $250,000.00\n",
      "Address: 456 Luxury Ave, Price: $1,500,000.00, Rooms: 10\n"
     ]
    }
   ],
   "source": [
    "class House:\n",
    "    def __init__(self, address, price):\n",
    "        self.address = address\n",
    "        self.price = price\n",
    "\n",
    "    def get_details(self):\n",
    "        return f\"Address: {self.address}, Price: ${self.price:,.2f}\"\n",
    "\n",
    "class Mansion(House):\n",
    "    def __init__(self, address, price, number_of_rooms):\n",
    "        super().__init__(address, price)\n",
    "        self.number_of_rooms = number_of_rooms\n",
    "\n",
    "    def get_details(self):\n",
    "        return f\"{super().get_details()}, Rooms: {self.number_of_rooms}\"\n",
    "\n",
    "house = House(\"123 Main St\", 250000)\n",
    "mansion = Mansion(\"456 Luxury Ave\", 1500000, 10)\n",
    "\n",
    "print(house.get_details())\n",
    "print(mansion.get_details())"
   ]
  },
  {
   "cell_type": "code",
   "execution_count": null,
   "metadata": {},
   "outputs": [],
   "source": []
  }
 ],
 "metadata": {
  "kernelspec": {
   "display_name": "Python 3",
   "language": "python",
   "name": "python3"
  },
  "language_info": {
   "codemirror_mode": {
    "name": "ipython",
    "version": 3
   },
   "file_extension": ".py",
   "mimetype": "text/x-python",
   "name": "python",
   "nbconvert_exporter": "python",
   "pygments_lexer": "ipython3",
   "version": "3.13.2"
  }
 },
 "nbformat": 4,
 "nbformat_minor": 2
}
