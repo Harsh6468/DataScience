{
 "cells": [
  {
   "cell_type": "markdown",
   "id": "1d7ce49b",
   "metadata": {},
   "source": [
    "## **Ensemble Learning**"
   ]
  },
  {
   "cell_type": "markdown",
   "id": "24f8fe06",
   "metadata": {},
   "source": [
    "### **Theoretical**"
   ]
  },
  {
   "cell_type": "markdown",
   "id": "d1df54b8",
   "metadata": {},
   "source": [
    "### **1. Can we use Bagging for regression problems?**\n",
    "Yes, Bagging can be used for regression problems. Bagging (Bootstrap Aggregating) is a general-purpose ensemble method that can be applied to both classification and regression. In the regression context, it involves training multiple regressors (e.g., Decision Trees) on different bootstrapped subsets of the training data. The final prediction is obtained by averaging the outputs of all base regressors. This method helps in reducing variance, leading to more robust and stable predictions without significantly increasing bias."
   ]
  },
  {
   "cell_type": "markdown",
   "id": "5bcd9067",
   "metadata": {},
   "source": [
    "### **2. What is the difference between multiple model training and single model training?**\n",
    "Single model training involves creating one predictive model from the entire dataset. While this can be simple and efficient, the model may underfit or overfit depending on its complexity.\n",
    "\n",
    "Multiple model training refers to training several models either independently (like in Bagging) or sequentially (like in Boosting). These models are then combined to make a final prediction. This often results in better generalization, reduced overfitting, and higher accuracy due to the aggregation of diverse model perspectives."
   ]
  },
  {
   "cell_type": "markdown",
   "id": "9f1acb2d",
   "metadata": {},
   "source": [
    "### **3. Explain the concept of feature randomness in Random Forest?**\n",
    "Random Forest introduces feature randomness by selecting a random subset of features at each split when building a tree. This process is called \"feature bagging.\" Instead of using the best split among all features, it chooses the best among a random subset. This ensures the individual trees in the forest are diverse and less correlated, improving overall model performance and generalization while reducing overfitting."
   ]
  },
  {
   "cell_type": "markdown",
   "id": "76cc2704",
   "metadata": {},
   "source": [
    "### **4. What is OOB (Out-of-Bag) Score?**\n",
    "The Out-of-Bag (OOB) Score is an internal validation method used in ensemble techniques like Bagging and Random Forest. Each base model is trained on a bootstrap sample, leaving out approximately one-third of the data. These left-out samples (OOB samples) are used to test the model’s performance. The OOB score gives an unbiased estimate of model accuracy without requiring a separate validation set."
   ]
  },
  {
   "cell_type": "markdown",
   "id": "939fd43a",
   "metadata": {},
   "source": [
    "### **5. How can you measure the importance of features in a Random Forest model?**\n",
    "Random Forest models measure feature importance in two common ways:\n",
    "1. Mean Decrease in Impurity (Gini Importance): Measures how much each feature contributes to decreasing the impurity across all trees.\n",
    "2. Permutation Importance: Randomly shuffles each feature and observes the increase in model error. A significant increase indicates a more important feature.\n",
    "\n",
    "These methods help understand which features are most influential in prediction."
   ]
  },
  {
   "cell_type": "markdown",
   "id": "6bb614bf",
   "metadata": {},
   "source": [
    "### **6. Explain the working principle of a Bagging Classifier.**\n",
    "A Bagging Classifier builds multiple models (e.g., decision trees) on different bootstrapped subsets of the training data. Each model is trained independently. During prediction, the outputs of these models are combined using a majority vote (for classification) or average (for regression). This reduces variance and improves the model’s generalization performance."
   ]
  },
  {
   "cell_type": "markdown",
   "id": "7181a0c3",
   "metadata": {},
   "source": [
    "### **7. How do you evaluate a Bagging Classifier’s performance?**\n",
    "You can evaluate a Bagging Classifier using various classification metrics, such as:\n",
    "- Accuracy\n",
    "- Precision\n",
    "- Recall\n",
    "- F1-Score\n",
    "- ROC-AUC Score\n",
    "\n",
    "Additionally, Out-of-Bag (OOB) error estimation can be used for validation without needing a separate test set. Cross-validation is also a common method."
   ]
  },
  {
   "cell_type": "markdown",
   "id": "d1c1cea8",
   "metadata": {},
   "source": [
    "### **8. How does a Bagging Regressor work?**\n",
    "A Bagging Regressor works by training multiple regression models (e.g., decision trees) on bootstrapped datasets. Each model makes a prediction, and the final output is the average of all these predictions. This helps to reduce the model variance and leads to more stable and accurate predictions."
   ]
  },
  {
   "cell_type": "markdown",
   "id": "0772a192",
   "metadata": {},
   "source": [
    "### **9. What is the main advantage of ensemble techniques?**\n",
    "The main advantage is improved prediction accuracy through the combination of multiple models. Ensemble methods reduce overfitting (variance), underfitting (bias), and improve generalization by leveraging the collective knowledge of several models."
   ]
  },
  {
   "cell_type": "markdown",
   "id": "f8644cf2",
   "metadata": {},
   "source": [
    "### **10. What is the main challenge of ensemble methods?**\n",
    "The biggest challenges include:\n",
    "- Increased computational cost and training time.\n",
    "- Reduced interpretability.\n",
    "- Complexity in model tuning.\n",
    "- Risk of overfitting if not properly validated (especially in Boosting)."
   ]
  },
  {
   "cell_type": "markdown",
   "id": "a053304e",
   "metadata": {},
   "source": [
    "### **11. Explain the key idea behind ensemble techniques.**\n",
    "The core idea is to combine multiple weak learners (models that individually perform slightly better than random guessing) to form a strong learner. By aggregating diverse models—each capturing different patterns or errors—the ensemble typically performs better than any individual model."
   ]
  },
  {
   "cell_type": "markdown",
   "id": "0741d312",
   "metadata": {},
   "source": [
    "### **12. What is a Random Forest Classifier?**\n",
    "A Random Forest Classifier is an ensemble learning method that constructs multiple decision trees using bagged subsets of data and feature subsets. Each tree votes for a class, and the final prediction is based on majority voting. It’s known for being accurate, robust, and resistant to overfitting."
   ]
  },
  {
   "cell_type": "markdown",
   "id": "600d0693",
   "metadata": {},
   "source": [
    "### **13. What are the main types of ensemble techniques?**\n",
    "The main types are:\n",
    "- Bagging (e.g., Random Forest)\n",
    "- Boosting (e.g., AdaBoost, Gradient Boosting, XGBoost)\n",
    "- Stacking (combining heterogeneous models)\n",
    "- Voting (hard/soft voting from different models)\n",
    "- Blending (a simplified version of stacking)"
   ]
  },
  {
   "cell_type": "markdown",
   "id": "6d4f134e",
   "metadata": {},
   "source": [
    "### **14. What is ensemble learning in machine learning?**\n",
    "Ensemble learning involves combining multiple models to improve overall performance. Instead of relying on a single model, ensembles use the strengths of multiple models to produce more accurate, stable, and robust predictions."
   ]
  },
  {
   "cell_type": "markdown",
   "id": "d356c6d6",
   "metadata": {},
   "source": [
    "### **15. When should we avoid using ensemble methods?**\n",
    "Avoid ensemble methods when:\n",
    "- The dataset is very small.\n",
    "- Model explainability is critical.\n",
    "- There are strict latency or computational constraints.\n",
    "- The performance gain is marginal compared to added complexity."
   ]
  },
  {
   "cell_type": "markdown",
   "id": "69b26874",
   "metadata": {},
   "source": [
    "### **16. How does Bagging help in reducing overfitting?**\n",
    "Bagging reduces overfitting by introducing variance among base learners through bootstrap sampling. Averaging multiple predictions reduces the variance of the final model, making it more stable and less likely to overfit to the noise in the training data."
   ]
  },
  {
   "cell_type": "markdown",
   "id": "161ef532",
   "metadata": {},
   "source": [
    "### **17. Why is Random Forest better than a single Decision Tree?**\n",
    "Random Forest is better because:\n",
    "- It reduces overfitting by averaging many uncorrelated trees.\n",
    "- It improves accuracy and robustness.\n",
    "- It handles noise and outliers better.\n",
    "- It provides better generalization to unseen data."
   ]
  },
  {
   "cell_type": "markdown",
   "id": "9daa7a97",
   "metadata": {},
   "source": [
    "### **18. What is the role of bootstrap sampling in Bagging?**\n",
    "Bootstrap sampling involves sampling data points with replacement to form new training sets. This ensures each base model gets a different subset, increasing model diversity. When their outputs are aggregated, the ensemble benefits from reduced variance and better performance."
   ]
  },
  {
   "cell_type": "markdown",
   "id": "ee01bf91",
   "metadata": {},
   "source": [
    "### **19. What are some real-world applications of ensemble techniques?**\n",
    "- Finance: Credit scoring, stock prediction.\n",
    "- Healthcare: Disease diagnosis, risk prediction.\n",
    "- E-commerce: Recommendation systems, fraud detection.\n",
    "- Image Recognition: Object detection, facial recognition.\n",
    "- Natural Language Processing: Sentiment analysis, spam detection."
   ]
  },
  {
   "cell_type": "markdown",
   "id": "8a01888f",
   "metadata": {},
   "source": [
    "### **20. What is the difference between Bagging and Boosting?**\n",
    "| Feature     | Bagging                    | Boosting                        |\n",
    "| ----------- | -------------------------- | ------------------------------- |\n",
    "| Training    | Parallel                   | Sequential                      |\n",
    "| Goal        | Reduce variance            | Reduce bias                     |\n",
    "| Model Focus | Equal weight on all models | Later models fix earlier errors |\n",
    "| Example     | Random Forest              | AdaBoost, XGBoost               |\n",
    "| Risk        | Less prone to overfitting  | More prone to overfitting       |\n"
   ]
  },
  {
   "cell_type": "markdown",
   "id": "f5ae2c1d",
   "metadata": {},
   "source": [
    "### **Practical**"
   ]
  },
  {
   "cell_type": "code",
   "execution_count": 1,
   "id": "cd7eae02",
   "metadata": {},
   "outputs": [
    {
     "name": "stdout",
     "output_type": "stream",
     "text": [
      "Bagging Classifier Accuracy: 0.8933333333333333\n"
     ]
    }
   ],
   "source": [
    "# 21. Train a Bagging Classifier using Decision Trees on a sample dataset and print model accuracy.\n",
    "from sklearn.datasets import make_classification\n",
    "from sklearn.model_selection import train_test_split\n",
    "from sklearn.ensemble import BaggingClassifier\n",
    "from sklearn.tree import DecisionTreeClassifier\n",
    "from sklearn.metrics import accuracy_score\n",
    "\n",
    "X, y = make_classification(n_samples=1000, n_features=20, n_informative=15, random_state=1)\n",
    "X_train, X_test, y_train, y_test = train_test_split(X, y, test_size=0.3, random_state=1)\n",
    "\n",
    "model = BaggingClassifier(estimator=DecisionTreeClassifier(), n_estimators=50, random_state=1)\n",
    "model.fit(X_train, y_train)\n",
    "y_pred = model.predict(X_test)\n",
    "print(\"Bagging Classifier Accuracy:\", accuracy_score(y_test, y_pred))"
   ]
  },
  {
   "cell_type": "code",
   "execution_count": 2,
   "id": "07fd8cb7",
   "metadata": {},
   "outputs": [
    {
     "name": "stdout",
     "output_type": "stream",
     "text": [
      "Bagging Regressor MSE: 5021.000687070409\n"
     ]
    }
   ],
   "source": [
    "# 22. Train a Bagging Regressor using Decision Trees and evaluate using Mean Squared Error (MSE).\n",
    "from sklearn.datasets import make_regression\n",
    "from sklearn.ensemble import BaggingRegressor\n",
    "from sklearn.tree import DecisionTreeRegressor\n",
    "from sklearn.metrics import mean_squared_error\n",
    "\n",
    "X, y = make_regression(n_samples=1000, n_features=10, noise=0.3, random_state=1)\n",
    "X_train, X_test, y_train, y_test = train_test_split(X, y, test_size=0.3, random_state=1)\n",
    "\n",
    "model = BaggingRegressor(estimator=DecisionTreeRegressor(), n_estimators=50, random_state=1)\n",
    "model.fit(X_train, y_train)\n",
    "y_pred = model.predict(X_test)\n",
    "print(\"Bagging Regressor MSE:\", mean_squared_error(y_test, y_pred))\n"
   ]
  },
  {
   "cell_type": "code",
   "execution_count": 3,
   "id": "66c3abee",
   "metadata": {},
   "outputs": [
    {
     "name": "stdout",
     "output_type": "stream",
     "text": [
      "mean radius: 0.0581\n",
      "mean texture: 0.0154\n",
      "mean perimeter: 0.0736\n",
      "mean area: 0.0476\n",
      "mean smoothness: 0.0055\n",
      "mean compactness: 0.0056\n",
      "mean concavity: 0.0682\n",
      "mean concave points: 0.0818\n",
      "mean symmetry: 0.0028\n",
      "mean fractal dimension: 0.0028\n",
      "radius error: 0.0230\n",
      "texture error: 0.0032\n",
      "perimeter error: 0.0063\n",
      "area error: 0.0317\n",
      "smoothness error: 0.0037\n",
      "compactness error: 0.0033\n",
      "concavity error: 0.0033\n",
      "concave points error: 0.0057\n",
      "symmetry error: 0.0038\n",
      "fractal dimension error: 0.0043\n",
      "worst radius: 0.0895\n",
      "worst texture: 0.0192\n",
      "worst perimeter: 0.1411\n",
      "worst area: 0.1152\n",
      "worst smoothness: 0.0086\n",
      "worst compactness: 0.0142\n",
      "worst concavity: 0.0200\n",
      "worst concave points: 0.1252\n",
      "worst symmetry: 0.0101\n",
      "worst fractal dimension: 0.0068\n"
     ]
    }
   ],
   "source": [
    "# 23. Train a Random Forest Classifier on the Breast Cancer dataset and print feature importance scores.\n",
    "from sklearn.datasets import load_breast_cancer\n",
    "from sklearn.ensemble import RandomForestClassifier\n",
    "\n",
    "data = load_breast_cancer()\n",
    "X_train, X_test, y_train, y_test = train_test_split(data.data, data.target, test_size=0.3, random_state=1)\n",
    "\n",
    "model = RandomForestClassifier(n_estimators=100, random_state=1)\n",
    "model.fit(X_train, y_train)\n",
    "\n",
    "importances = model.feature_importances_\n",
    "for feature, importance in zip(data.feature_names, importances):\n",
    "    print(f\"{feature}: {importance:.4f}\")\n"
   ]
  },
  {
   "cell_type": "code",
   "execution_count": 4,
   "id": "773fc7b8",
   "metadata": {},
   "outputs": [
    {
     "name": "stdout",
     "output_type": "stream",
     "text": [
      "Random Forest Regressor MSE: 0.04202982456140351\n",
      "Decision Tree Regressor MSE: 0.07017543859649122\n"
     ]
    }
   ],
   "source": [
    "# 24. Train a Random Forest Regressor and compare its performance with a single Decision Tree.\n",
    "from sklearn.ensemble import RandomForestRegressor\n",
    "from sklearn.tree import DecisionTreeRegressor\n",
    "\n",
    "rf = RandomForestRegressor(n_estimators=100, random_state=1)\n",
    "dt = DecisionTreeRegressor(random_state=1)\n",
    "\n",
    "rf.fit(X_train, y_train)\n",
    "dt.fit(X_train, y_train)\n",
    "\n",
    "rf_pred = rf.predict(X_test)\n",
    "dt_pred = dt.predict(X_test)\n",
    "\n",
    "print(\"Random Forest Regressor MSE:\", mean_squared_error(y_test, rf_pred))\n",
    "print(\"Decision Tree Regressor MSE:\", mean_squared_error(y_test, dt_pred))"
   ]
  },
  {
   "cell_type": "code",
   "execution_count": 5,
   "id": "e1dce8ba",
   "metadata": {},
   "outputs": [
    {
     "name": "stdout",
     "output_type": "stream",
     "text": [
      "Random Forest OOB Score: 0.949748743718593\n"
     ]
    }
   ],
   "source": [
    "# 25. Compute the Out-of-Bag (OOB) Score for a Random Forest Classifier.\n",
    "rf_oob = RandomForestClassifier(n_estimators=100, oob_score=True, random_state=1)\n",
    "rf_oob.fit(X_train, y_train)\n",
    "print(\"Random Forest OOB Score:\", rf_oob.oob_score_)"
   ]
  },
  {
   "cell_type": "code",
   "execution_count": 6,
   "id": "074fd5da",
   "metadata": {},
   "outputs": [
    {
     "name": "stdout",
     "output_type": "stream",
     "text": [
      "Bagging Classifier (SVM) Accuracy: 0.9005847953216374\n"
     ]
    }
   ],
   "source": [
    "# 26. Train a Bagging Classifier using SVM as a base estimator and print accuracy.\n",
    "from sklearn.svm import SVC\n",
    "\n",
    "svm_bag = BaggingClassifier(estimator=SVC(probability=True), n_estimators=10, random_state=1)\n",
    "svm_bag.fit(X_train, y_train)\n",
    "y_pred = svm_bag.predict(X_test)\n",
    "print(\"Bagging Classifier (SVM) Accuracy:\", accuracy_score(y_test, y_pred))"
   ]
  },
  {
   "cell_type": "code",
   "execution_count": 7,
   "id": "08fdce8c",
   "metadata": {},
   "outputs": [
    {
     "name": "stdout",
     "output_type": "stream",
     "text": [
      "Random Forest (10 trees): Accuracy = 0.9357\n",
      "Random Forest (50 trees): Accuracy = 0.9415\n",
      "Random Forest (100 trees): Accuracy = 0.9474\n",
      "Random Forest (200 trees): Accuracy = 0.9532\n"
     ]
    }
   ],
   "source": [
    "# 27. Train a Random Forest Classifier with different numbers of trees and compare accuracy.\n",
    "for n in [10, 50, 100, 200]:\n",
    "    clf = RandomForestClassifier(n_estimators=n, random_state=1)\n",
    "    clf.fit(X_train, y_train)\n",
    "    acc = accuracy_score(y_test, clf.predict(X_test))\n",
    "    print(f\"Random Forest ({n} trees): Accuracy = {acc:.4f}\")\n"
   ]
  },
  {
   "cell_type": "code",
   "execution_count": 8,
   "id": "a34b838d",
   "metadata": {},
   "outputs": [
    {
     "name": "stdout",
     "output_type": "stream",
     "text": [
      "Bagging Classifier (Logistic Regression) AUC Score: 0.9902998236331569\n"
     ]
    }
   ],
   "source": [
    "# 28. Train a Bagging Classifier using Logistic Regression as a base estimator and print AUC score.\n",
    "from sklearn.linear_model import LogisticRegression\n",
    "from sklearn.metrics import roc_auc_score\n",
    "import warnings\n",
    "warnings.filterwarnings(\"ignore\")\n",
    "\n",
    "log_bag = BaggingClassifier(estimator=LogisticRegression(max_iter=1000), n_estimators=10, random_state=1)\n",
    "log_bag.fit(X_train, y_train)\n",
    "probs = log_bag.predict_proba(X_test)[:, 1]\n",
    "print(\"Bagging Classifier (Logistic Regression) AUC Score:\", roc_auc_score(y_test, probs))\n"
   ]
  },
  {
   "cell_type": "code",
   "execution_count": 9,
   "id": "ab0c7cb6",
   "metadata": {},
   "outputs": [
    {
     "name": "stdout",
     "output_type": "stream",
     "text": [
      "Feature 0: Importance = 0.0011\n",
      "Feature 1: Importance = 0.0136\n",
      "Feature 2: Importance = 0.0014\n",
      "Feature 3: Importance = 0.0013\n",
      "Feature 4: Importance = 0.0035\n",
      "Feature 5: Importance = 0.0023\n",
      "Feature 6: Importance = 0.0096\n",
      "Feature 7: Importance = 0.0470\n",
      "Feature 8: Importance = 0.0019\n",
      "Feature 9: Importance = 0.0019\n",
      "Feature 10: Importance = 0.0038\n",
      "Feature 11: Importance = 0.0018\n",
      "Feature 12: Importance = 0.0021\n",
      "Feature 13: Importance = 0.0071\n",
      "Feature 14: Importance = 0.0014\n",
      "Feature 15: Importance = 0.0026\n",
      "Feature 16: Importance = 0.0040\n",
      "Feature 17: Importance = 0.0026\n",
      "Feature 18: Importance = 0.0023\n",
      "Feature 19: Importance = 0.0025\n",
      "Feature 20: Importance = 0.0270\n",
      "Feature 21: Importance = 0.0410\n",
      "Feature 22: Importance = 0.5588\n",
      "Feature 23: Importance = 0.0347\n",
      "Feature 24: Importance = 0.0080\n",
      "Feature 25: Importance = 0.0077\n",
      "Feature 26: Importance = 0.0100\n",
      "Feature 27: Importance = 0.1900\n",
      "Feature 28: Importance = 0.0039\n",
      "Feature 29: Importance = 0.0053\n"
     ]
    }
   ],
   "source": [
    "# 29. Train a Random Forest Regressor and analyze feature importance scores.\n",
    "rf.fit(X_train, y_train)\n",
    "importances = rf.feature_importances_\n",
    "for i, imp in enumerate(importances):\n",
    "    print(f\"Feature {i}: Importance = {imp:.4f}\")"
   ]
  },
  {
   "cell_type": "code",
   "execution_count": 10,
   "id": "bfa38d11",
   "metadata": {},
   "outputs": [
    {
     "name": "stdout",
     "output_type": "stream",
     "text": [
      "Bagging Classifier Accuracy: 0.9532163742690059\n",
      "Random Forest Classifier Accuracy: 0.9415204678362573\n"
     ]
    }
   ],
   "source": [
    "# 30. Train an ensemble model using both Bagging and Random Forest and compare accuracy.\n",
    "bag = BaggingClassifier(estimator=DecisionTreeClassifier(), n_estimators=50, random_state=1)\n",
    "rf = RandomForestClassifier(n_estimators=50, random_state=1)\n",
    "\n",
    "bag.fit(X_train, y_train)\n",
    "rf.fit(X_train, y_train)\n",
    "\n",
    "bag_acc = accuracy_score(y_test, bag.predict(X_test))\n",
    "rf_acc = accuracy_score(y_test, rf.predict(X_test))\n",
    "\n",
    "print(\"Bagging Classifier Accuracy:\", bag_acc)\n",
    "print(\"Random Forest Classifier Accuracy:\", rf_acc)"
   ]
  },
  {
   "cell_type": "code",
   "execution_count": 11,
   "id": "33f17416",
   "metadata": {},
   "outputs": [
    {
     "name": "stdout",
     "output_type": "stream",
     "text": [
      "Best Parameters: {'max_depth': None, 'min_samples_split': 2, 'n_estimators': 50}\n",
      "Best Accuracy: 0.9028571428571428\n"
     ]
    }
   ],
   "source": [
    "# 31. Train a Random Forest Classifier and tune hyperparameters using GridSearchCV.\n",
    "from sklearn.datasets import make_classification\n",
    "from sklearn.model_selection import GridSearchCV, train_test_split\n",
    "from sklearn.ensemble import RandomForestClassifier\n",
    "\n",
    "X, y = make_classification(n_samples=1000, n_features=20, n_informative=10, random_state=1)\n",
    "X_train, X_test, y_train, y_test = train_test_split(X, y, test_size=0.3, random_state=1)\n",
    "\n",
    "param_grid = {\n",
    "    'n_estimators': [50, 100],\n",
    "    'max_depth': [None, 5, 10],\n",
    "    'min_samples_split': [2, 5],\n",
    "}\n",
    "\n",
    "grid_search = GridSearchCV(RandomForestClassifier(random_state=1), param_grid, cv=5, scoring='accuracy')\n",
    "grid_search.fit(X_train, y_train)\n",
    "\n",
    "print(\"Best Parameters:\", grid_search.best_params_)\n",
    "print(\"Best Accuracy:\", grid_search.best_score_)\n"
   ]
  },
  {
   "cell_type": "code",
   "execution_count": 12,
   "id": "f910c651",
   "metadata": {},
   "outputs": [
    {
     "name": "stdout",
     "output_type": "stream",
     "text": [
      "Bagging Regressor (10 estimators): MSE = 0.0901\n",
      "Bagging Regressor (50 estimators): MSE = 0.0835\n",
      "Bagging Regressor (100 estimators): MSE = 0.0820\n"
     ]
    }
   ],
   "source": [
    "# 32. Train a Bagging Regressor with different numbers of base estimators and compare performance.\n",
    "for n in [10, 50, 100]:\n",
    "    model = BaggingRegressor(n_estimators=n, random_state=1)\n",
    "    model.fit(X_train, y_train)\n",
    "    mse = mean_squared_error(y_test, model.predict(X_test))\n",
    "    print(f\"Bagging Regressor ({n} estimators): MSE = {mse:.4f}\")\n"
   ]
  },
  {
   "cell_type": "code",
   "execution_count": 13,
   "id": "514d6192",
   "metadata": {},
   "outputs": [
    {
     "name": "stdout",
     "output_type": "stream",
     "text": [
      "Number of misclassified samples: 25\n"
     ]
    }
   ],
   "source": [
    "# 33. Train a Random Forest Classifier and analyze misclassified samples.\n",
    "model = RandomForestClassifier(random_state=1)\n",
    "model.fit(X_train, y_train)\n",
    "y_pred = model.predict(X_test)\n",
    "\n",
    "misclassified = X_test[y_pred != y_test]\n",
    "print(\"Number of misclassified samples:\", len(misclassified))\n"
   ]
  },
  {
   "cell_type": "code",
   "execution_count": 14,
   "id": "d80403ac",
   "metadata": {},
   "outputs": [
    {
     "name": "stdout",
     "output_type": "stream",
     "text": [
      "Decision Tree Accuracy: 0.83\n",
      "Bagging Classifier Accuracy: 0.9033333333333333\n"
     ]
    }
   ],
   "source": [
    "# 34. Train a Bagging Classifier and compare its performance with a single Decision Tree Classifier.\n",
    "tree = DecisionTreeClassifier(random_state=1)\n",
    "bag = BaggingClassifier(estimator=DecisionTreeClassifier(), n_estimators=50, random_state=1)\n",
    "\n",
    "tree.fit(X_train, y_train)\n",
    "bag.fit(X_train, y_train)\n",
    "\n",
    "print(\"Decision Tree Accuracy:\", accuracy_score(y_test, tree.predict(X_test)))\n",
    "print(\"Bagging Classifier Accuracy:\", accuracy_score(y_test, bag.predict(X_test)))\n"
   ]
  },
  {
   "cell_type": "code",
   "execution_count": 15,
   "id": "33056aaf",
   "metadata": {},
   "outputs": [
    {
     "data": {
      "text/plain": [
       "<sklearn.metrics._plot.confusion_matrix.ConfusionMatrixDisplay at 0x2d8ec66bcb0>"
      ]
     },
     "execution_count": 15,
     "metadata": {},
     "output_type": "execute_result"
    },
    {
     "data": {
      "image/png": "[encoded data removed]",
      "text/plain": [
       "<Figure size 640x480 with 2 Axes>"
      ]
     },
     "metadata": {},
     "output_type": "display_data"
    }
   ],
   "source": [
    "# 35. Train a Random Forest Classifier and visualize the confusion matrix.\n",
    "from sklearn.metrics import confusion_matrix, ConfusionMatrixDisplay\n",
    "\n",
    "model = RandomForestClassifier(random_state=42)\n",
    "model.fit(X_train, y_train)\n",
    "y_pred = model.predict(X_test)\n",
    "\n",
    "cm = confusion_matrix(y_test, y_pred)\n",
    "ConfusionMatrixDisplay(cm).plot()"
   ]
  },
  {
   "cell_type": "code",
   "execution_count": 16,
   "id": "475fa0b4",
   "metadata": {},
   "outputs": [
    {
     "name": "stdout",
     "output_type": "stream",
     "text": [
      "Stacking Classifier Accuracy: 0.9433333333333334\n"
     ]
    }
   ],
   "source": [
    "# 36. Train a Stacking Classifier using Decision Trees, SVM, and Logistic Regression, and compare accuracy.\n",
    "from sklearn.ensemble import StackingClassifier\n",
    "\n",
    "estimators = [\n",
    "    ('tree', DecisionTreeClassifier()),\n",
    "    ('svm', SVC(probability=True)),\n",
    "    ('logreg', LogisticRegression(max_iter=1000))\n",
    "]\n",
    "stack = StackingClassifier(estimators=estimators, final_estimator=LogisticRegression())\n",
    "stack.fit(X_train, y_train)\n",
    "print(\"Stacking Classifier Accuracy:\", stack.score(X_test, y_test))\n"
   ]
  },
  {
   "cell_type": "code",
   "execution_count": 17,
   "id": "97fcb7b6",
   "metadata": {},
   "outputs": [
    {
     "name": "stdout",
     "output_type": "stream",
     "text": [
      "Top 5 Important Features:\n",
      "Feature 1 Importance: 0.1532\n",
      "Feature 0 Importance: 0.1415\n",
      "Feature 17 Importance: 0.1111\n",
      "Feature 12 Importance: 0.0624\n",
      "Feature 19 Importance: 0.0622\n"
     ]
    }
   ],
   "source": [
    "# 37. Train a Random Forest Classifier and print the top 5 most important features.\n",
    "import numpy as np\n",
    "model = RandomForestClassifier(random_state=1)\n",
    "model.fit(X_train, y_train)\n",
    "\n",
    "importances = model.feature_importances_\n",
    "top_indices = np.argsort(importances)[-5:][::-1]\n",
    "print(\"Top 5 Important Features:\")\n",
    "for idx in top_indices:\n",
    "    print(f\"Feature {idx} Importance: {importances[idx]:.4f}\")\n"
   ]
  },
  {
   "cell_type": "code",
   "execution_count": 18,
   "id": "946e8779",
   "metadata": {},
   "outputs": [
    {
     "name": "stdout",
     "output_type": "stream",
     "text": [
      "Precision: 0.8807947019867549\n",
      "Recall: 0.9236111111111112\n",
      "F1-Score: 0.9016949152542373\n"
     ]
    }
   ],
   "source": [
    "# 38. Train a Bagging Classifier and evaluate performance using Precision, Recall, and F1-score.\n",
    "from sklearn.metrics import precision_score, recall_score, f1_score\n",
    "\n",
    "bag = BaggingClassifier(n_estimators=50, random_state=1)\n",
    "bag.fit(X_train, y_train)\n",
    "y_pred = bag.predict(X_test)\n",
    "\n",
    "print(\"Precision:\", precision_score(y_test, y_pred))\n",
    "print(\"Recall:\", recall_score(y_test, y_pred))\n",
    "print(\"F1-Score:\", f1_score(y_test, y_pred))\n"
   ]
  },
  {
   "cell_type": "code",
   "execution_count": 19,
   "id": "e359884a",
   "metadata": {},
   "outputs": [
    {
     "name": "stdout",
     "output_type": "stream",
     "text": [
      "Max Depth = None, Accuracy = 0.9167\n",
      "Max Depth = 5, Accuracy = 0.8967\n",
      "Max Depth = 10, Accuracy = 0.9133\n",
      "Max Depth = 15, Accuracy = 0.9167\n"
     ]
    }
   ],
   "source": [
    "# 39. Train a Random Forest Classifier and analyze the effect of max_depth on accuracy.\n",
    "for depth in [None, 5, 10, 15]:\n",
    "    model = RandomForestClassifier(max_depth=depth, random_state=1)\n",
    "    model.fit(X_train, y_train)\n",
    "    acc = accuracy_score(y_test, model.predict(X_test))\n",
    "    print(f\"Max Depth = {depth}, Accuracy = {acc:.4f}\")"
   ]
  },
  {
   "cell_type": "code",
   "execution_count": 20,
   "id": "1a23f0b8",
   "metadata": {},
   "outputs": [
    {
     "name": "stdout",
     "output_type": "stream",
     "text": [
      "Base Estimator: DecisionTreeRegressor, MSE = 0.0862\n",
      "Base Estimator: KNeighborsRegressor, MSE = 0.0680\n"
     ]
    }
   ],
   "source": [
    "# 40. Train a Bagging Regressor using different base estimators (DecisionTree and KNeighbors) and compare performance.\n",
    "from sklearn.neighbors import KNeighborsRegressor\n",
    "\n",
    "for base in [DecisionTreeRegressor(), KNeighborsRegressor()]:\n",
    "    model = BaggingRegressor(estimator=base, n_estimators=20, random_state=1)\n",
    "    model.fit(X_train, y_train)\n",
    "    mse = mean_squared_error(y_test, model.predict(X_test))\n",
    "    print(f\"Base Estimator: {type(base).__name__}, MSE = {mse:.4f}\")\n"
   ]
  },
  {
   "cell_type": "code",
   "execution_count": 21,
   "id": "e009be1d",
   "metadata": {},
   "outputs": [
    {
     "name": "stdout",
     "output_type": "stream",
     "text": [
      "ROC-AUC Score: 0.9606481481481481\n"
     ]
    }
   ],
   "source": [
    "# 41. Train a Random Forest Classifier and evaluate its performance using ROC-AUC Score.\n",
    "model = RandomForestClassifier(random_state=1)\n",
    "model.fit(X_train, y_train)\n",
    "y_proba = model.predict_proba(X_test)[:, 1]\n",
    "print(\"ROC-AUC Score:\", roc_auc_score(y_test, y_proba))"
   ]
  },
  {
   "cell_type": "code",
   "execution_count": 22,
   "id": "cf61610c",
   "metadata": {},
   "outputs": [
    {
     "name": "stdout",
     "output_type": "stream",
     "text": [
      "Cross-Validation Accuracy Scores: [0.925 0.865 0.905 0.88  0.875]\n",
      "Mean Accuracy: 0.89\n"
     ]
    }
   ],
   "source": [
    "# 42. Train a Bagging Classifier and evaluate its performance using cross-validation.\n",
    "from sklearn.model_selection import cross_val_score\n",
    "\n",
    "bag = BaggingClassifier(n_estimators=50, random_state=1)\n",
    "scores = cross_val_score(bag, X, y, cv=5, scoring='accuracy')\n",
    "print(\"Cross-Validation Accuracy Scores:\", scores)\n",
    "print(\"Mean Accuracy:\", scores.mean())\n"
   ]
  },
  {
   "cell_type": "code",
   "execution_count": 23,
   "id": "3bdb9731",
   "metadata": {},
   "outputs": [
    {
     "data": {
      "text/plain": [
       "<sklearn.metrics._plot.precision_recall_curve.PrecisionRecallDisplay at 0x2d8f2482660>"
      ]
     },
     "execution_count": 23,
     "metadata": {},
     "output_type": "execute_result"
    },
    {
     "data": {
      "image/png": "[encoded data removed]",
      "text/plain": [
       "<Figure size 640x480 with 1 Axes>"
      ]
     },
     "metadata": {},
     "output_type": "display_data"
    }
   ],
   "source": [
    "# 43. Train a Random Forest Classifier and plot the Precision-Recall curve.\n",
    "from sklearn.metrics import precision_recall_curve, PrecisionRecallDisplay\n",
    "\n",
    "model = RandomForestClassifier(random_state=1)\n",
    "model.fit(X_train, y_train)\n",
    "probs = model.predict_proba(X_test)[:, 1]\n",
    "\n",
    "precision, recall, _ = precision_recall_curve(y_test, probs)\n",
    "disp = PrecisionRecallDisplay(precision=precision, recall=recall)\n",
    "disp.plot()\n"
   ]
  },
  {
   "cell_type": "code",
   "execution_count": 24,
   "id": "ac175008",
   "metadata": {},
   "outputs": [
    {
     "name": "stdout",
     "output_type": "stream",
     "text": [
      "Stacking (RF + LogReg) Accuracy: 0.92\n"
     ]
    }
   ],
   "source": [
    "# 44. Train a Stacking Classifier with Random Forest and Logistic Regression and compare accuracy.\n",
    "estimators = [\n",
    "    ('rf', RandomForestClassifier(n_estimators=50)),\n",
    "    ('logreg', LogisticRegression(max_iter=1000))\n",
    "]\n",
    "stack = StackingClassifier(estimators=estimators, final_estimator=LogisticRegression())\n",
    "stack.fit(X_train, y_train)\n",
    "print(\"Stacking (RF + LogReg) Accuracy:\", stack.score(X_test, y_test))\n"
   ]
  },
  {
   "cell_type": "code",
   "execution_count": 25,
   "id": "2f7af617",
   "metadata": {},
   "outputs": [
    {
     "name": "stdout",
     "output_type": "stream",
     "text": [
      "Bootstrap Sample = 0.5, MSE = 0.0876\n",
      "Bootstrap Sample = 0.7, MSE = 0.0877\n",
      "Bootstrap Sample = 1.0, MSE = 0.0837\n"
     ]
    }
   ],
   "source": [
    "# 45. Train a Bagging Regressor with different levels of bootstrap samples and compare performance.\n",
    "for max_samples in [0.5, 0.7, 1.0]:\n",
    "    model = BaggingRegressor(n_estimators=30, max_samples=max_samples, random_state=1)\n",
    "    model.fit(X_train, y_train)\n",
    "    mse = mean_squared_error(y_test, model.predict(X_test))\n",
    "    print(f\"Bootstrap Sample = {max_samples}, MSE = {mse:.4f}\")\n"
   ]
  },
  {
   "cell_type": "code",
   "execution_count": null,
   "id": "869e43b7",
   "metadata": {},
   "outputs": [],
   "source": []
  }
 ],
 "metadata": {
  "kernelspec": {
   "display_name": "venv",
   "language": "python",
   "name": "python3"
  },
  "language_info": {
   "codemirror_mode": {
    "name": "ipython",
    "version": 3
   },
   "file_extension": ".py",
   "mimetype": "text/x-python",
   "name": "python",
   "nbconvert_exporter": "python",
   "pygments_lexer": "ipython3",
   "version": "3.13.2"
  }
 },
 "nbformat": 4,
 "nbformat_minor": 5
}
