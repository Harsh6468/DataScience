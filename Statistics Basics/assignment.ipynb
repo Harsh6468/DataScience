{
 "cells": [
  {
   "cell_type": "markdown",
   "metadata": {},
   "source": [
    "## **Statistics Basics**"
   ]
  },
  {
   "cell_type": "markdown",
   "metadata": {},
   "source": [
    "### **Theory Question**"
   ]
  },
  {
   "cell_type": "markdown",
   "metadata": {},
   "source": [
    "#### **1. What is statistics, and why is it important?**  \n",
    "**Statistics** is the branch of mathematics that deals with collecting, analyzing, interpreting, presenting, and organizing data.  \n",
    "**Importance**:  \n",
    "- It helps in making informed decisions by understanding data trends.  \n",
    "- It plays a critical role in scientific research, business, economics, and public policy by providing evidence-based insights."
   ]
  },
  {
   "cell_type": "markdown",
   "metadata": {},
   "source": [
    "#### **2. What are the two main types of statistics?**\n",
    "The two main types of statistics are:\n",
    "1. **Descriptive Statistics**:  \n",
    "    Descriptive statistics summarize and describe the essential features of a dataset. It focuses on organizing, presenting, and explaining the data to make it easier to understand.  \n",
    "    - **Examples**: Mean, median, mode, range, variance, standard deviation, and visual representations like histograms and pie charts.  \n",
    "    - **Purpose**: To provide a summary of the dataset and highlight patterns or trends without making conclusions beyond the given data.  \n",
    "\n",
    "2. **Inferential Statistics**:  \n",
    "    Inferential statistics allow us to make predictions, generalizations, and inferences about a larger population based on a sample. It uses various techniques like hypothesis testing, confidence intervals, and regression analysis.  \n",
    "    - **Examples**: T-tests, chi-square tests, ANOVA, and regression analysis.  \n",
    "    - **Purpose**: To draw conclusions about a population, test hypotheses, and estimate population parameters."
   ]
  },
  {
   "cell_type": "markdown",
   "metadata": {},
   "source": [
    "#### **3. What are descriptive statistics?**\n",
    "**Descriptive statistics** summarize and organize data to describe its main characteristics. Common descriptive statistics include:\n",
    "- Measures of Central Tendency: Mean, median, and mode.\n",
    "- Measures of Dispersion: Range, variance, and standard deviation.\n",
    "- Measures of Symmetricity: skewness."
   ]
  },
  {
   "cell_type": "markdown",
   "metadata": {},
   "source": [
    "#### **4. What is inferential statistics?**\n",
    "**Inferential statistics** is a branch of statistics that deals with drawing conclusions, making predictions, and testing hypotheses about a population based on a sample of data. It helps researchers go beyond just describing data by allowing them to infer trends, relationships, and probabilities for larger populations."
   ]
  },
  {
   "cell_type": "markdown",
   "metadata": {},
   "source": [
    "#### **5. What is sampling in statistics?**\n",
    "**Sampling** is the process of selecting a subset (called a sample) from a larger population to draw conclusions or make inferences about the entire population. Since it is often impractical, time-consuming, or expensive to collect data from every individual in a population, sampling helps researchers analyze data efficiently while still obtaining reliable insights.\n"
   ]
  },
  {
   "cell_type": "markdown",
   "metadata": {},
   "source": [
    "#### **6. What are the different types of sampling methods?**\n",
    "- **Random Sampling:** Every individual has an equal chance of selection.\n",
    "- **Stratified Sampling:** Population is divided into subgroups, and samples are drawn from each.\n",
    "- **Systematic Sampling:** Selecting every nth individual from a list.\n",
    "- **Cluster Sampling:** Dividing the population into clusters and selecting entire clusters.\n",
    "- **Convenience Sampling:** Selecting samples based on accessibility (non-random)."
   ]
  },
  {
   "cell_type": "markdown",
   "metadata": {},
   "source": [
    "#### **7. What is the difference between random and non-random sampling?**\n",
    "- **Random Sampling:** Every individual has an equal probability of selection, reducing bias (e.g: lottery method).\n",
    "- **Non-Random Sampling:** Selection is based on subjective criteria, which may lead to bias (e.g: convenience sampling).\n"
   ]
  },
  {
   "cell_type": "markdown",
   "metadata": {},
   "source": [
    "#### **8. Define and give examples of qualitative and quantitative data.**\n",
    "- **Qualitative Data:** Non-numerical data that describe qualities or categories (e.g: colors, gender, types of cars).\n",
    "- **Quantitative Data:** Numerical data representing measurable quantities (e.g: height, age, income).\n",
    "\n"
   ]
  },
  {
   "cell_type": "markdown",
   "metadata": {},
   "source": [
    "#### **9. What are the different types of data in statistics?**\n",
    "- **Nominal Data:** Categorical, with no natural order (e.g: eye color).\n",
    "- **Ordinal Data:** Categorical, with a meaningful order but no fixed intervals (e.g: ranking in a competition).\n",
    "- **Interval Data:** Numerical, with equal intervals but no true zero (e.g: temperature in Celsius).\n",
    "- **Ratio Data:** Numerical, with equal intervals and a true zero (e.g: weight, height).\n",
    "\n"
   ]
  },
  {
   "cell_type": "markdown",
   "metadata": {},
   "source": [
    "#### **10. Explain nominal, ordinal, interval, and ratio levels of measurement?**\n",
    "- **Nominal:** Categories without order (e.g: types of fruits).\n",
    "- **Ordinal:** Categories with order but no fixed difference (e.g: satisfaction ratings: poor, good, excellent).\n",
    "- **Interval:** Equal intervals but no true zero (e.g: calendar years, temperature).\n",
    "- **Ratio:** Equal intervals with a true zero, allowing meaningful ratios (e.g: age, speed)."
   ]
  },
  {
   "cell_type": "markdown",
   "metadata": {},
   "source": [
    "#### **11. What is the measure of central tendency?**\n",
    "The measure of central tendency identifies the center of a data distribution. It includes:\n",
    "- **Mean:** Average of the data.\n",
    "- **Median:** Middle value when data is ordered.\n",
    "- **Mode:** Most frequently occurring value."
   ]
  },
  {
   "cell_type": "markdown",
   "metadata": {},
   "source": [
    "#### **12. Define mean, median, and mode.**\n",
    "- **Mean:** Sum of values divided by the number of values. Example: Mean of [2, 4, 6] = (2 + 4 + 6) / 3 = 4.\n",
    "- **Median:** Middle value in an ordered dataset. Example: Median of [1, 3, 7] = 3.\n",
    "- **Mode:** Most frequent value. Example: Mode of [2, 2, 3, 4] = 2."
   ]
  },
  {
   "cell_type": "markdown",
   "metadata": {},
   "source": [
    "#### **13. What is the significance of the measure of central tendency?**\n",
    "It provides a summary of the data, helping to understand its overall trend or typical value. For example, in income data, the mean indicates the average salary, while the median may show the \"typical\" income, especially when the data is skewed."
   ]
  },
  {
   "cell_type": "markdown",
   "metadata": {},
   "source": [
    "#### **14. What is variance, and how is it calculated?**\n",
    "**Variance** measures how spread out data points are around the mean.  \n",
    "- **Calculation**: Variance = average of squared differences from the mean:\n",
    "$$\n",
    "\\sigma^2 = \\frac{\\sum (x_i - \\mu)^2}{N}\n",
    "$$\n"
   ]
  },
  {
   "cell_type": "markdown",
   "metadata": {},
   "source": [
    "#### **15. What is standard deviation, and why is it important?**\n",
    "**Standard deviation (SD)** is the square root of variance and measures the spread of data. It indicates how much individual data points differ from the mean. A small SD shows data points are close to the mean, while a large SD indicates more spread.\n",
    "$$\n",
    "\\sigma\n",
    "$$"
   ]
  },
  {
   "cell_type": "markdown",
   "metadata": {},
   "source": [
    "#### **16. Define and explain the term range in statistics.**\n",
    "The **range** is the difference between the largest and smallest values in a dataset.  \n",
    "- Example: For [3, 8, 15], the range = 15 - 3 = 12."
   ]
  },
  {
   "cell_type": "markdown",
   "metadata": {},
   "source": [
    "#### **17. What is the difference between variance and standard deviation?**\n",
    "- **Variance**: Average of squared deviations from the mean.  \n",
    "- **Standard Deviation**: Square root of variance, providing a measure in the same units as the data."
   ]
  },
  {
   "cell_type": "markdown",
   "metadata": {},
   "source": [
    "#### **18. What is skewness in a dataset?**\n",
    "**Skewness** measures the asymmetry of a dataset’s distribution.  \n",
    "- **Positive Skew**: Tail is on the right (e.g., income distribution).  \n",
    "- **Negative Skew**: Tail is on the left."
   ]
  },
  {
   "cell_type": "markdown",
   "metadata": {},
   "source": [
    "#### **19. What does it mean if a dataset is positively or negatively skewed?**\n",
    "- **Positively Skewed**: Mean > Median > Mode (longer tail on the right).\n",
    "- **Negatively Skewed**: Mean < Median < Mode (longer tail on the left)."
   ]
  },
  {
   "cell_type": "markdown",
   "metadata": {},
   "source": [
    "#### **20. Define and explain kurtosis.**\n",
    "**Kurtosis** measures the \"tailedness\" of a distribution:  \n",
    "- **Leptokurtic**: Sharp peak, fat tails.  \n",
    "- **Mesokurtic**: Normal distribution.  \n",
    "- **Platykurtic**: Flat peak, thin tails."
   ]
  },
  {
   "cell_type": "markdown",
   "metadata": {},
   "source": [
    "#### **21. What is the purpose of covariance?**\n",
    "**Covariance** measures how two variables change together. A positive covariance indicates that when one variable increases, the other tends to increase.  "
   ]
  },
  {
   "cell_type": "markdown",
   "metadata": {},
   "source": [
    "#### **22. What does correlation measure in statistics?**\n",
    "**Correlation** measures the strength and direction of the linear relationship between two variables, typically ranging from -1 to +1."
   ]
  },
  {
   "cell_type": "markdown",
   "metadata": {},
   "source": [
    "#### **23. What is the difference between covariance and correlation?**\n",
    "- **Covariance**: Shows the direction of the relationship but not its strength.  \n",
    "- **Correlation**: Standardized measure of the strength and direction."
   ]
  },
  {
   "cell_type": "markdown",
   "metadata": {},
   "source": [
    "#### **24. What are some real-world applications of statistics?**\n",
    "- **Healthcare**: Analyzing patient outcomes.\n",
    "- **Business**: Market research, sales forecasting.\n",
    "- **Economics**: Studying inflation, GDP.\n",
    "- **Sports**: Player performance analysis."
   ]
  },
  {
   "cell_type": "markdown",
   "metadata": {},
   "source": [
    "### **Practical Question**"
   ]
  },
  {
   "cell_type": "markdown",
   "metadata": {},
   "source": [
    "#### **1. How do you calculate the mean, median, and mode of a dataset.**"
   ]
  },
  {
   "cell_type": "code",
   "execution_count": 1,
   "metadata": {},
   "outputs": [
    {
     "name": "stdout",
     "output_type": "stream",
     "text": [
      "Mean: 14.375\n",
      "Median: 12.5\n",
      "Mode: 10\n"
     ]
    }
   ],
   "source": [
    "import statistics\n",
    "\n",
    "data = [5, 10, 15, 20, 25, 10, 20, 10]\n",
    "\n",
    "mean_value = statistics.mean(data)\n",
    "print(f\"Mean: {mean_value}\")\n",
    "\n",
    "median_value = statistics.median(data)\n",
    "print(f\"Median: {median_value}\")\n",
    "\n",
    "mode_value = statistics.mode(data)\n",
    "print(f\"Mode: {mode_value}\")\n"
   ]
  },
  {
   "cell_type": "markdown",
   "metadata": {},
   "source": [
    "#### **2. Write a Python program to compute the variance and standard deviation of a dataset.**"
   ]
  },
  {
   "cell_type": "code",
   "execution_count": 2,
   "metadata": {},
   "outputs": [
    {
     "name": "stdout",
     "output_type": "stream",
     "text": [
      "Standard Deviation: 6.343057228182637\n",
      "Varience: 40.234375\n"
     ]
    }
   ],
   "source": [
    "import numpy as np\n",
    "\n",
    "data = [5, 10, 15, 20, 25, 10, 20, 10]\n",
    "\n",
    "sd = np.std(data)\n",
    "print(f\"Standard Deviation: {sd}\")\n",
    "\n",
    "var = np.var(data)\n",
    "print(f\"Varience: {var}\")"
   ]
  },
  {
   "cell_type": "markdown",
   "metadata": {},
   "source": [
    "#### **3. Create a dataset and classify it into nominal, ordinal, interval, and ratio types.**"
   ]
  },
  {
   "cell_type": "code",
   "execution_count": 3,
   "metadata": {},
   "outputs": [
    {
     "name": "stdout",
     "output_type": "stream",
     "text": [
      "Dataset:\n",
      "  Student Name Favorite Color Year in College  Temperature Preference (°C)  \\\n",
      "0       Shubhu           Blue        2nd Year                           25   \n",
      "1        Harsh            Red      Final Year                           22   \n",
      "2      Anikita          Green        1st Year                           30   \n",
      "3       Namita         Yellow        3rd Year                           27   \n",
      "\n",
      "   Height (cm)  \n",
      "0          170  \n",
      "1          165  \n",
      "2          180  \n",
      "3          175  \n",
      "\n",
      "Classification of Variables:\n",
      "Nominal Data: 'Student Name', 'Favorite Color'\n",
      "Ordinal Data: 'Year in College'\n",
      "Interval Data: 'Temperature Preference (°C)'\n",
      "Ratio Data: 'Height (cm)', 'Number of Siblings'\n"
     ]
    }
   ],
   "source": [
    "import pandas as pd\n",
    "\n",
    "data = {\n",
    "    \"Student Name\": [\"Shubhu\", \"Harsh\", \"Anikita\", \"Namita\"],\n",
    "    \"Favorite Color\": [\"Blue\", \"Red\", \"Green\", \"Yellow\"],\n",
    "    \"Year in College\": [\"2nd Year\", \"Final Year\", \"1st Year\", \"3rd Year\"],\n",
    "    \"Temperature Preference (°C)\": [25, 22, 30, 27],\n",
    "    \"Height (cm)\": [170, 165, 180, 175],\n",
    "}\n",
    "\n",
    "df = pd.DataFrame(data)\n",
    "\n",
    "print(\"Dataset:\")\n",
    "print(df)\n",
    "\n",
    "print(\"\\nClassification of Variables:\")\n",
    "print(\"Nominal Data: 'Student Name', 'Favorite Color'\")\n",
    "print(\"Ordinal Data: 'Year in College'\")\n",
    "print(\"Interval Data: 'Temperature Preference (°C)'\")\n",
    "print(\"Ratio Data: 'Height (cm)', 'Number of Siblings'\")"
   ]
  },
  {
   "cell_type": "markdown",
   "metadata": {},
   "source": [
    "#### **4. Implement sampling techniques like random sampling and stratified sampling.**"
   ]
  },
  {
   "cell_type": "code",
   "execution_count": 4,
   "metadata": {},
   "outputs": [
    {
     "name": "stdout",
     "output_type": "stream",
     "text": [
      "Random Sample:\n",
      "     ID  Age  Gender\n",
      "46  47   33    Male\n",
      "29  30   21  Female\n",
      "5    6   56    Male\n",
      "51  52   47    Male\n",
      "83  84   39    Male\n",
      "96  97   39  Female\n",
      "97  98   26  Female\n",
      "25  26   23    Male\n",
      "81  82   32    Male\n",
      "42  43   55  Female\n",
      "\n",
      "Stratified Sample:\n",
      "     ID  Age  Gender\n",
      "43  44   47    Male\n",
      "95  96   39  Female\n",
      "27  28   27    Male\n",
      "98  99   46  Female\n",
      "56  57   40    Male\n",
      "63  64   40    Male\n",
      "48  49   31  Female\n",
      "84  85   58    Male\n",
      "40  41   59  Female\n",
      "11  12   51    Male\n"
     ]
    }
   ],
   "source": [
    "import pandas as pd\n",
    "import numpy as np\n",
    "from sklearn.model_selection import train_test_split\n",
    "\n",
    "data = {\n",
    "    \"ID\": range(1, 101),\n",
    "    \"Age\": np.random.randint(18, 60, size=100),\n",
    "    \"Gender\": np.random.choice(['Male', 'Female'], size=100),\n",
    "}\n",
    "df = pd.DataFrame(data)\n",
    "\n",
    "random_sample = df.sample(n=10)\n",
    "print(\"Random Sample:\\n\", random_sample)\n",
    "\n",
    "train, stratified_sample = train_test_split(df, test_size=0.1, stratify=df['Gender'])\n",
    "print(\"\\nStratified Sample:\\n\", stratified_sample)"
   ]
  },
  {
   "cell_type": "markdown",
   "metadata": {},
   "source": [
    "#### **5. Write a Python function to calculate the range of a dataset.**\n"
   ]
  },
  {
   "cell_type": "code",
   "execution_count": 5,
   "metadata": {},
   "outputs": [
    {
     "name": "stdout",
     "output_type": "stream",
     "text": [
      "Range: 25\n"
     ]
    }
   ],
   "source": [
    "def calculate_range(dataset):\n",
    "    return max(dataset) - min(dataset)\n",
    "\n",
    "data = [10, 15, 20, 25, 30, 35]\n",
    "print(\"Range:\", calculate_range(data))"
   ]
  },
  {
   "cell_type": "markdown",
   "metadata": {},
   "source": [
    "#### **6. Create a dataset and plot its histogram to visualize skewness.**\n"
   ]
  },
  {
   "cell_type": "code",
   "execution_count": 6,
   "metadata": {},
   "outputs": [
    {
     "data": {
      "image/png": "[encoded data removed]",
      "text/plain": [
       "<Figure size 640x480 with 1 Axes>"
      ]
     },
     "metadata": {},
     "output_type": "display_data"
    }
   ],
   "source": [
    "import matplotlib.pyplot as plt\n",
    "import numpy as np\n",
    "\n",
    "data = np.random.exponential(scale=2.0, size=1000)\n",
    "\n",
    "plt.hist(data, bins=30, color='green', alpha=0.7)\n",
    "plt.title(\"Histogram to Visualize Skewness\")\n",
    "plt.xlabel(\"Value\")\n",
    "plt.ylabel(\"Frequency\")\n",
    "plt.show()\n"
   ]
  },
  {
   "cell_type": "markdown",
   "metadata": {},
   "source": [
    "#### **7. Calculate skewness and kurtosis of a dataset using Python libraries.**\n"
   ]
  },
  {
   "cell_type": "code",
   "execution_count": 7,
   "metadata": {},
   "outputs": [
    {
     "name": "stdout",
     "output_type": "stream",
     "text": [
      "Skewness: 2.1240352849354913\n",
      "Kurtosis: 7.270532970295683\n"
     ]
    }
   ],
   "source": [
    "from scipy.stats import skew, kurtosis\n",
    "\n",
    "data_skewness = skew(data)\n",
    "data_kurtosis = kurtosis(data)\n",
    "\n",
    "print(\"Skewness:\", data_skewness)\n",
    "print(\"Kurtosis:\", data_kurtosis)\n"
   ]
  },
  {
   "cell_type": "markdown",
   "metadata": {},
   "source": [
    "#### **8. Generate a dataset and demonstrate positive and negative skewness.**\n"
   ]
  },
  {
   "cell_type": "code",
   "execution_count": 8,
   "metadata": {},
   "outputs": [
    {
     "data": {
      "image/png": "[encoded data removed]",
      "text/plain": [
       "<Figure size 640x480 with 1 Axes>"
      ]
     },
     "metadata": {},
     "output_type": "display_data"
    },
    {
     "data": {
      "image/png": "[encoded data removed]",
      "text/plain": [
       "<Figure size 640x480 with 1 Axes>"
      ]
     },
     "metadata": {},
     "output_type": "display_data"
    }
   ],
   "source": [
    "import matplotlib.pyplot as plt\n",
    "import numpy as np\n",
    "\n",
    "positive_skewed_data = np.random.exponential(scale=2.0, size=1000)\n",
    "plt.hist(positive_skewed_data, bins=30, color='orange', alpha=0.7)\n",
    "plt.title(\"Positive Skewed Data\")\n",
    "plt.show()\n",
    "\n",
    "negative_skewed_data = -1 * np.random.exponential(scale=2.0, size=1000)\n",
    "plt.hist(negative_skewed_data, bins=30, color='purple', alpha=0.7)\n",
    "plt.title(\"Negative Skewed Data\")\n",
    "plt.show()"
   ]
  },
  {
   "cell_type": "markdown",
   "metadata": {},
   "source": [
    "#### **9. Write a Python script to calculate covariance between two datasets.**\n"
   ]
  },
  {
   "cell_type": "code",
   "execution_count": 9,
   "metadata": {},
   "outputs": [
    {
     "name": "stdout",
     "output_type": "stream",
     "text": [
      "Covariance: -5.822121212121209\n"
     ]
    }
   ],
   "source": [
    "import numpy as np\n",
    "\n",
    "def calculate_covariance(x, y):\n",
    "    return np.cov(x, y)[0][1]\n",
    "\n",
    "x = np.random.randint(10, 50, size=100)\n",
    "y = np.random.randint(20, 60, size=100)\n",
    "\n",
    "covariance = calculate_covariance(x, y)\n",
    "print(\"Covariance:\", covariance)"
   ]
  },
  {
   "cell_type": "markdown",
   "metadata": {},
   "source": [
    "#### **10. Write a Python script to calculate the correlation coefficient between two datasets.**\n"
   ]
  },
  {
   "cell_type": "code",
   "execution_count": 10,
   "metadata": {},
   "outputs": [
    {
     "name": "stdout",
     "output_type": "stream",
     "text": [
      "Correlation Coefficient: -0.043493292265035635\n"
     ]
    }
   ],
   "source": [
    "import numpy as np\n",
    "\n",
    "def calculate_correlation(x, y):\n",
    "    return np.corrcoef(x, y)[0][1]\n",
    "\n",
    "correlation_coefficient = calculate_correlation(x, y)\n",
    "print(\"Correlation Coefficient:\", correlation_coefficient)"
   ]
  },
  {
   "cell_type": "markdown",
   "metadata": {},
   "source": [
    "#### **11. Create a scatter plot to visualize the relationship between two variables.**\n"
   ]
  },
  {
   "cell_type": "code",
   "execution_count": 11,
   "metadata": {},
   "outputs": [
    {
     "data": {
      "image/png": "[encoded data removed]",
      "text/plain": [
       "<Figure size 640x480 with 1 Axes>"
      ]
     },
     "metadata": {},
     "output_type": "display_data"
    }
   ],
   "source": [
    "import numpy as np\n",
    "import matplotlib.pyplot as plt\n",
    "\n",
    "x = np.random.randint(10, 50, size=100)\n",
    "y = np.random.randint(20, 60, size=100)\n",
    "\n",
    "plt.scatter(x, y, color='green', alpha=0.5)\n",
    "plt.title(\"Scatter Plot\")\n",
    "plt.xlabel(\"Variable X\")\n",
    "plt.ylabel(\"Variable Y\")\n",
    "plt.show()"
   ]
  },
  {
   "cell_type": "markdown",
   "metadata": {},
   "source": [
    "#### **12. Implement and compare simple random sampling and systematic sampling.**"
   ]
  },
  {
   "cell_type": "code",
   "execution_count": 12,
   "metadata": {},
   "outputs": [
    {
     "name": "stdout",
     "output_type": "stream",
     "text": [
      "Simple Random Sample:\n",
      "      ID  Score\n",
      "78   79     95\n",
      "66   67     71\n",
      "69   70     67\n",
      "71   72     80\n",
      "6     7     66\n",
      "58   59     71\n",
      "53   54     85\n",
      "16   17     60\n",
      "59   60     98\n",
      "99  100     89\n",
      "\n",
      "Systematic Sample:\n",
      "     ID  Score\n",
      "0    1     72\n",
      "10  11     50\n",
      "20  21     74\n",
      "30  31     65\n",
      "40  41     64\n",
      "50  51     84\n",
      "60  61     61\n",
      "70  71     57\n",
      "80  81     78\n",
      "90  91     65\n"
     ]
    }
   ],
   "source": [
    "import pandas as pd\n",
    "import numpy as np\n",
    "\n",
    "data = {\"ID\": range(1, 101), \"Score\": np.random.randint(50, 100, 100)}\n",
    "df = pd.DataFrame(data)\n",
    "\n",
    "random_sample = df.sample(n=10)\n",
    "print(\"Simple Random Sample:\\n\", random_sample)\n",
    "\n",
    "def systematic_sampling(data, step):\n",
    "    return data[::step]\n",
    "\n",
    "systematic_sample = systematic_sampling(df, 10)\n",
    "print(\"\\nSystematic Sample:\\n\", systematic_sample)\n",
    "\n"
   ]
  },
  {
   "cell_type": "markdown",
   "metadata": {},
   "source": [
    "#### **13. Calculate the mean, median, and mode of grouped data.**"
   ]
  },
  {
   "cell_type": "code",
   "execution_count": 13,
   "metadata": {},
   "outputs": [
    {
     "name": "stdout",
     "output_type": "stream",
     "text": [
      "Mean: 26.33\n",
      "Median: 25.00\n",
      "Mode: 25.00\n"
     ]
    }
   ],
   "source": [
    "import pandas as pd\n",
    "import numpy as np\n",
    "from scipy import stats\n",
    "\n",
    "data = {\"Class Interval\": [\"0-10\", \"10-20\", \"20-30\", \"30-40\", \"40-50\"], \"Frequency\": [5, 8, 15, 10, 7]}\n",
    "df = pd.DataFrame(data)\n",
    "\n",
    "df[\"Midpoint\"] = df[\"Class Interval\"].apply(lambda x: (int(x.split('-')[0]) + int(x.split('-')[1])) / 2)\n",
    "mean = np.average(df[\"Midpoint\"], weights=df[\"Frequency\"])\n",
    "median = df.loc[df[\"Frequency\"].cumsum() >= df[\"Frequency\"].sum() / 2, \"Midpoint\"].iloc[0]\n",
    "mode = stats.mode(df.loc[df[\"Frequency\"] == df[\"Frequency\"].max(), \"Midpoint\"], keepdims=True)[0][0]\n",
    "\n",
    "print(f\"Mean: {mean:.2f}\\nMedian: {median:.2f}\\nMode: {mode:.2f}\")\n"
   ]
  },
  {
   "cell_type": "markdown",
   "metadata": {},
   "source": [
    "#### **14. Simulate data using Python and calculate its central tendency and dispersion..**"
   ]
  },
  {
   "cell_type": "code",
   "execution_count": 14,
   "metadata": {},
   "outputs": [
    {
     "name": "stdout",
     "output_type": "stream",
     "text": [
      "Mean: 50.19\n",
      "Median: 50.25\n",
      "Mode: 17.59\n",
      "Variance: 95.89\n",
      "Standard Deviation: 9.79\n",
      "Range: 70.94\n"
     ]
    }
   ],
   "source": [
    "import numpy as np\n",
    "import pandas as pd\n",
    "from scipy import stats\n",
    "\n",
    "np.random.seed(42)\n",
    "data = np.random.normal(loc=50, scale=10, size=1000)\n",
    "\n",
    "df = pd.DataFrame(data, columns=[\"Values\"])\n",
    "\n",
    "mean = df[\"Values\"].mean()\n",
    "median = df[\"Values\"].median()\n",
    "mode = stats.mode(df[\"Values\"], keepdims=True)[0][0]\n",
    "\n",
    "variance = df[\"Values\"].var()\n",
    "std_dev = df[\"Values\"].std()\n",
    "data_range = df[\"Values\"].max() - df[\"Values\"].min()\n",
    "\n",
    "# Display results\n",
    "print(f\"Mean: {mean:.2f}\")\n",
    "print(f\"Median: {median:.2f}\")\n",
    "print(f\"Mode: {mode:.2f}\")\n",
    "print(f\"Variance: {variance:.2f}\")\n",
    "print(f\"Standard Deviation: {std_dev:.2f}\")\n",
    "print(f\"Range: {data_range:.2f}\")\n"
   ]
  },
  {
   "cell_type": "markdown",
   "metadata": {},
   "source": [
    "#### **15. Use NumPy or pandas to summarize a dataset’s descriptive statistics.**"
   ]
  },
  {
   "cell_type": "code",
   "execution_count": 15,
   "metadata": {},
   "outputs": [
    {
     "name": "stdout",
     "output_type": "stream",
     "text": [
      "Descriptive Statistics Summary:\n",
      "            Values\n",
      "count  1000.000000\n",
      "mean     50.193321\n",
      "std       9.792159\n",
      "min      17.587327\n",
      "25%      43.524097\n",
      "50%      50.253006\n",
      "75%      56.479439\n",
      "max      88.527315\n"
     ]
    }
   ],
   "source": [
    "import pandas as pd\n",
    "import numpy as np\n",
    "\n",
    "np.random.seed(42)\n",
    "data = np.random.normal(loc=50, scale=10, size=1000)\n",
    "\n",
    "df = pd.DataFrame(data, columns=[\"Values\"])\n",
    "\n",
    "summary_stats = df.describe()\n",
    "\n",
    "print(\"Descriptive Statistics Summary:\")\n",
    "print(summary_stats)"
   ]
  },
  {
   "cell_type": "markdown",
   "metadata": {},
   "source": [
    "#### **16. Plot a boxplot to understand the spread and identify outliers.**"
   ]
  },
  {
   "cell_type": "code",
   "execution_count": 16,
   "metadata": {},
   "outputs": [
    {
     "data": {
      "image/png": "[encoded data removed]",
      "text/plain": [
       "<Figure size 800x600 with 1 Axes>"
      ]
     },
     "metadata": {},
     "output_type": "display_data"
    }
   ],
   "source": [
    "import pandas as pd\n",
    "import numpy as np\n",
    "import seaborn as sns\n",
    "import matplotlib.pyplot as plt\n",
    "\n",
    "np.random.seed(42)\n",
    "data = np.random.normal(loc=50, scale=10, size=1000)\n",
    "\n",
    "df = pd.DataFrame(data, columns=[\"Values\"])\n",
    "\n",
    "plt.figure(figsize=(8, 6))\n",
    "sns.boxplot(x=df[\"Values\"], color=\"skyblue\")\n",
    "\n",
    "plt.title(\"Boxplot of the Dataset to Identify Outliers\", fontsize=16)\n",
    "plt.xlabel(\"Values\", fontsize=12)\n",
    "plt.show()"
   ]
  },
  {
   "cell_type": "markdown",
   "metadata": {},
   "source": [
    "#### **17. Calculate the interquartile range (IQR) of a dataset.**"
   ]
  },
  {
   "cell_type": "code",
   "execution_count": 17,
   "metadata": {},
   "outputs": [
    {
     "name": "stdout",
     "output_type": "stream",
     "text": [
      "Interquartile Range (IQR): 12.96\n"
     ]
    }
   ],
   "source": [
    "import pandas as pd\n",
    "import numpy as np\n",
    "\n",
    "np.random.seed(42)\n",
    "data = np.random.normal(loc=50, scale=10, size=1000)\n",
    "df = pd.DataFrame(data, columns=[\"Values\"])\n",
    "\n",
    "Q1 = np.percentile(df[\"Values\"], 25)\n",
    "Q3 = np.percentile(df[\"Values\"], 75)\n",
    "\n",
    "IQR = Q3 - Q1\n",
    "\n",
    "print(f\"Interquartile Range (IQR): {IQR:.2f}\")"
   ]
  },
  {
   "cell_type": "markdown",
   "metadata": {},
   "source": [
    "#### **18. Implement Z-score normalization and explain its significance.**"
   ]
  },
  {
   "cell_type": "code",
   "execution_count": 18,
   "metadata": {},
   "outputs": [
    {
     "name": "stdout",
     "output_type": "stream",
     "text": [
      "First few rows after Z-score normalization:\n",
      "      Values   Z-Score\n",
      "0  54.967142  0.487759\n",
      "1  48.617357 -0.161022\n",
      "2  56.476885  0.642015\n",
      "3  65.230299  1.536382\n",
      "4  47.658466 -0.258995\n",
      "\n",
      "Mean of normalized data: -0.00\n",
      "Standard deviation of normalized data: 1.00\n"
     ]
    }
   ],
   "source": [
    "import pandas as pd\n",
    "import numpy as np\n",
    "from scipy.stats import zscore\n",
    "\n",
    "np.random.seed(42)\n",
    "data = np.random.normal(loc=50, scale=10, size=1000)\n",
    "df = pd.DataFrame(data, columns=[\"Values\"])\n",
    "\n",
    "df[\"Z-Score\"] = zscore(df[\"Values\"])\n",
    "\n",
    "print(\"First few rows after Z-score normalization:\")\n",
    "print(df.head())\n",
    "\n",
    "mean_z = df[\"Z-Score\"].mean()\n",
    "std_z = df[\"Z-Score\"].std()\n",
    "print(f\"\\nMean of normalized data: {mean_z:.2f}\")\n",
    "print(f\"Standard deviation of normalized data: {std_z:.2f}\")"
   ]
  },
  {
   "cell_type": "markdown",
   "metadata": {},
   "source": [
    "#### **19. Compare two datasets using their standard deviations.**"
   ]
  },
  {
   "cell_type": "code",
   "execution_count": 19,
   "metadata": {},
   "outputs": [
    {
     "name": "stdout",
     "output_type": "stream",
     "text": [
      "Standard Deviation of Dataset 1: 4.90\n",
      "Standard Deviation of Dataset 2: 14.96\n",
      "\n",
      "Dataset 2 has a larger spread (greater variability) than Dataset 1.\n"
     ]
    }
   ],
   "source": [
    "import numpy as np\n",
    "import pandas as pd\n",
    "\n",
    "np.random.seed(42)\n",
    "data1 = np.random.normal(loc=50, scale=5, size=1000)\n",
    "data2 = np.random.normal(loc=50, scale=15, size=1000)\n",
    "\n",
    "df1 = pd.DataFrame(data1, columns=[\"Dataset1\"])\n",
    "df2 = pd.DataFrame(data2, columns=[\"Dataset2\"])\n",
    "\n",
    "std1 = df1[\"Dataset1\"].std()\n",
    "std2 = df2[\"Dataset2\"].std()\n",
    "\n",
    "print(f\"Standard Deviation of Dataset 1: {std1:.2f}\")\n",
    "print(f\"Standard Deviation of Dataset 2: {std2:.2f}\")\n",
    "\n",
    "if std1 > std2:\n",
    "    print(\"\\nDataset 1 has a larger spread (greater variability) than Dataset 2.\")\n",
    "else:\n",
    "    print(\"\\nDataset 2 has a larger spread (greater variability) than Dataset 1.\")"
   ]
  },
  {
   "cell_type": "markdown",
   "metadata": {},
   "source": [
    "#### **20. Write a Python program to visualize covariance using a heatmap.**"
   ]
  },
  {
   "cell_type": "code",
   "execution_count": 20,
   "metadata": {},
   "outputs": [
    {
     "name": "stdout",
     "output_type": "stream",
     "text": [
      "Covariance Matrix:\n",
      "            Variable 1  Variable 2\n",
      "Variable 1   82.476989   35.330785\n",
      "Variable 2   35.330785   37.448650\n"
     ]
    },
    {
     "data": {
      "image/png": "[encoded data removed]",
      "text/plain": [
       "<Figure size 600x400 with 2 Axes>"
      ]
     },
     "metadata": {},
     "output_type": "display_data"
    }
   ],
   "source": [
    "import numpy as np\n",
    "import pandas as pd\n",
    "import seaborn as sns\n",
    "import matplotlib.pyplot as plt\n",
    "\n",
    "np.random.seed(42)\n",
    "data1 = np.random.normal(loc=50, scale=10, size=100)\n",
    "data2 = data1 * 0.5 + np.random.normal(loc=30, scale=5, size=100)\n",
    "\n",
    "df = pd.DataFrame({\n",
    "    \"Variable 1\": data1,\n",
    "    \"Variable 2\": data2\n",
    "})\n",
    "\n",
    "cov_matrix = df.cov()\n",
    "\n",
    "print(\"Covariance Matrix:\")\n",
    "print(cov_matrix)\n",
    "\n",
    "plt.figure(figsize=(6, 4))\n",
    "sns.heatmap(cov_matrix, annot=True, cmap=\"coolwarm\", fmt=\".2f\")\n",
    "plt.title(\"Covariance Heatmap\")\n",
    "plt.show()\n"
   ]
  },
  {
   "cell_type": "markdown",
   "metadata": {},
   "source": [
    "#### **21. Use seaborn to create a correlation matrix for a dataset.**"
   ]
  },
  {
   "cell_type": "code",
   "execution_count": 21,
   "metadata": {},
   "outputs": [
    {
     "name": "stdout",
     "output_type": "stream",
     "text": [
      "Correlation Matrix:\n",
      "               Math_Score  Reading_Score  Science_Score  Attendance\n",
      "Math_Score       1.000000       0.094794       0.008997    0.003706\n",
      "Reading_Score    0.094794       1.000000       0.039388   -0.040920\n",
      "Science_Score    0.008997       0.039388       1.000000    0.009881\n",
      "Attendance       0.003706      -0.040920       0.009881    1.000000\n"
     ]
    },
    {
     "data": {
      "image/png": "[encoded data removed]",
      "text/plain": [
       "<Figure size 800x600 with 2 Axes>"
      ]
     },
     "metadata": {},
     "output_type": "display_data"
    }
   ],
   "source": [
    "import numpy as np\n",
    "import pandas as pd\n",
    "import seaborn as sns\n",
    "import matplotlib.pyplot as plt\n",
    "\n",
    "np.random.seed(42)\n",
    "data = {\n",
    "    \"Math_Score\": np.random.randint(50, 100, 100),\n",
    "    \"Reading_Score\": np.random.randint(50, 100, 100),\n",
    "    \"Science_Score\": np.random.randint(50, 100, 100),\n",
    "    \"Attendance\": np.random.randint(80, 100, 100),\n",
    "}\n",
    "\n",
    "df = pd.DataFrame(data)\n",
    "\n",
    "correlation_matrix = df.corr()\n",
    "\n",
    "print(\"Correlation Matrix:\")\n",
    "print(correlation_matrix)\n",
    "\n",
    "plt.figure(figsize=(8, 6))\n",
    "sns.heatmap(correlation_matrix, annot=True, cmap=\"coolwarm\", fmt=\".2f\", cbar=True)\n",
    "plt.title(\"Correlation Matrix Heatmap\")\n",
    "plt.show()"
   ]
  },
  {
   "cell_type": "markdown",
   "metadata": {},
   "source": [
    "#### **22. Generate a dataset and implement both variance and standard deviation computations.**"
   ]
  },
  {
   "cell_type": "code",
   "execution_count": 22,
   "metadata": {},
   "outputs": [
    {
     "name": "stdout",
     "output_type": "stream",
     "text": [
      "Dataset (First 10 values): \n",
      "   Test_Scores\n",
      "0           88\n",
      "1           78\n",
      "2           64\n",
      "3           92\n",
      "4           57\n",
      "5           70\n",
      "6           88\n",
      "7           68\n",
      "8           72\n",
      "9           60\n",
      "\n",
      "Variance: 208.73\n",
      "Standard Deviation: 14.45\n"
     ]
    }
   ],
   "source": [
    "import numpy as np\n",
    "import pandas as pd\n",
    "\n",
    "np.random.seed(42)\n",
    "data = np.random.randint(50, 100, 100)\n",
    "\n",
    "df = pd.DataFrame(data, columns=[\"Test_Scores\"])\n",
    "\n",
    "variance = df[\"Test_Scores\"].var()\n",
    "std_dev = df[\"Test_Scores\"].std()\n",
    "\n",
    "print(f\"Dataset (First 10 values): \\n{df.head(10)}\\n\")\n",
    "print(f\"Variance: {variance:.2f}\")\n",
    "print(f\"Standard Deviation: {std_dev:.2f}\")"
   ]
  },
  {
   "cell_type": "markdown",
   "metadata": {},
   "source": [
    "#### **23. Visualize skewness and kurtosis using Python libraries like matplotlib or seaborn.**"
   ]
  },
  {
   "cell_type": "code",
   "execution_count": 23,
   "metadata": {},
   "outputs": [
    {
     "name": "stdout",
     "output_type": "stream",
     "text": [
      "Skewness: 0.72\n",
      "Kurtosis: -0.44\n"
     ]
    },
    {
     "data": {
      "image/png": "[encoded data removed]",
      "text/plain": [
       "<Figure size 1200x600 with 2 Axes>"
      ]
     },
     "metadata": {},
     "output_type": "display_data"
    }
   ],
   "source": [
    "import numpy as np\n",
    "import pandas as pd\n",
    "import seaborn as sns\n",
    "import matplotlib.pyplot as plt\n",
    "from scipy.stats import skew, kurtosis\n",
    "\n",
    "np.random.seed(42)\n",
    "data = np.random.normal(loc=50, scale=10, size=1000)\n",
    "data_skewed = np.concatenate([np.random.normal(40, 10, 800), np.random.normal(80, 5, 200)])\n",
    "\n",
    "df = pd.DataFrame({\"Normal_Data\": data, \"Skewed_Data\": data_skewed})\n",
    "\n",
    "skewness = skew(df[\"Skewed_Data\"])\n",
    "kurt = kurtosis(df[\"Skewed_Data\"])\n",
    "\n",
    "print(f\"Skewness: {skewness:.2f}\")\n",
    "print(f\"Kurtosis: {kurt:.2f}\")\n",
    "\n",
    "plt.figure(figsize=(12, 6))\n",
    "\n",
    "plt.subplot(1, 2, 1)\n",
    "sns.histplot(df[\"Normal_Data\"], bins=30, kde=True, color=\"blue\")\n",
    "plt.title(\"Normal Distribution (Low Skewness)\")\n",
    "\n",
    "plt.subplot(1, 2, 2)\n",
    "sns.histplot(df[\"Skewed_Data\"], bins=30, kde=True, color=\"green\")\n",
    "plt.title(f\"Skewed Distribution (Skewness: {skewness:.2f}, Kurtosis: {kurt:.2f})\")\n",
    "\n",
    "plt.tight_layout()\n",
    "plt.show()\n"
   ]
  },
  {
   "cell_type": "markdown",
   "metadata": {},
   "source": [
    "#### **24. Implement the Pearson and Spearman correlation coefficients for a dataset.**"
   ]
  },
  {
   "cell_type": "code",
   "execution_count": 24,
   "metadata": {},
   "outputs": [
    {
     "name": "stdout",
     "output_type": "stream",
     "text": [
      "Pearson Correlation Coefficient: 0.99\n",
      "Pearson P-value: 0.0000\n",
      "Spearman Correlation Coefficient: 0.98\n",
      "Spearman P-value: 0.0000\n"
     ]
    }
   ],
   "source": [
    "import numpy as np\n",
    "import pandas as pd\n",
    "from scipy.stats import pearsonr, spearmanr\n",
    "\n",
    "np.random.seed(42)\n",
    "x = np.random.randint(1, 100, 100)\n",
    "y = 2 * x + np.random.normal(0, 10, 100)\n",
    "\n",
    "df = pd.DataFrame({\"X\": x, \"Y\": y})\n",
    "\n",
    "pearson_corr, pearson_p_value = pearsonr(df[\"X\"], df[\"Y\"])\n",
    "print(f\"Pearson Correlation Coefficient: {pearson_corr:.2f}\")\n",
    "print(f\"Pearson P-value: {pearson_p_value:.4f}\")\n",
    "\n",
    "spearman_corr, spearman_p_value = spearmanr(df[\"X\"], df[\"Y\"])\n",
    "print(f\"Spearman Correlation Coefficient: {spearman_corr:.2f}\")\n",
    "print(f\"Spearman P-value: {spearman_p_value:.4f}\")"
   ]
  },
  {
   "cell_type": "code",
   "execution_count": null,
   "metadata": {},
   "outputs": [],
   "source": []
  }
 ],
 "metadata": {
  "kernelspec": {
   "display_name": "venv",
   "language": "python",
   "name": "python3"
  },
  "language_info": {
   "codemirror_mode": {
    "name": "ipython",
    "version": 3
   },
   "file_extension": ".py",
   "mimetype": "text/x-python",
   "name": "python",
   "nbconvert_exporter": "python",
   "pygments_lexer": "ipython3",
   "version": "3.13.2"
  }
 },
 "nbformat": 4,
 "nbformat_minor": 2
}
