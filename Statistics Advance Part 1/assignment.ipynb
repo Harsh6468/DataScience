{
 "cells": [
  {
   "cell_type": "markdown",
   "metadata": {},
   "source": [
    "## **Statistics Advance Part 1**"
   ]
  },
  {
   "cell_type": "markdown",
   "metadata": {},
   "source": [
    "#### **1. What is a random variable in probability theory?**\n",
    "A **random variable** is a function that assigns numerical values to outcomes of a random experiment. It can be thought of as a way to quantify randomness."
   ]
  },
  {
   "cell_type": "markdown",
   "metadata": {},
   "source": [
    "#### **2. What are the types of random variables?**\n",
    "There are two main types:\n",
    "- **Discrete random variables**: Take on a countable number of values (e.g., number of heads in 10 coin tosses).\n",
    "- **Continuous random variables**: Take on an infinite number of values within a given range (e.g., height, temperature)."
   ]
  },
  {
   "cell_type": "markdown",
   "metadata": {},
   "source": [
    "#### **3. Difference between discrete and continuous distributions**\n",
    "- **Discrete distribution**: Deals with discrete random variables. Probabilities are assigned to specific values.\n",
    "- **Continuous distribution**: Deals with continuous random variables. Probabilities are represented by areas under curves (since the probability of any single point is zero)."
   ]
  },
  {
   "cell_type": "markdown",
   "metadata": {},
   "source": [
    "#### **4. What are probability distribution functions (PDF)?**\n",
    "- For **discrete** random variables: The **probability mass function (PMF)** gives the probability of each possible value.\n",
    "- For **continuous** random variables: The **probability density function (PDF)** describes the likelihood of values within an interval."
   ]
  },
  {
   "cell_type": "markdown",
   "metadata": {},
   "source": [
    "#### **5. How do cumulative distribution functions (CDF) differ from PDFs?**\n",
    "- **PDF/PMF** gives the probability **at** a specific value.\n",
    "- **CDF** gives the probability that a variable is **less than or equal to** a certain value.\n",
    "  \n",
    "  $$\n",
    "  F(x) = P(X \\leq x)\n",
    "  $$"
   ]
  },
  {
   "cell_type": "markdown",
   "metadata": {},
   "source": [
    "#### **6. What is a discrete uniform distribution?**\n",
    "A distribution where each outcome has **equal probability**, such as rolling a fair die (each face has 1/6 chance)."
   ]
  },
  {
   "cell_type": "markdown",
   "metadata": {},
   "source": [
    "#### **7. Key properties of a Bernoulli distribution**\n",
    "- Only two outcomes: 1 (success) or 0 (failure).\n",
    "- Parameter $ p $: probability of success.\n",
    "- Mean = $ p $, Variance = $ p(1 - p) $"
   ]
  },
  {
   "cell_type": "markdown",
   "metadata": {},
   "source": [
    "#### **8. What is the binomial distribution and how is it used?**\n",
    "- Models the number of successes in $ n $ independent Bernoulli trials.\n",
    "- Parameters: $ n $ (number of trials), $ p $ (probability of success).\n",
    "  \n",
    "  $\n",
    "  P(X = k) = \\binom{n}{k} p^k (1-p)^{n-k}\n",
    "  $\n",
    "Used in quality control, survey analysis, etc."
   ]
  },
  {
   "cell_type": "markdown",
   "metadata": {},
   "source": [
    "#### **9. What is the Poisson distribution and where is it applied?**\n",
    "- Models the number of events occurring in a fixed interval (time, area, etc.), given a constant average rate $\\lambda $.\n",
    "  \n",
    "  $$\n",
    "  P(X = k) = \\frac{e^{-\\lambda} \\lambda^k}{k!}\n",
    "  $$\n",
    "Applications: call centers, number of emails per hour, etc."
   ]
  },
  {
   "cell_type": "markdown",
   "metadata": {},
   "source": [
    "#### **10. What is a continuous uniform distribution?**\n",
    "All values in an interval \\([a, b]\\) are equally likely.\n",
    "\n",
    "PDF:\n",
    "$\n",
    "f(x) = \\frac{1}{b - a}, \\quad a \\leq x \\leq b\n",
    "$"
   ]
  },
  {
   "cell_type": "markdown",
   "metadata": {},
   "source": [
    "#### **11. Characteristics of a normal distribution**\n",
    "- Bell-shaped and symmetric.\n",
    "- Defined by mean $ \\mu $ and standard deviation $\\sigma$.\n",
    "- 68-95-99.7 rule for spread."
   ]
  },
  {
   "cell_type": "markdown",
   "metadata": {},
   "source": [
    "#### **12. What is the standard normal distribution, and why is it important?**\n",
    "- A normal distribution with $ \\mu = 0 $ and $ \\sigma = 1 $.\n",
    "- Used to simplify calculations and look up probabilities using **Z-scores**."
   ]
  },
  {
   "cell_type": "markdown",
   "metadata": {},
   "source": [
    "#### **13. What is the Central Limit Theorem (CLT), and why is it critical in statistics?**\n",
    "The **CLT** states that the sampling distribution of the sample mean approaches a **normal distribution** as the sample size increases, regardless of the original distribution."
   ]
  },
  {
   "cell_type": "markdown",
   "metadata": {},
   "source": [
    "#### **14. How does the CLT relate to the normal distribution?**\n",
    "It explains why the normal distribution appears so often: means of large samples tend to be normally distributed, even if the original data is not."
   ]
  },
  {
   "cell_type": "markdown",
   "metadata": {},
   "source": [
    "#### **15. Application of Z-statistics in hypothesis testing**\n",
    "Used to test hypotheses about population means when population standard deviation is known."
   ]
  },
  {
   "cell_type": "markdown",
   "metadata": {},
   "source": [
    "#### **16. How to calculate a Z-score, and what does it represent?**\n",
    "$$\n",
    "Z = \\frac{X - \\mu}{\\sigma}\n",
    "$$\n",
    "- Measures how many standard deviations a value is from the mean."
   ]
  },
  {
   "cell_type": "markdown",
   "metadata": {},
   "source": [
    "#### **17. Point estimates and interval estimates**\n",
    "- **Point estimate**: A single value (e.g., sample mean) as an estimate of a parameter.\n",
    "- **Interval estimate**: A range (e.g., confidence interval) likely to contain the parameter."
   ]
  },
  {
   "cell_type": "markdown",
   "metadata": {},
   "source": [
    "#### **18. Significance of confidence intervals**\n",
    "They provide a range of values within which the true parameter likely lies, with a given level of confidence (e.g., 95%)."
   ]
  },
  {
   "cell_type": "markdown",
   "metadata": {},
   "source": [
    "#### **19. Relationship between a Z-score and a confidence interval**\n",
    "Z-scores define the bounds of a confidence interval:\n",
    "$$\n",
    "\\text{CI} = \\bar{x} \\pm Z_{\\alpha/2} \\cdot \\frac{\\sigma}{\\sqrt{n}}\n",
    "$$\n"
   ]
  },
  {
   "cell_type": "markdown",
   "metadata": {},
   "source": [
    "#### **20. How are Z-scores used to compare different distributions?**\n",
    "They standardize values, allowing comparison across different distributions by measuring relative distance from their respective means."
   ]
  },
  {
   "cell_type": "markdown",
   "metadata": {},
   "source": [
    "#### **21. Assumptions for applying the Central Limit Theorem**\n",
    "- Independent observations.\n",
    "- Sample size n >= 30  is generally sufficient.\n",
    "- Finite mean and variance."
   ]
  },
  {
   "cell_type": "markdown",
   "metadata": {},
   "source": [
    "#### **22. What is the concept of expected value in a probability distribution?**\n",
    "The **expected value** is the long-run average outcome:\n",
    "- Discrete: $$E[X] = \\sum x_i P(x_i)$$\n",
    "- Continuous: $$ E[X] = \\int x f(x) dx$$"
   ]
  },
  {
   "cell_type": "markdown",
   "metadata": {},
   "source": [
    "#### **23. How does a probability distribution relate to the expected outcome of a random variable?**\n",
    "The distribution defines the likelihood of outcomes, and the **expected value** is the weighted average of those outcomes."
   ]
  },
  {
   "cell_type": "markdown",
   "metadata": {},
   "source": []
  }
 ],
 "metadata": {
  "language_info": {
   "name": "python"
  }
 },
 "nbformat": 4,
 "nbformat_minor": 2
}
