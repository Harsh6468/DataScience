{
 "cells": [
  {
   "cell_type": "markdown",
   "metadata": {},
   "source": [
    "## **Restful API & Flask**"
   ]
  },
  {
   "cell_type": "markdown",
   "metadata": {},
   "source": [
    "### **Theory Question**"
   ]
  },
  {
   "cell_type": "markdown",
   "metadata": {},
   "source": [
    "#### 1. **What is a RESTful API?**\n",
    "A RESTful API (Representational State Transfer API) is an architectural style for designing networked applications. It follows six principles: \n",
    "1. **Statelessness** – Each request contains all necessary information, with no session stored on the server.\n",
    "2. **Client-Server Architecture** – The frontend and backend remain separate.\n",
    "3. **Cacheability** – Responses should be cacheable when needed.\n",
    "4. **Uniform Interface** – A consistent structure for resources (like `/users`, `/orders`).\n",
    "5. **Layered System** – The API can be structured with multiple layers (e.g., authentication, data).\n",
    "6. **Code on Demand (optional)** – Servers can send executable code.\n",
    "\n",
    "It uses HTTP methods such as **GET, POST, PUT, DELETE** to interact with resources, often returning JSON or XML responses."
   ]
  },
  {
   "cell_type": "markdown",
   "metadata": {},
   "source": [
    "#### 2. **Explain the concept of API specification.**\n",
    "An API specification defines the structure and behavior of an API, ensuring consistency in implementation. It typically includes:\n",
    "- **Endpoints and URL structure** (e.g., `/api/users`)\n",
    "- **HTTP Methods** (GET, POST, PUT, DELETE)\n",
    "- **Request and Response Formats** (JSON, XML)\n",
    "- **Authentication Mechanisms** (JWT, OAuth)\n",
    "- **Error Handling** (standard error codes)\n",
    "\n",
    "Popular API specifications include **OpenAPI (Swagger)** and **RAML**, which help developers understand and test APIs efficiently."
   ]
  },
  {
   "cell_type": "markdown",
   "metadata": {},
   "source": [
    "#### 3. **What is Flask, and why is it popular for building APIs?**\n",
    "Flask is a **lightweight, micro web framework** for Python. It is widely used for building web applications and APIs due to:\n",
    "- **Simplicity & Minimalism** – Easy to set up with just a few lines of code.\n",
    "- **Flexibility** – Developers can choose how to structure the application.\n",
    "- **Built-in Development Server** – Comes with debugging tools.\n",
    "- **Extensibility** – Supports third-party extensions like Flask-SQLAlchemy and Flask-RESTful.\n",
    "\n",
    "Example of a simple Flask app:\n",
    "```python\n",
    "from flask import Flask\n",
    "app = Flask(__name__)\n",
    "\n",
    "@app.route('/')\n",
    "def home():\n",
    "    return \"Welcome to Flask API!\"\n",
    "\n",
    "if __name__ == '__main__':\n",
    "    app.run(debug=True)\n",
    "```"
   ]
  },
  {
   "cell_type": "markdown",
   "metadata": {},
   "source": [
    "#### 4. **What is routing in Flask?**\n",
    "Routing in Flask refers to the process of **mapping URLs to specific functions** that handle requests.\n",
    "\n",
    "Example:\n",
    "```python\n",
    "@app.route('/hello')\n",
    "def hello():\n",
    "    return \"Hello, Flask!\"\n",
    "```\n",
    "When a user accesses `/hello`, Flask executes the `hello()` function and returns a response."
   ]
  },
  {
   "cell_type": "markdown",
   "metadata": {},
   "source": [
    "#### 5. **How do you create a simple Flask application?**\n",
    "A basic Flask app includes:\n",
    "1. Importing Flask\n",
    "2. Creating an instance of `Flask`\n",
    "3. Defining routes\n",
    "4. Running the application\n",
    "\n",
    "Example:\n",
    "```python\n",
    "from flask import Flask\n",
    "app = Flask(__name__)\n",
    "\n",
    "@app.route('/')\n",
    "def index():\n",
    "    return \"Welcome to Flask!\"\n",
    "\n",
    "if __name__ == '__main__':\n",
    "    app.run(debug=True)\n",
    "```"
   ]
  },
  {
   "cell_type": "markdown",
   "metadata": {},
   "source": [
    "#### 6. **What are HTTP methods used in RESTful APIs?**\n",
    "Common HTTP methods:\n",
    "- **GET** – Retrieve data (e.g., fetch user info)\n",
    "- **POST** – Create new data (e.g., add a new user)\n",
    "- **PUT** – Update an existing resource (e.g., update profile)\n",
    "- **DELETE** – Remove a resource (e.g., delete an account)\n",
    "- **PATCH** – Partially update a resource (e.g., change username)"
   ]
  },
  {
   "cell_type": "markdown",
   "metadata": {},
   "source": [
    "#### 7. **What is the purpose of the `@app.route()` decorator in Flask?**\n",
    "The `@app.route()` decorator maps a **URL endpoint to a function**, making it accessible as a web route.\n",
    "\n",
    "Example:\n",
    "```python\n",
    "@app.route('/about')\n",
    "def about():\n",
    "    return \"About Page\"\n",
    "```\n",
    "When a user visits `/about`, Flask runs the `about()` function.\n"
   ]
  },
  {
   "cell_type": "markdown",
   "metadata": {},
   "source": [
    "#### 8. **What is the difference between GET and POST HTTP methods?**\n",
    "| **Method** | **Purpose** | **Example** |\n",
    "|------------|------------|-------------|\n",
    "| **GET** | Retrieves data without modifying the server | Fetching a user profile |\n",
    "| **POST** | Sends data to the server to create a resource | Creating a new user |\n",
    "\n",
    "Example:\n",
    "```python\n",
    "@app.route('/user', methods=['POST'])\n",
    "def create_user():\n",
    "    return \"User created\", 201\n",
    "```"
   ]
  },
  {
   "cell_type": "markdown",
   "metadata": {},
   "source": [
    "#### 9. **How do you handle errors in Flask APIs?**\n",
    "Error handling ensures the API responds with meaningful messages when something goes wrong.\n",
    "\n",
    "Example:\n",
    "```python\n",
    "from flask import jsonify\n",
    "\n",
    "@app.errorhandler(404)\n",
    "def not_found(error):\n",
    "    return jsonify({\"error\": \"Resource not found\"}), 404\n",
    "```\n",
    "If a user requests a nonexistent URL, they receive a `404 Not Found` response."
   ]
  },
  {
   "cell_type": "markdown",
   "metadata": {},
   "source": [
    "#### 10. **How do you connect Flask to a SQL database?**\n",
    "Flask uses **Flask-SQLAlchemy** to interact with databases.\n",
    "\n",
    "Example:\n",
    "```python\n",
    "from flask_sqlalchemy import SQLAlchemy\n",
    "\n",
    "app.config['SQLALCHEMY_DATABASE_URI'] = 'sqlite:///database.db'\n",
    "db = SQLAlchemy(app)\n",
    "```\n",
    "This establishes a connection with an SQLite database."
   ]
  },
  {
   "cell_type": "markdown",
   "metadata": {},
   "source": [
    "#### 11. **What is the role of Flask-SQLAlchemy?**\n",
    "Flask-SQLAlchemy is an Object-Relational Mapper (ORM) for Flask that allows developers to use Python objects instead of raw SQL queries.\n",
    "\n",
    "Example:\n",
    "```python\n",
    "class User(db.Model):\n",
    "    id = db.Column(db.Integer, primary_key=True)\n",
    "    name = db.Column(db.String(50), nullable=False)\n",
    "```"
   ]
  },
  {
   "cell_type": "markdown",
   "metadata": {},
   "source": [
    "#### 12. **What are Flask blueprints, and how are they useful?**\n",
    "Blueprints help in structuring large Flask applications into **modular components**.\n",
    "\n",
    "Example:\n",
    "```python\n",
    "from flask import Blueprint\n",
    "\n",
    "user_bp = Blueprint('user_bp', __name__)\n",
    "\n",
    "@user_bp.route('/profile')\n",
    "def profile():\n",
    "    return \"User Profile Page\"\n",
    "```\n",
    "Blueprints help keep routes organized."
   ]
  },
  {
   "cell_type": "markdown",
   "metadata": {},
   "source": [
    "#### 13. **What is the purpose of Flask's `request` object?**\n",
    "The `request` object provides access to incoming request data, such as:\n",
    "- URL parameters\n",
    "- JSON payloads\n",
    "- Form data\n",
    "- Headers\n",
    "\n",
    "Example:\n",
    "```python\n",
    "from flask import request\n",
    "\n",
    "@app.route('/login', methods=['POST'])\n",
    "def login():\n",
    "    username = request.json.get('username')\n",
    "    return f\"Logged in as {username}\"\n",
    "```"
   ]
  },
  {
   "cell_type": "markdown",
   "metadata": {},
   "source": [
    "#### 14. **How do you create a RESTful API endpoint using Flask?**\n",
    "```python\n",
    "@app.route('/api/data', methods=['GET'])\n",
    "def get_data():\n",
    "    return jsonify({\"message\": \"Hello, API!\"})\n",
    "```\n",
    "This endpoint returns JSON data when accessed."
   ]
  },
  {
   "cell_type": "markdown",
   "metadata": {},
   "source": [
    "#### 15. **What is the purpose of Flask's `jsonify()` function?**\n",
    "`jsonify()` converts Python dictionaries into properly formatted JSON responses.\n",
    "\n",
    "Example:\n",
    "```python\n",
    "jsonify({\"message\": \"Success\"})\n",
    "```"
   ]
  },
  {
   "cell_type": "markdown",
   "metadata": {},
   "source": [
    "#### 16. **Explain Flask’s `url_for()` function.**\n",
    "Flask’s `url_for()` function dynamically generates URLs for routes based on the function name instead of hardcoding URLs. This helps in maintaining flexibility and avoiding broken links when URLs change.\n",
    "\n",
    "Example:\n",
    "```python\n",
    "url_for('profile')\n",
    "```"
   ]
  },
  {
   "cell_type": "markdown",
   "metadata": {},
   "source": [
    "#### 17. **How does Flask handle static files (CSS, JavaScript, etc.)?**\n",
    "Flask serves static files (like CSS, JavaScript, images) from a default directory named `static/` in the project root. These files can be accessed using the url_for() function.\n",
    "Example:\n",
    "```html\n",
    "<link rel=\"stylesheet\" href=\"{{ url_for('static', filename='styles.css') }}\">\n",
    "```"
   ]
  },
  {
   "cell_type": "markdown",
   "metadata": {},
   "source": [
    "#### 18. **What is an API specification, and how does it help in building a Flask API?**\n",
    "An API specification is a structured document that defines how a RESTful API should behave. It outlines endpoints, request/response formats, authentication methods, error handling, and other key aspects.\n",
    "\n",
    "Popular API specification formats include:\n",
    "- OpenAPI (Swagger)\n",
    "- RAML (RESTful API Modeling Language)\n",
    "- API Blueprint\n",
    "\n",
    "API Specification Helps in Flask API Development\n",
    "1. Clear Documentation\n",
    "    - Acts as a reference for developers and consumers of the API.\n",
    "    - Helps frontend and backend teams collaborate effectively.\n",
    "2. Standardization & Consistency\n",
    "    - Ensures all endpoints follow a uniform structure.\n",
    "    - Helps enforce naming conventions and response formats.\n",
    "3. Automatic Code Generation\n",
    "    - Tools like Swagger Codegen can generate Flask route handlers from an OpenAPI spec.\n",
    "4. Testing & Validation\n",
    "    - Helps in API testing by validating requests and responses against the spec.\n",
    "    - Ensures proper error handling and response consistency.\n",
    "5. Easier Client Integration\n",
    "    - Third-party developers can integrate with your API using the documented spec.\n",
    "    - Reduces confusion about expected request formats and responses."
   ]
  },
  {
   "cell_type": "markdown",
   "metadata": {},
   "source": [
    "#### 19. **What are HTTP status codes, and why are they important in a Flask API?**\n",
    "HTTP status codes indicate request outcomes:\n",
    "- **200 OK** – Success\n",
    "- **201 Created** – Resource added\n",
    "- **400 Bad Request** – Invalid input\n",
    "- **404 Not Found** – Resource not found\n",
    "- **500 Internal Server Error** – Server failure"
   ]
  },
  {
   "cell_type": "markdown",
   "metadata": {},
   "source": [
    "#### 20. **How do you handle POST requests in Flask?**\n",
    "In Flask, `POST` requests are used to send data to the server, usually to create or update a resource. You can handle POST requests using the @app.route() decorator with the methods=['POST'] parameter.\n",
    "```python\n",
    "@app.route('/data', methods=['POST'])\n",
    "def receive_data():\n",
    "    data = request.json\n",
    "    return jsonify({\"received\": data}), 201\n",
    "```"
   ]
  },
  {
   "cell_type": "markdown",
   "metadata": {},
   "source": [
    "#### 21. **How would you secure a Flask API?**\n",
    "To secure a Flask API, implement authentication (JWT, API keys), enforce HTTPS, validate user inputs to prevent SQL injection and XSS, and enable CSRF protection using Flask-WTF. Use CORS to restrict API access to trusted domains and implement rate limiting with Flask-Limiter to prevent abuse. Store sensitive data like API keys in environment variables instead of hardcoding them. Monitor logs for suspicious activities and use tools like Sentry for error tracking. Restrict access based on user roles (RBAC) and ensure only authorized users access protected routes. By applying these security measures, you can protect your Flask API from common vulnerabilities."
   ]
  },
  {
   "cell_type": "markdown",
   "metadata": {},
   "source": [
    "#### 22. **What is the significance of Flask-RESTful?**\n",
    "Flask-RESTful is an extension for Flask that simplifies the creation of RESTful APIs by providing built-in support for request parsing, input validation, resource-based routing, and automatic response formatting. It structures APIs around **resources** (Python classes) instead of manually defining routes, making code more modular and maintainable. It also integrates with Flask's request and response cycle, handling JSON serialization with `marshal` and `fields`. Additionally, it supports authentication, error handling, and method-based HTTP operations (`GET`, `POST`, `PUT`, `DELETE`). By using Flask-RESTful, developers can build clean, scalable, and efficient REST APIs with minimal boilerplate code. 🚀"
   ]
  },
  {
   "cell_type": "markdown",
   "metadata": {},
   "source": [
    "#### 23. **What is the role of Flask’s `session` object?**\n",
    "Flask’s `session` object is used to store user-specific data across multiple requests, allowing state management in a stateless HTTP environment. It works like a dictionary and keeps data such as user authentication status, preferences, or temporary information. Flask sessions are **signed with a secret key** (`SECRET_KEY`) to ensure data integrity and prevent tampering. By default, Flask stores session data in cookies, but for better security and scalability, it can be configured to use server-side storage like Redis or databases. The `session` object enables user tracking and personalized experiences in Flask applications while maintaining security through encryption and expiration controls. 🚀"
   ]
  },
  {
   "cell_type": "markdown",
   "metadata": {},
   "source": [
    "### **Practical Question**"
   ]
  },
  {
   "cell_type": "markdown",
   "metadata": {},
   "source": [
    "There is seperate file for each question.s"
   ]
  },
  {
   "cell_type": "markdown",
   "metadata": {},
   "source": []
  }
 ],
 "metadata": {
  "kernelspec": {
   "display_name": "venv",
   "language": "python",
   "name": "python3"
  },
  "language_info": {
   "codemirror_mode": {
    "name": "ipython",
    "version": 3
   },
   "file_extension": ".py",
   "mimetype": "text/x-python",
   "name": "python",
   "nbconvert_exporter": "python",
   "pygments_lexer": "ipython3",
   "version": "3.13.2"
  }
 },
 "nbformat": 4,
 "nbformat_minor": 2
}
