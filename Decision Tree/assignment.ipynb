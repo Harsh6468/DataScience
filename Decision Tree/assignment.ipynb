{
 "cells": [
  {
   "cell_type": "markdown",
   "metadata": {},
   "source": [
    "## **Decision Tree**"
   ]
  },
  {
   "cell_type": "markdown",
   "id": "0ae5e4e8",
   "metadata": {},
   "source": [
    "### **1. What is a Decision Tree, and how does it work?**\n",
    "A **Decision Tree** is a flowchart-like structure used for classification and regression tasks. It splits the dataset into subsets based on feature values, with each node representing a test on a feature, each branch representing the outcome, and each leaf node a final prediction.\n",
    "It works recursively by selecting the best feature and threshold that maximize some metric (like Information Gain or Gini reduction), partitioning the data until stopping criteria are met."
   ]
  },
  {
   "cell_type": "markdown",
   "metadata": {},
   "source": [
    "### **2. What are impurity measures in Decision Trees?**\n",
    "Impurity measures determine how mixed the classes are in a dataset:\n",
    "- **Gini Impurity**: Measures the probability of incorrectly classifying a randomly chosen element.\n",
    "- **Entropy**: Measures the level of disorder or unpredictability in the dataset.\n",
    "\n",
    "These are used to decide the best splits while building the tree."
   ]
  },
  {
   "cell_type": "markdown",
   "metadata": {},
   "source": [
    "### **3. What is the mathematical formula for Gini Impurity?**\n",
    "For a node with classes $C = \\{c_1, c_2, ..., c_n\\}$:\n",
    "$$\n",
    "Gini = 1 - \\sum_{i=1}^{n} p_i^2\n",
    "$$\n",
    "Where $p_i$ is the proportion of class $c_i$ in the node."
   ]
  },
  {
   "cell_type": "markdown",
   "metadata": {},
   "source": [
    "### **4. What is the mathematical formula for Entropy?**\n",
    "For a node with classes $ C = \\{c_1, c_2, ..., c_n\\} $:\n",
    "$\n",
    "[ Entropy = - \\sum_{i=1}^{n} p_i \\log_2(p_i) ]\n",
    "$\n",
    "Where $ p_i $ is the probability of class $ c_i $ in the node."
   ]
  },
  {
   "cell_type": "markdown",
   "metadata": {},
   "source": [
    "### **5. What is Information Gain, and how is it used in Decision Trees?**\n",
    "**Information Gain (IG)** measures the reduction in impurity (Entropy or Gini) after a split:\n",
    "$ IG(D, A) = I(D) - \\sum_{v \\in Values(A)} \\frac{|D_v|}{|D|} I(D_v) $\n",
    "Where $ I $ is impurity, $ D $ is the dataset, and $ A $ is the attribute. IG is used to select the best split."
   ]
  },
  {
   "cell_type": "markdown",
   "metadata": {},
   "source": [
    "### **6. What is the difference between Gini Impurity and Entropy?**\n",
    "- **Gini** is computationally simpler and faster.\n",
    "- **Entropy** is derived from information theory and penalizes impurity more heavily.\n",
    "- Both often lead to similar splits, but Gini tends to isolate the most frequent class more quickly."
   ]
  },
  {
   "cell_type": "markdown",
   "metadata": {},
   "source": [
    "### **7. What is the mathematical explanation behind Decision Trees?**\n",
    "Decision Trees use a greedy algorithm (like ID3 or CART) to:\n",
    "1. Compute an impurity score (Gini or Entropy) for each feature split.\n",
    "2. Select the split that gives the highest Information Gain.\n",
    "3. Recursively partition the dataset until stopping criteria are met (e.g., max depth, min samples, or pure nodes)."
   ]
  },
  {
   "cell_type": "markdown",
   "metadata": {},
   "source": [
    "### **8. What is Pre-Pruning in Decision Trees?**\n",
    "**Pre-Pruning** stops tree growth early by applying constraints like:\n",
    "- Maximum depth\n",
    "- Minimum samples per leaf\n",
    "- Minimum information gain\n",
    "\n",
    "It helps prevent overfitting but risks underfitting."
   ]
  },
  {
   "cell_type": "markdown",
   "metadata": {},
   "source": [
    "### **9. What is Post-Pruning in Decision Trees?**\n",
    "**Post-Pruning** allows the tree to grow fully, then removes branches that don't add value based on a validation set.\n",
    "\n",
    "Common techniques: Reduced Error Pruning, Cost Complexity Pruning (CART).\n",
    "\n",
    "It typically leads to better generalization than pre-pruning."
   ]
  },
  {
   "cell_type": "markdown",
   "metadata": {},
   "source": [
    "### **10. What is the difference between Pre-Pruning and Post-Pruning?**\n",
    "| Aspect         | Pre-Pruning                      | Post-Pruning                     |\n",
    "|----------------|----------------------------------|----------------------------------|\n",
    "| Timing         | Before full growth               | After full tree is grown         |\n",
    "| Simplicity     | Faster, simpler                  | Requires validation set          |\n",
    "| Risk           | Underfitting                     | Less risk of underfitting        |"
   ]
  },
  {
   "cell_type": "markdown",
   "metadata": {},
   "source": [
    "### **11. What is a Decision Tree Regressor?**\n",
    "A **Decision Tree Regressor** predicts continuous values instead of classes. It minimizes **mean squared error (MSE)** or **mean absolute error (MAE)** at each split.\n",
    "Leaf nodes output the mean of target values in that partition."
   ]
  },
  {
   "cell_type": "markdown",
   "metadata": {},
   "source": [
    "### **12. What are the advantages and disadvantages of Decision Trees?**\n",
    "**Advantages:**\n",
    "- Easy to interpret\n",
    "- No need for feature scaling\n",
    "- Works for both classification and regression\n",
    "\n",
    "**Disadvantages:**\n",
    "- Prone to overfitting\n",
    "- Unstable to small changes\n",
    "- Greedy nature may miss global optimum"
   ]
  },
  {
   "cell_type": "markdown",
   "metadata": {},
   "source": [
    "### **13. How does a Decision Tree handle missing values?**\n",
    "Strategies include:\n",
    "- Ignore samples with missing values\n",
    "- Use surrogate splits (CART)\n",
    "- Impute missing values before training\n",
    "- Distribute samples based on probabilities across branches"
   ]
  },
  {
   "cell_type": "markdown",
   "metadata": {},
   "source": [
    "### **14. How does a Decision Tree handle categorical features?**\n",
    "- By evaluating splits on equality or membership (e.g., \"feature == value\" or \"feature in set\")\n",
    "- Some implementations automatically handle encoding; others require one-hot or ordinal encoding."
   ]
  },
  {
   "cell_type": "markdown",
   "metadata": {},
   "source": [
    "### **15. What are some real-world applications of Decision Trees?**\n",
    "- Medical diagnosis\n",
    "- Credit scoring and loan eligibility\n",
    "- Fraud detection\n",
    "- Customer segmentation\n",
    "- Predictive maintenance"
   ]
  },
  {
   "cell_type": "markdown",
   "id": "c060441e",
   "metadata": {},
   "source": [
    "## **Practicle**"
   ]
  },
  {
   "cell_type": "code",
   "execution_count": null,
   "id": "50bc9bcf",
   "metadata": {},
   "outputs": [
    {
     "name": "stdout",
     "output_type": "stream",
     "text": [
      "Accuracy: 1.0\n"
     ]
    }
   ],
   "source": [
    "# 16. Write a Python program to train a Decision Tree Classifier on the Iris dataset and print the model accuracy.\n",
    "from sklearn.datasets import load_iris\n",
    "from sklearn.tree import DecisionTreeClassifier\n",
    "from sklearn.model_selection import train_test_split\n",
    "from sklearn.metrics import accuracy_score\n",
    "\n",
    "iris = load_iris()\n",
    "X_train, X_test, y_train, y_test = train_test_split(iris.data, iris.target, random_state=42)\n",
    "clf = DecisionTreeClassifier()\n",
    "clf.fit(X_train, y_train)\n",
    "print(\"Accuracy:\", accuracy_score(y_test, clf.predict(X_test)))"
   ]
  },
  {
   "cell_type": "code",
   "execution_count": 2,
   "id": "2446fe94",
   "metadata": {},
   "outputs": [
    {
     "name": "stdout",
     "output_type": "stream",
     "text": [
      "Feature importances (Gini): [0.03575134 0.         0.39794324 0.56630542]\n"
     ]
    }
   ],
   "source": [
    "# 17. Write a Python program to train a Decision Tree Classifier using Gini Impurity as the criterion and print the feature importances\n",
    "clf_gini = DecisionTreeClassifier(criterion='gini')\n",
    "clf_gini.fit(X_train, y_train)\n",
    "print(\"Feature importances (Gini):\", clf_gini.feature_importances_)"
   ]
  },
  {
   "cell_type": "code",
   "execution_count": 4,
   "id": "84bcf0aa",
   "metadata": {},
   "outputs": [
    {
     "name": "stdout",
     "output_type": "stream",
     "text": [
      "Accuracy (Entropy): 0.9736842105263158\n"
     ]
    }
   ],
   "source": [
    "# 18. Write a Python program to train a Decision Tree Classifier using Entropy as the splitting criterion and print the model accuracy\n",
    "clf_entropy = DecisionTreeClassifier(criterion='entropy')\n",
    "clf_entropy.fit(X_train, y_train)\n",
    "print(\"Accuracy (Entropy):\", accuracy_score(y_test, clf_entropy.predict(X_test)))"
   ]
  },
  {
   "cell_type": "code",
   "execution_count": 5,
   "id": "649062fc",
   "metadata": {},
   "outputs": [
    {
     "name": "stdout",
     "output_type": "stream",
     "text": [
      "MSE: 0.5251870412524224\n"
     ]
    }
   ],
   "source": [
    "# 19. Write a Python program to train a Decision Tree Regressor on a housing dataset and evaluate using Mean Squared Error (MSE)\n",
    "from sklearn.datasets import fetch_california_housing\n",
    "from sklearn.tree import DecisionTreeRegressor\n",
    "from sklearn.metrics import mean_squared_error\n",
    "\n",
    "housing = fetch_california_housing()\n",
    "Xh_train, Xh_test, yh_train, yh_test = train_test_split(housing.data, housing.target, random_state=42)\n",
    "reg = DecisionTreeRegressor()\n",
    "reg.fit(Xh_train, yh_train)\n",
    "print(\"MSE:\", mean_squared_error(yh_test, reg.predict(Xh_test)))"
   ]
  },
  {
   "cell_type": "code",
   "execution_count": null,
   "id": "87805c1e",
   "metadata": {},
   "outputs": [],
   "source": [
    "# 20. Write a Python program to train a Decision Tree Classifier and visualize the tree using graphviz\n",
    "from sklearn.tree import export_graphviz\n",
    "import graphviz\n",
    "\n",
    "dot_data = export_graphviz(clf, out_file=None, feature_names=iris.feature_names, class_names=iris.target_names, filled=True)\n",
    "graphviz.Source(dot_data)"
   ]
  },
  {
   "cell_type": "code",
   "execution_count": 7,
   "id": "9e0eb5c8",
   "metadata": {},
   "outputs": [
    {
     "name": "stdout",
     "output_type": "stream",
     "text": [
      "Accuracy (max_depth=3): 1.0\n",
      "Accuracy (full tree): 1.0\n"
     ]
    }
   ],
   "source": [
    "# 21. Write a Python program to train a Decision Tree Classifier with a maximum depth of 3 and compare its accuracy with a fully grown tree\n",
    "clf_limited = DecisionTreeClassifier(max_depth=3)\n",
    "clf_limited.fit(X_train, y_train)\n",
    "print(\"Accuracy (max_depth=3):\", accuracy_score(y_test, clf_limited.predict(X_test)))\n",
    "print(\"Accuracy (full tree):\", accuracy_score(y_test, clf.predict(X_test)))"
   ]
  },
  {
   "cell_type": "code",
   "execution_count": 8,
   "id": "4833bd32",
   "metadata": {},
   "outputs": [
    {
     "name": "stdout",
     "output_type": "stream",
     "text": [
      "Accuracy (min_samples_split=5): 1.0\n",
      "Accuracy (default): 1.0\n"
     ]
    }
   ],
   "source": [
    "# 22. Write a Python program to train a Decision Tree Classifier using min_samples_split=5 and compare its accuracy with a default tree\n",
    "clf_split5 = DecisionTreeClassifier(min_samples_split=5)\n",
    "clf_split5.fit(X_train, y_train)\n",
    "print(\"Accuracy (min_samples_split=5):\", accuracy_score(y_test, clf_split5.predict(X_test)))\n",
    "print(\"Accuracy (default):\", accuracy_score(y_test, clf.predict(X_test)))"
   ]
  },
  {
   "cell_type": "code",
   "execution_count": 9,
   "id": "aa60c58a",
   "metadata": {},
   "outputs": [
    {
     "name": "stdout",
     "output_type": "stream",
     "text": [
      "Accuracy (scaled): 1.0\n",
      "Accuracy (unscaled): 1.0\n"
     ]
    }
   ],
   "source": [
    "# 23. Write a Python program to apply feature scaling before training a Decision Tree Classifier and compare its accuracy with unscaled data\n",
    "from sklearn.preprocessing import StandardScaler\n",
    "\n",
    "scaler = StandardScaler()\n",
    "X_train_scaled = scaler.fit_transform(X_train)\n",
    "X_test_scaled = scaler.transform(X_test)\n",
    "clf_scaled = DecisionTreeClassifier()\n",
    "clf_scaled.fit(X_train_scaled, y_train)\n",
    "print(\"Accuracy (scaled):\", accuracy_score(y_test, clf_scaled.predict(X_test_scaled)))\n",
    "print(\"Accuracy (unscaled):\", accuracy_score(y_test, clf.predict(X_test)))"
   ]
  },
  {
   "cell_type": "code",
   "execution_count": 10,
   "id": "103f173a",
   "metadata": {},
   "outputs": [
    {
     "name": "stdout",
     "output_type": "stream",
     "text": [
      "Accuracy (OvR): 1.0\n"
     ]
    }
   ],
   "source": [
    "# 24. Write a Python program to train a Decision Tree Classifier using One-vs-Rest (OvR) strategy for multiclass classification\n",
    "from sklearn.multiclass import OneVsRestClassifier\n",
    "ovr_clf = OneVsRestClassifier(DecisionTreeClassifier())\n",
    "ovr_clf.fit(X_train, y_train)\n",
    "print(\"Accuracy (OvR):\", ovr_clf.score(X_test, y_test))"
   ]
  },
  {
   "cell_type": "code",
   "execution_count": 11,
   "id": "570643c2",
   "metadata": {},
   "outputs": [
    {
     "name": "stdout",
     "output_type": "stream",
     "text": [
      "Feature importances: [0.01787567 0.01787567 0.88187037 0.08237829]\n"
     ]
    }
   ],
   "source": [
    "# 25. Write a Python program to train a Decision Tree Classifier and display the feature importance scores.\n",
    "clf = DecisionTreeClassifier()\n",
    "clf.fit(X_train, y_train)\n",
    "print(\"Feature importances:\", clf.feature_importances_)"
   ]
  },
  {
   "cell_type": "code",
   "execution_count": 12,
   "id": "110b07f4",
   "metadata": {},
   "outputs": [
    {
     "name": "stdout",
     "output_type": "stream",
     "text": [
      "MSE (max_depth=5): 0.526799989691142\n",
      "MSE (full tree): 0.5251870412524224\n"
     ]
    }
   ],
   "source": [
    "# 26. Write a Python program to train a Decision Tree Regressor with max_depth=5 and compare its performance with an unrestricted tree.\n",
    "reg_limited = DecisionTreeRegressor(max_depth=5)\n",
    "reg_limited.fit(Xh_train, yh_train)\n",
    "print(\"MSE (max_depth=5):\", mean_squared_error(yh_test, reg_limited.predict(Xh_test)))\n",
    "print(\"MSE (full tree):\", mean_squared_error(yh_test, reg.predict(Xh_test)))"
   ]
  },
  {
   "cell_type": "code",
   "execution_count": 13,
   "id": "891deffb",
   "metadata": {},
   "outputs": [
    {
     "data": {
      "image/png": "[encoded data removed]",
      "text/plain": [
       "<Figure size 640x480 with 1 Axes>"
      ]
     },
     "metadata": {},
     "output_type": "display_data"
    }
   ],
   "source": [
    "# 27. Write a Python program to train a Decision Tree Classifier, apply Cost Complexity Pruning (CCP), and visualize its effect on accuracy\n",
    "path = clf.cost_complexity_pruning_path(X_train, y_train)\n",
    "ccp_alphas = path.ccp_alphas[:-1]\n",
    "clfs = [DecisionTreeClassifier(ccp_alpha=alpha).fit(X_train, y_train) for alpha in ccp_alphas]\n",
    "accs = [accuracy_score(y_test, clf_.predict(X_test)) for clf_ in clfs]\n",
    "import matplotlib.pyplot as plt\n",
    "plt.plot(ccp_alphas, accs)\n",
    "plt.xlabel('ccp_alpha')\n",
    "plt.ylabel('Accuracy')\n",
    "plt.title('Accuracy vs CCP Alpha')\n",
    "plt.show()"
   ]
  },
  {
   "cell_type": "code",
   "execution_count": 14,
   "id": "4f7822bc",
   "metadata": {},
   "outputs": [
    {
     "name": "stdout",
     "output_type": "stream",
     "text": [
      "              precision    recall  f1-score   support\n",
      "\n",
      "      setosa       1.00      1.00      1.00        15\n",
      "  versicolor       1.00      1.00      1.00        11\n",
      "   virginica       1.00      1.00      1.00        12\n",
      "\n",
      "    accuracy                           1.00        38\n",
      "   macro avg       1.00      1.00      1.00        38\n",
      "weighted avg       1.00      1.00      1.00        38\n",
      "\n"
     ]
    }
   ],
   "source": [
    "# 28. Write a Python program to train a Decision Tree Classifier and evaluate its performance using Precision, Recall, and F1-Score\n",
    "from sklearn.metrics import classification_report\n",
    "print(classification_report(y_test, clf.predict(X_test), target_names=iris.target_names))"
   ]
  },
  {
   "cell_type": "code",
   "execution_count": 15,
   "id": "4f29bee6",
   "metadata": {},
   "outputs": [
    {
     "data": {
      "image/png": "[encoded data removed]",
      "text/plain": [
       "<Figure size 640x480 with 2 Axes>"
      ]
     },
     "metadata": {},
     "output_type": "display_data"
    }
   ],
   "source": [
    "# 29. Write a Python program to train a Decision Tree Classifier and visualize the confusion matrix using seaborn.\n",
    "from sklearn.metrics import confusion_matrix\n",
    "import seaborn as sns\n",
    "import matplotlib.pyplot as plt\n",
    "cm = confusion_matrix(y_test, clf.predict(X_test))\n",
    "sns.heatmap(cm, annot=True, cmap='Blues', xticklabels=iris.target_names, yticklabels=iris.target_names)\n",
    "plt.xlabel('Predicted')\n",
    "plt.ylabel('True')\n",
    "plt.title('Confusion Matrix')\n",
    "plt.show()"
   ]
  },
  {
   "cell_type": "code",
   "execution_count": 16,
   "id": "b9fc67c7",
   "metadata": {},
   "outputs": [
    {
     "name": "stdout",
     "output_type": "stream",
     "text": [
      "Best Parameters: {'max_depth': 4, 'min_samples_split': 2}\n",
      "Best Score: 0.9367588932806324\n",
      "Test Accuracy: 1.0\n"
     ]
    }
   ],
   "source": [
    "# 30. Write a Python program to train a Decision Tree Classifier and use GridSearchCV to find the optimal values for max_depth and min_samples_split.\n",
    "from sklearn.model_selection import GridSearchCV\n",
    "param_grid = {\n",
    "    'max_depth': [2, 3, 4, 5, None],\n",
    "    'min_samples_split': [2, 5, 10]\n",
    "}\n",
    "grid = GridSearchCV(DecisionTreeClassifier(), param_grid, cv=5)\n",
    "grid.fit(X_train, y_train)\n",
    "print(\"Best Parameters:\", grid.best_params_)\n",
    "print(\"Best Score:\", grid.best_score_)\n",
    "print(\"Test Accuracy:\", accuracy_score(y_test, grid.predict(X_test)))"
   ]
  },
  {
   "cell_type": "code",
   "execution_count": null,
   "id": "de30173a",
   "metadata": {},
   "outputs": [],
   "source": []
  }
 ],
 "metadata": {
  "kernelspec": {
   "display_name": "venv",
   "language": "python",
   "name": "python3"
  },
  "language_info": {
   "codemirror_mode": {
    "name": "ipython",
    "version": 3
   },
   "file_extension": ".py",
   "mimetype": "text/x-python",
   "name": "python",
   "nbconvert_exporter": "python",
   "pygments_lexer": "ipython3",
   "version": "3.13.2"
  }
 },
 "nbformat": 4,
 "nbformat_minor": 5
}
