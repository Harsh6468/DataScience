{
 "cells": [
  {
   "cell_type": "markdown",
   "id": "9a5be454",
   "metadata": {},
   "source": [
    "## **Regression**"
   ]
  },
  {
   "cell_type": "markdown",
   "id": "28238cb7",
   "metadata": {},
   "source": [
    "### **1. What is Simple Linear Regression?**\n",
    "Simple Linear Regression is a statistical method used to model the relationship between a dependent variable and a single independent variable using a straight line (Y = mX + c)."
   ]
  },
  {
   "cell_type": "markdown",
   "id": "f177f08d",
   "metadata": {},
   "source": [
    "### **2. What are the key assumptions of Simple Linear Regression?**\n",
    "\n",
    "- Linearity\n",
    "- Independence\n",
    "- Homoscedasticity\n",
    "- Normal distribution of residuals\n",
    "- No or little multicollinearity"
   ]
  },
  {
   "cell_type": "markdown",
   "id": "818f3cfe",
   "metadata": {},
   "source": [
    "### **3. What does the coefficient m represent in the equation Y=mX+c?**\n",
    "\n",
    "The coefficient m represents the slope of the line, indicating the change in Y for a one-unit change in X."
   ]
  },
  {
   "cell_type": "markdown",
   "id": "47cfec54",
   "metadata": {},
   "source": [
    "### **4. What does the intercept c represent in the equation Y=mX+c?**\n",
    "\n",
    "The intercept c is the value of Y when X is 0."
   ]
  },
  {
   "cell_type": "markdown",
   "id": "7f60283c",
   "metadata": {},
   "source": [
    "### **5. How do we calculate the slope m in Simple Linear Regression?**\n",
    "\n",
    "m = Σ((X - X̄)(Y - Ȳ)) / Σ((X - X̄)²)"
   ]
  },
  {
   "cell_type": "markdown",
   "id": "f44dd039",
   "metadata": {},
   "source": [
    "### **6. What is the purpose of the least squares method in Simple Linear Regression?**\n",
    "\n",
    "To minimize the sum of the squares of the residuals (differences between observed and predicted values)."
   ]
  },
  {
   "cell_type": "markdown",
   "id": "1783afd6",
   "metadata": {},
   "source": [
    "### **7. How is the coefficient of determination (R²) interpreted in Simple Linear Regression?**\n",
    "\n",
    "R² measures the proportion of the variance in the dependent variable that is predictable from the independent variable."
   ]
  },
  {
   "cell_type": "markdown",
   "id": "9baece9c",
   "metadata": {},
   "source": [
    "### **8. What is Multiple Linear Regression?**\n",
    "\n",
    "A statistical method to model the relationship between one dependent variable and two or more independent variables."
   ]
  },
  {
   "cell_type": "markdown",
   "id": "5b20e6a7",
   "metadata": {},
   "source": [
    "### **9. What is the main difference between Simple and Multiple Linear Regression?**\n",
    "\n",
    "Simple Linear Regression uses one independent variable, while Multiple Linear Regression uses two or more."
   ]
  },
  {
   "cell_type": "markdown",
   "id": "e977aeac",
   "metadata": {},
   "source": [
    "### **10. What are the key assumptions of Multiple Linear Regression?**\n",
    "\n",
    "- Linearity\n",
    "- Independence\n",
    "- Homoscedasticity\n",
    "- No multicollinearity\n",
    "- Normal distribution of residuals"
   ]
  },
  {
   "cell_type": "markdown",
   "id": "6cefd406",
   "metadata": {},
   "source": [
    "### **11. What is heteroscedasticity, and how does it affect the results of a Multiple Linear Regression model?**\n",
    "\n",
    "Heteroscedasticity occurs when the residuals have non-constant variance. It can lead to inefficient estimates and misleading statistical tests."
   ]
  },
  {
   "cell_type": "markdown",
   "id": "bd898878",
   "metadata": {},
   "source": [
    "### **12. How can you improve a Multiple Linear Regression model with high multicollinearity?**\n",
    "\n",
    "- Remove highly correlated predictors\n",
    "- Use Principal Component Analysis\n",
    "- Apply Ridge or Lasso regression"
   ]
  },
  {
   "cell_type": "markdown",
   "id": "860bd8a3",
   "metadata": {},
   "source": [
    "### **13. What are some common techniques for transforming categorical variables for use in regression models?**\n",
    "\n",
    "- One-hot encoding\n",
    "- Label encoding\n",
    "- Binary encoding"
   ]
  },
  {
   "cell_type": "markdown",
   "id": "6dc8df52",
   "metadata": {},
   "source": [
    "### **14. What is the role of interaction terms in Multiple Linear Regression?**\n",
    "\n",
    "Interaction terms allow the effect of one variable to depend on the value of another variable."
   ]
  },
  {
   "cell_type": "markdown",
   "id": "df7ea6b9",
   "metadata": {},
   "source": [
    "### **15. How can the interpretation of intercept differ between Simple and Multiple Linear Regression?**\n",
    "\n",
    "In Simple Linear Regression, the intercept is the expected value of Y when X is 0. In Multiple Linear Regression, it's the value of Y when all predictors are 0."
   ]
  },
  {
   "cell_type": "markdown",
   "id": "ad0c5368",
   "metadata": {},
   "source": [
    "### **16. What is the significance of the slope in regression analysis, and how does it affect predictions?**\n",
    "\n",
    "The slope quantifies the change in the dependent variable for a one-unit increase in the predictor. It directly impacts prediction accuracy."
   ]
  },
  {
   "cell_type": "markdown",
   "id": "f1edbe63",
   "metadata": {},
   "source": [
    "### **17. How does the intercept in a regression model provide context for the relationship between variables?**\n",
    "\n",
    "It represents the baseline level of the outcome variable when all predictors are at their reference level (usually zero)."
   ]
  },
  {
   "cell_type": "markdown",
   "id": "69346c66",
   "metadata": {},
   "source": [
    "### **18. What are the limitations of using R² as a sole measure of model performance?**\n",
    "\n",
    "- Doesn’t account for overfitting\n",
    "- Can’t determine if model is adequate\n",
    "- Doesn’t reveal the importance of variables"
   ]
  },
  {
   "cell_type": "markdown",
   "id": "f7a97d9a",
   "metadata": {},
   "source": [
    "### **19. How would you interpret a large standard error for a regression coefficient?**\n",
    "\n",
    "It suggests that the coefficient estimate is not precise and may not be statistically significant."
   ]
  },
  {
   "cell_type": "markdown",
   "id": "a159798d",
   "metadata": {},
   "source": [
    "### **20. How can heteroscedasticity be identified in residual plots, and why is it important to address it?**\n",
    "\n",
    "By plotting residuals vs. fitted values and checking for patterns. It’s important to correct for accurate inference."
   ]
  },
  {
   "cell_type": "markdown",
   "id": "caadfab9",
   "metadata": {},
   "source": [
    "### **21. What does it mean if a Multiple Linear Regression model has a high R² but low adjusted R²?**\n",
    "\n",
    "It indicates that some predictors may not be contributing significantly to the model and it might be overfitting."
   ]
  },
  {
   "cell_type": "markdown",
   "id": "1b1c94be",
   "metadata": {},
   "source": [
    "### **22. Why is it important to scale variables in Multiple Linear Regression?**\n",
    "\n",
    "To ensure that all variables contribute equally and avoid dominance of variables with larger scales."
   ]
  },
  {
   "cell_type": "markdown",
   "id": "86c07a4e",
   "metadata": {},
   "source": [
    "### **23. What is polynomial regression?**\n",
    "\n",
    "A form of regression analysis where the relationship between independent variable and dependent variable is modeled as an nth degree polynomial."
   ]
  },
  {
   "cell_type": "markdown",
   "id": "5ed57718",
   "metadata": {},
   "source": [
    "### **24. How does polynomial regression differ from linear regression?**\n",
    "\n",
    "Polynomial regression fits a curved line, while linear regression fits a straight line."
   ]
  },
  {
   "cell_type": "markdown",
   "id": "d48bc4df",
   "metadata": {},
   "source": [
    "### **25. When is polynomial regression used?**\n",
    "\n",
    "When the data shows a non-linear relationship that cannot be modeled by a straight line."
   ]
  },
  {
   "cell_type": "markdown",
   "id": "b9017c3a",
   "metadata": {},
   "source": [
    "### **26. What is the general equation for polynomial regression?**\n",
    "\n",
    "Y = β₀ + β₁X + β₂X² + ... + βₙXⁿ + ε"
   ]
  },
  {
   "cell_type": "markdown",
   "id": "ca4f5642",
   "metadata": {},
   "source": [
    "### **27. Can polynomial regression be applied to multiple variables?**\n",
    "\n",
    "Yes, using multivariate polynomial terms like X1², X1*X2, etc."
   ]
  },
  {
   "cell_type": "markdown",
   "id": "b3333f0e",
   "metadata": {},
   "source": [
    "### **28. What are the limitations of polynomial regression?**\n",
    "\n",
    "- Overfitting\n",
    "- Poor extrapolation\n",
    "- Increased complexity with higher degrees"
   ]
  },
  {
   "cell_type": "markdown",
   "id": "cc1f7c4f",
   "metadata": {},
   "source": [
    "### **29. What methods can be used to evaluate model fit when selecting the degree of a polynomial?**\n",
    "\n",
    "- Cross-validation\n",
    "- Adjusted R²\n",
    "- AIC/BIC\n",
    "- Residual analysis"
   ]
  },
  {
   "cell_type": "markdown",
   "id": "dfa936b4",
   "metadata": {},
   "source": [
    "### **30. Why is visualization important in polynomial regression?**\n",
    "\n",
    "It helps to understand the shape of the fitted curve and detect overfitting or underfitting."
   ]
  },
  {
   "cell_type": "markdown",
   "id": "19c77844",
   "metadata": {},
   "source": [
    "### **31. How is polynomial regression implemented in Python?**\n",
    "\n",
    "Example:"
   ]
  },
  {
   "cell_type": "code",
   "execution_count": 1,
   "id": "bb015725",
   "metadata": {},
   "outputs": [
    {
     "data": {
      "image/png": "[encoded data removed]",
      "text/plain": [
       "<Figure size 640x480 with 1 Axes>"
      ]
     },
     "metadata": {},
     "output_type": "display_data"
    }
   ],
   "source": [
    "from sklearn.linear_model import LinearRegression\n",
    "from sklearn.preprocessing import PolynomialFeatures\n",
    "import matplotlib.pyplot as plt\n",
    "import numpy as np\n",
    "\n",
    "X = np.array([1, 2, 3, 4, 5]).reshape(-1, 1)\n",
    "y = np.array([1, 4, 9, 16, 25])\n",
    "\n",
    "poly = PolynomialFeatures(degree=2)\n",
    "X_poly = poly.fit_transform(X)\n",
    "\n",
    "model = LinearRegression()\n",
    "model.fit(X_poly, y)\n",
    "\n",
    "y_pred = model.predict(X_poly)\n",
    "plt.scatter(X, y, color='blue')\n",
    "plt.plot(X, y_pred, color='red')\n",
    "plt.title(\"Polynomial Regression (Degree 2)\")\n",
    "plt.xlabel(\"X\")\n",
    "plt.ylabel(\"Y\")\n",
    "plt.show()"
   ]
  },
  {
   "cell_type": "code",
   "execution_count": null,
   "id": "817afdb5",
   "metadata": {},
   "outputs": [],
   "source": []
  }
 ],
 "metadata": {
  "kernelspec": {
   "display_name": "venv",
   "language": "python",
   "name": "python3"
  },
  "language_info": {
   "codemirror_mode": {
    "name": "ipython",
    "version": 3
   },
   "file_extension": ".py",
   "mimetype": "text/x-python",
   "name": "python",
   "nbconvert_exporter": "python",
   "pygments_lexer": "ipython3",
   "version": "3.13.2"
  }
 },
 "nbformat": 4,
 "nbformat_minor": 5
}
