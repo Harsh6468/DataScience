{
 "cells": [
  {
   "cell_type": "markdown",
   "id": "a9dd6d8d",
   "metadata": {},
   "source": [
    "## **Logistic Regression Assignment**"
   ]
  },
  {
   "cell_type": "markdown",
   "id": "94b9355f",
   "metadata": {},
   "source": [
    "## **Theory**"
   ]
  },
  {
   "cell_type": "markdown",
   "id": "4ba326bd",
   "metadata": {},
   "source": [
    "### **1. What is Logistic Regression, and how does it differ from Linear Regression?**\n",
    "Logistic Regression is a classification algorithm used when the dependent variable is categorical where as Linear Regression can predicts continuous values. Logistic Regression predicts probabilities using the sigmoid function to map predictions to binary outputs (0 or 1)."
   ]
  },
  {
   "cell_type": "markdown",
   "id": "738ee098",
   "metadata": {},
   "source": [
    "### **2. What is the mathematical equation of Logistic Regression?**\n",
    "In Logistic Regression, we model the **probability** that a given input $x$ belongs to class 1 (i.e., $P(y = 1 | x)$) using the **sigmoid (logistic) function** applied to a linear combination of input features:\n",
    "\n",
    "$$ h_\\theta(x) = \\frac{1}{1 + e^{-\\theta^T x}} $$\n",
    "\n",
    "Where:\n",
    "\n",
    "* $h_\\theta(x)$ is the predicted probability that $y = 1$ given input $x$\n",
    "* $\\theta$ is the vector of model parameters (weights)\n",
    "* $x$ is the feature vector\n",
    "* $\\theta^T x$ is the dot product of $\\theta$ and $x$\n",
    "\n",
    "The decision boundary is typically at $h_\\theta(x) = 0.5$, i.e.,\n",
    "\n",
    "* If $h_\\theta(x) \\geq 0.5$, predict class **1**\n",
    "* If $h_\\theta(x) < 0.5$, predict class **0**"
   ]
  },
  {
   "cell_type": "markdown",
   "id": "edc198ae",
   "metadata": {},
   "source": [
    "### **3. Why do we use the Sigmoid function in Logistic Regression**\n",
    "The sigmoid function maps any real-valued number to a value between 0 and 1, which can be interpreted as a probability. This is essential for classification tasks."
   ]
  },
  {
   "cell_type": "markdown",
   "id": "042bc19f",
   "metadata": {},
   "source": [
    "### **4. What is the cost function of Logistic Regression**\n",
    "The **cost function** in Logistic Regression is used to evaluate how well the model's predicted probabilities match the actual class labels. It is based on **log loss** or **binary cross-entropy**, defined as:\n",
    "\n",
    "$$ J(\\theta) = - \\frac{1}{m} \\sum_{i=1}^m [y^{(i)} \\log(h_\\theta(x^{(i)})) + (1 - y^{(i)}) \\log(1 - h_\\theta(x^{(i)}))] $$\n",
    "\n",
    "Where:\n",
    "\n",
    "* $m$: Number of training examples\n",
    "* $y^{(i)}$: Actual label (0 or 1) for example $i$\n",
    "* $h_\\theta(x^{(i)})$: Predicted probability that $y = 1$ given input $x^{(i)}$\n",
    "* $\\log$: Natural logarithm\n",
    "\n",
    "### Intuition:\n",
    "* If the prediction is close to the true label, the cost is low.\n",
    "* If the prediction is far from the true label, the cost is high.\n",
    "* The function penalizes confident but wrong predictions heavily."
   ]
  },
  {
   "cell_type": "markdown",
   "id": "dae63f99",
   "metadata": {},
   "source": [
    "### **5. What is Regularization in Logistic Regression? Why is it needed?**\n",
    "Regularization is a technique to prevent overfitting by adding a penalty term to the cost function. It helps to keep the model weights small and generalizes better on unseen data."
   ]
  },
  {
   "cell_type": "markdown",
   "id": "05d93baa",
   "metadata": {},
   "source": [
    "### **6. Explain the difference between Lasso, Ridge, and Elastic Net regression.**\n",
    "- **Lasso (L1)**: Adds absolute value of coefficients (sparse solutions).\n",
    "- **Ridge (L2)**: Adds squared value of coefficients (shrinks coefficients).\n",
    "- **Elastic Net**: Combines L1 and L2 penalties.\n",
    "\n",
    "| Method      | Penalty Type | Feature Selection | Handles Multicollinearity | Coefficients Can Be Zero |\n",
    "| ----------- | ------------ | ----------------- | ------------------------- | ------------------------ |\n",
    "| Ridge       | L2           | No              | Yes                     | No                     |\n",
    "| Lasso       | L1           | Yes             | No                     | Yes                    |\n",
    "| Elastic Net | L1 + L2      | Yes             | Yes                     | Yes                    |\n"
   ]
  },
  {
   "cell_type": "markdown",
   "id": "f720222e",
   "metadata": {},
   "source": [
    "### **7. When should we use Elastic Net instead of Lasso or Ridge?**\n",
    "Use **Elastic Net Regression** when you want to **combine the strengths of both Lasso and Ridge**, especially in the following scenarios:\n",
    "\n",
    "#### **High-Dimensional Data (p > n)**\n",
    "* When the number of features $p$ exceeds the number of samples $n$, Lasso may select too few features.\n",
    "* Elastic Net provides a more stable selection by combining L1 and L2 penalties.\n",
    "\n",
    "#### **Correlated Features**\n",
    "* Lasso tends to select one feature from a group of correlated ones and ignore the rest.\n",
    "* Ridge keeps all of them but does not perform feature selection.\n",
    "* **Elastic Net** can select groups of correlated features together, which is often desired.\n",
    "\n",
    "#### **Sparse + Grouping Effect**\n",
    "* You want the **sparsity** of Lasso (i.e., feature selection) **and** the **grouping behavior** of Ridge (i.e., correlated features get similar coefficients).\n",
    "\n",
    "#### **When Lasso or Ridge Alone Underperform**\n",
    "* If Lasso underfits (too sparse) or Ridge overfits (no feature elimination), Elastic Net often performs better by tuning the balance between the two."
   ]
  },
  {
   "cell_type": "markdown",
   "id": "40fe662c",
   "metadata": {},
   "source": [
    "### **8. What is the impact of the regularization parameter (λ) in Logistic Regression?**\n",
    "A higher λ means stronger regularization (smaller weights), which can reduce overfitting but may underfit if too strong."
   ]
  },
  {
   "cell_type": "markdown",
   "id": "5cfe58d2",
   "metadata": {},
   "source": [
    "### **9. What are the key assumptions of Logistic Regression**\n",
    "- The dependent variable is binary.\n",
    "- No multicollinearity among independent variables.\n",
    "- Linearity between independent variables and log odds."
   ]
  },
  {
   "cell_type": "markdown",
   "id": "3ec7f1ed",
   "metadata": {},
   "source": [
    "### **10. What are some alternatives to Logistic Regression for classification tasks?**\n",
    "- Decision Trees\n",
    "- Random Forests\n",
    "- Support Vector Machines (SVM)\n",
    "- k-Nearest Neighbors (k-NN)\n",
    "- Neural Networks"
   ]
  },
  {
   "cell_type": "markdown",
   "id": "6f063b55",
   "metadata": {},
   "source": [
    "### **11. What are Classification Evaluation Metrics?**\n",
    "- Accuracy\n",
    "- Precision\n",
    "- Recall\n",
    "- F1-Score\n",
    "- ROC-AUC Score\n",
    "- Confusion Matrix"
   ]
  },
  {
   "cell_type": "markdown",
   "id": "17b5aa16",
   "metadata": {},
   "source": [
    "### **12. How does class imbalance affect Logistic Regression?**\n",
    "It can lead to a biased model that favors the majority class. Class imbalance occurs when one class significantly outnumbers the other(s) in a classification dataset (e.g., 95% class 0 and 5% class 1).\n",
    "* Biased Predictions:\n",
    "    - The model may predict the majority class more often to maximize accuracy.\n",
    "    - This results in high accuracy but poor recall/precision for the minority class.\n",
    "\n",
    "* Poor Learning of Minority Class:\n",
    "    - The model may treat the minority class as noise.\n",
    "    - Fails to learn distinguishing patterns for the underrepresented class.\n",
    "\n",
    "* Misleading Evaluation Metrics:\n",
    "    - Accuracy becomes unreliable because predicting the majority class alone gives high accuracy.\n",
    "    - For example, predicting all \"0\" in a 95:5 class distribution gives 95% accuracy."
   ]
  },
  {
   "cell_type": "markdown",
   "id": "1c319f05",
   "metadata": {},
   "source": [
    "### **13. What is Hyperparameter Tuning in Logistic Regression?**\n",
    "Hyperparameter tuning is the process of finding the optimal settings (hyperparameters) that control the behavior of a Logistic Regression model — before training begins.\n",
    "\n",
    "| Hyperparameter | Description                                                                |\n",
    "| -------------- | -------------------------------------------------------------------------- |\n",
    "| `C`            | Inverse of regularization strength (smaller `C` = stronger regularization) |\n",
    "| `penalty`      | Type of regularization: `'l1'`, `'l2'`, `'elasticnet'`, or `'none'`        |\n",
    "| `solver`       | Optimization algorithm: `'liblinear'`, `'saga'`, `'lbfgs'`, `'newton-cg'`  |\n",
    "| `max_iter`     | Maximum number of iterations for convergence                               |\n",
    "| `class_weight` | Handling class imbalance (`None` or `'balanced'`)                          |\n"
   ]
  },
  {
   "cell_type": "markdown",
   "id": "983ed0ab",
   "metadata": {},
   "source": [
    "### **14. What are different solvers in Logistic Regression? Which one should be used?**\n",
    "- **liblinear**: good for small datasets, supports L1.\n",
    "- **saga**: supports all penalties and works with large datasets.\n",
    "- **lbfgs**: fast for L2 penalty and multiclass classification.\n",
    "\n",
    "| Solver        | Supports L1? | Supports L2? | Supports Elastic Net? | Handles Multiclass? | Suitable For         |\n",
    "| ------------- | ------------ | ------------ | --------------------- | ------------------- | -------------------- |\n",
    "| `'liblinear'` | Yes        | Yes        | No                  | OvR only          | Small datasets       |\n",
    "| `'saga'`      | Yes        | Yes        | Yes                 | OvR & multinomial | Large + sparse data  |\n",
    "| `'lbfgs'`     | No         | Yes        | No                  | OvR & multinomial | Medium to large data |\n",
    "| `'newton-cg'` | No         | Yes        | No                  | OvR & multinomial | Large datasets       |\n",
    "| `'sag'`       | No         | Yes        | No                  | OvR & multinomial | Large + sparse data  |\n"
   ]
  },
  {
   "cell_type": "markdown",
   "id": "73af7b5d",
   "metadata": {},
   "source": [
    "### **15. How is Logistic Regression extended for multiclass classification?**\n",
    "By default, Logistic Regression is designed for binary classification (two classes). However, it can be extended to handle multiclass classification problems using the following strategies:\n",
    "* One-vs-Rest (OvR) (a.k.a. One-vs-All)\n",
    "    - Trains one binary classifier per class.\n",
    "    - For class 𝑘, the classifier is trained to distinguish class 𝑘 vs. all other classes.\n",
    "    - During prediction, the class with the highest confidence score is chosen.\n",
    "* Multinomial (Softmax) Logistic Regression\n",
    "    - Trains a single model to predict the probability distribution over all classes.\n",
    "    - Uses the softmax function (generalization of sigmoid) in the final layer.\n",
    "\n",
    "$$\n",
    "P(y = k \\mid x) = \\frac{e^{\\theta_k^T x}}{\\sum_{j=1}^K e^{\\theta_j^T x}}\n",
    "$$\n"
   ]
  },
  {
   "cell_type": "markdown",
   "id": "0115694c",
   "metadata": {},
   "source": [
    "### **16. What are the advantages and disadvantages of Logistic Regression?**\n",
    "**Advantages**:\n",
    "- Simple and interpretable\n",
    "- Efficient for binary classification\n",
    "\n",
    "**Disadvantages**:\n",
    "- Assumes linear relationship\n",
    "- Poor performance with non-linear data"
   ]
  },
  {
   "cell_type": "markdown",
   "id": "9199e87c",
   "metadata": {},
   "source": [
    "### **17. What are some use cases of Logistic Regression?**\n",
    "- Spam detection\n",
    "- Disease prediction\n",
    "- Credit scoring\n",
    "- Marketing (customer churn)"
   ]
  },
  {
   "cell_type": "markdown",
   "id": "3c103ce6",
   "metadata": {},
   "source": [
    "### **18. What is the difference between Softmax Regression and Logistic Regression?**\n",
    "Here's a clear explanation of the difference between **Softmax Regression** and **Logistic Regression**:\n",
    "\n",
    "#### Logistic Regression\n",
    "* **Type:** Binary classifier.\n",
    "* **Purpose:** Used when the target variable has **two classes** (e.g., yes/no, 0/1).\n",
    "* **Output:** Produces a probability for the **positive class** using the logistic (sigmoid) function:\n",
    "  $$\n",
    "  P(y=1 \\mid \\mathbf{x}) = \\frac{1}{1 + e^{-(\\mathbf{w}^\\top \\mathbf{x} + b)}}\n",
    "  $$\n",
    "* **Decision:** Usually, if $P(y=1) > 0.5$, predict class 1; otherwise class 0.\n",
    "\n",
    "#### Softmax Regression (Multinomial Logistic Regression)\n",
    "* **Type:** Multiclass classifier.\n",
    "* **Purpose:** Used when the target variable has **more than two classes** (e.g., 3 or more categories).\n",
    "* **Output:** Produces a probability distribution over all classes using the **softmax function**:\n",
    "  For $K$ classes, for class $j$:\n",
    "  $$\n",
    "  P(y=j \\mid \\mathbf{x}) = \\frac{e^{\\mathbf{w}_j^\\top \\mathbf{x} + b_j}}{\\sum_{k=1}^K e^{\\mathbf{w}_k^\\top \\mathbf{x} + b_k}}\n",
    "  $$\n",
    "\n",
    "* **Decision:** Predict the class with the highest probability."
   ]
  },
  {
   "cell_type": "markdown",
   "id": "b9c3f4e2",
   "metadata": {},
   "source": [
    "### **19. How do we choose between One-vs-Rest (OvR) and Softmax for multiclass classification?**\n",
    "Choosing between **One-vs-Rest (OvR)** and **Softmax Regression** for multiclass classification depends on several factors like model complexity, performance, and dataset characteristics. Here’s a clear comparison and guidance on how to choose:\n",
    "\n",
    "#### One-vs-Rest (OvR) Approach\n",
    "\n",
    "* What it is:\n",
    "    Decomposes a multiclass problem into multiple binary classification problems. For $K$ classes, train $K$ binary classifiers, each distinguishing one class from the rest.\n",
    "\n",
    "* How it works:\n",
    "    Each classifier predicts the probability that the input belongs to its class vs. all others. At prediction time, choose the class with the highest classifier score.\n",
    "\n",
    "* Advantages:\n",
    "  * Simpler to implement, especially if you already have a binary classifier.\n",
    "  * Can use different classifiers for each class.\n",
    "  * Sometimes works better with imbalanced classes.\n",
    "  * Training can be parallelized easily since classifiers are independent.\n",
    "\n",
    "* Disadvantages:\n",
    "  * Classifiers are trained independently, so probabilities might not be well calibrated.\n",
    "  * Might produce inconsistent predictions because classifiers are separate.\n",
    "  * Potentially slower at prediction time (needs to run $K$ classifiers).\n",
    "\n",
    "#### Softmax (Multinomial Logistic Regression)\n",
    "\n",
    "* What it is:\n",
    "  A single model that directly predicts the probability distribution over all classes using the softmax function.\n",
    "\n",
    "* How it works:\n",
    "  Trains one model with parameters for all classes simultaneously, optimizing the multinomial likelihood.\n",
    "\n",
    "* Advantages:\n",
    "  * Probabilities are normalized and consistent across classes.\n",
    "  * Often better performance since it models classes jointly.\n",
    "  * Generally better when classes are mutually exclusive.\n",
    "  * More mathematically elegant and efficient at prediction time (just one forward pass).\n",
    "* Disadvantages:\n",
    "  * Slightly more complex to implement and optimize.\n",
    "  * Can be less flexible if classes are not mutually exclusive.\n",
    "  * Training can be slower and more memory-intensive for very large $K$.\n"
   ]
  },
  {
   "cell_type": "markdown",
   "id": "c5b8ff14",
   "metadata": {},
   "source": [
    "### **20. How do we interpret coefficients in Logistic Regression?**\n",
    "In **Logistic Regression**, the coefficients represent the **impact of each feature** on the **log-odds** of the outcome.\n",
    "Logistic Regression models the **log-odds** (also called the logit) of the probability that the dependent variable equals 1:\n",
    "$$\n",
    "\\log\\left(\\frac{P(y=1)}{1 - P(y=1)}\\right) = \\beta_0 + \\beta_1 x_1 + \\beta_2 x_2 + \\dots + \\beta_n x_n\n",
    "$$\n",
    "* $\\beta_0$: Intercept\n",
    "* $\\beta_i$: Coefficient for feature $x_i$\n",
    "* **Sign**:\n",
    "  * If $\\beta_i > 0$: Increasing $x_i$ increases the **log-odds** of the positive class (i.e., increases the probability of $y = 1$).\n",
    "  * If $\\beta_i < 0$: Increasing $x_i$ **decreases** the probability of $y = 1$.\n",
    "* **Magnitude**:\n",
    "  * Larger absolute values mean a **stronger effect** on the outcome.\n",
    "* **Exponentiated Coefficient** $e^{\\beta_i}$:\n",
    "  * This gives the **odds ratio** for a **1-unit increase** in $x_i$, holding all other variables constant.\n",
    "  * If $e^{\\beta_i} = 1.5$, then a 1-unit increase in $x_i$ multiplies the odds of $y = 1$ by 1.5.\n",
    "  * If $e^{\\beta_i} = 0.6$, then a 1-unit increase in $x_i$ multiplies the odds by 0.6 (i.e., lowers the odds)."
   ]
  },
  {
   "cell_type": "markdown",
   "id": "74728fec",
   "metadata": {},
   "source": [
    "## **Practical**"
   ]
  },
  {
   "cell_type": "markdown",
   "id": "daac76d6",
   "metadata": {},
   "source": [
    "### **1. Write a Python program that loads a dataset, splits it into training and testing sets, applies Logistic Regression, and prints the model accuracy?**"
   ]
  },
  {
   "cell_type": "code",
   "execution_count": 7,
   "id": "114aad27",
   "metadata": {},
   "outputs": [
    {
     "name": "stdout",
     "output_type": "stream",
     "text": [
      "Accuracy: 0.956140350877193\n"
     ]
    }
   ],
   "source": [
    "from sklearn.datasets import load_breast_cancer\n",
    "from sklearn.model_selection import train_test_split\n",
    "from sklearn.linear_model import LogisticRegression\n",
    "from sklearn.metrics import accuracy_score\n",
    "\n",
    "import warnings\n",
    "warnings.filterwarnings(\"ignore\", category=FutureWarning)\n",
    "\n",
    "data = load_breast_cancer()\n",
    "X = data.data\n",
    "y = data.target\n",
    "\n",
    "X_train, X_test, y_train, y_test = train_test_split(X, y, test_size=0.2, random_state=42)\n",
    "\n",
    "model = LogisticRegression(max_iter=10000)\n",
    "model.fit(X_train, y_train)\n",
    "\n",
    "y_pred = model.predict(X_test)\n",
    "print(\"Accuracy:\", accuracy_score(y_test, y_pred))"
   ]
  },
  {
   "cell_type": "markdown",
   "id": "1bc54075",
   "metadata": {},
   "source": [
    "### **2. Write a Python program to apply L1 regularization (Lasso) on a dataset using LogisticRegression(penalty='l1') and print the model accuracy?**"
   ]
  },
  {
   "cell_type": "code",
   "execution_count": 3,
   "id": "66ecbf15",
   "metadata": {},
   "outputs": [
    {
     "name": "stdout",
     "output_type": "stream",
     "text": [
      "L1 Regularized Accuracy: 0.956140350877193\n"
     ]
    }
   ],
   "source": [
    "model_l1 = LogisticRegression(penalty='l1', solver='liblinear', max_iter=10000)\n",
    "model_l1.fit(X_train, y_train)\n",
    "y_pred_l1 = model_l1.predict(X_test)\n",
    "print(\"L1 Regularized Accuracy:\", accuracy_score(y_test, y_pred_l1))"
   ]
  },
  {
   "cell_type": "markdown",
   "id": "18ba703a",
   "metadata": {},
   "source": [
    "### **3. Write a Python program to train Logistic Regression with L2 regularization (Ridge) using LogisticRegression(penalty='l2'). Print model accuracy and coefficients?**"
   ]
  },
  {
   "cell_type": "code",
   "execution_count": 4,
   "id": "b3d2eac4",
   "metadata": {},
   "outputs": [
    {
     "name": "stdout",
     "output_type": "stream",
     "text": [
      "L2 Regularized Accuracy: 0.956140350877193\n",
      "Coefficients: [[ 2.04354028e+00  1.50727651e-01 -1.21865250e-01 -1.40712354e-03\n",
      "  -1.32867463e-01 -4.01738361e-01 -6.18552774e-01 -3.20877196e-01\n",
      "  -1.95151233e-01 -2.94653873e-02 -4.38412463e-02  1.43445492e+00\n",
      "  -2.90303534e-01 -7.31190089e-02 -1.44981250e-02 -9.69515060e-03\n",
      "  -4.97155954e-02 -3.54239504e-02 -3.98113534e-02  4.23459422e-03\n",
      "   1.20942508e+00 -3.99652497e-01 -4.43667770e-02 -2.63631821e-02\n",
      "  -2.44521885e-01 -1.18358468e+00 -1.55571752e+00 -5.78440045e-01\n",
      "  -6.97654198e-01 -1.15249374e-01]]\n"
     ]
    }
   ],
   "source": [
    "model_l2 = LogisticRegression(penalty='l2', solver='liblinear', max_iter=10000)\n",
    "model_l2.fit(X_train, y_train)\n",
    "y_pred_l2 = model_l2.predict(X_test)\n",
    "print(\"L2 Regularized Accuracy:\", accuracy_score(y_test, y_pred_l2))\n",
    "print(\"Coefficients:\", model_l2.coef_)"
   ]
  },
  {
   "cell_type": "markdown",
   "id": "9027b1f8",
   "metadata": {},
   "source": [
    "### **4. Write a Python program to train Logistic Regression with Elastic Net Regularization (penalty='elasticnet')?**"
   ]
  },
  {
   "cell_type": "code",
   "execution_count": 5,
   "id": "94b6564b",
   "metadata": {},
   "outputs": [
    {
     "name": "stdout",
     "output_type": "stream",
     "text": [
      "Elastic Net Accuracy: 0.9736842105263158\n"
     ]
    }
   ],
   "source": [
    "model_en = LogisticRegression(penalty='elasticnet', solver='saga', l1_ratio=0.5, max_iter=10000)\n",
    "model_en.fit(X_train, y_train)\n",
    "y_pred_en = model_en.predict(X_test)\n",
    "print(\"Elastic Net Accuracy:\", accuracy_score(y_test, y_pred_en))"
   ]
  },
  {
   "cell_type": "markdown",
   "id": "bf03567f",
   "metadata": {},
   "source": [
    "### **5. Write a Python program to train a Logistic Regression model for multiclass classification using multi_class='ovr'.**"
   ]
  },
  {
   "cell_type": "code",
   "execution_count": 8,
   "id": "0ac9408b",
   "metadata": {},
   "outputs": [
    {
     "name": "stdout",
     "output_type": "stream",
     "text": [
      "OvR Accuracy: 0.956140350877193\n"
     ]
    }
   ],
   "source": [
    "model_ovr = LogisticRegression(multi_class='ovr', solver='liblinear', max_iter=10000)\n",
    "model_ovr.fit(X_train, y_train)\n",
    "print(\"OvR Accuracy:\", accuracy_score(y_test, model_ovr.predict(X_test)))"
   ]
  },
  {
   "cell_type": "markdown",
   "id": "d6edd9ea",
   "metadata": {},
   "source": [
    "### **6. Write a Python program to apply GridSearchCV to tune the hyperparameters (C and penalty) of Logistic Regression. Print the best parameters and accuracy.**"
   ]
  },
  {
   "cell_type": "code",
   "execution_count": 9,
   "id": "adcbd6c6",
   "metadata": {},
   "outputs": [
    {
     "name": "stdout",
     "output_type": "stream",
     "text": [
      "Best Parameters: {'C': 10, 'penalty': 'l2', 'solver': 'liblinear'}\n",
      "Accuracy after tuning: 0.956140350877193\n"
     ]
    }
   ],
   "source": [
    "from sklearn.model_selection import GridSearchCV\n",
    "\n",
    "param_grid = {\n",
    "    'C': [0.1, 1, 10],\n",
    "    'penalty': ['l2'],\n",
    "    'solver': ['liblinear']\n",
    "}\n",
    "\n",
    "grid = GridSearchCV(LogisticRegression(max_iter=10000), param_grid, cv=5)\n",
    "grid.fit(X_train, y_train)\n",
    "\n",
    "print(\"Best Parameters:\", grid.best_params_)\n",
    "print(\"Accuracy after tuning:\", accuracy_score(y_test, grid.predict(X_test)))\n"
   ]
  },
  {
   "cell_type": "markdown",
   "id": "8ec2b4fb",
   "metadata": {},
   "source": [
    "### **7. Write a Python program to evaluate Logistic Regression using Stratified K-Fold Cross-Validation. Print the average accuracy.**"
   ]
  },
  {
   "cell_type": "code",
   "execution_count": null,
   "id": "a7af8fdc",
   "metadata": {},
   "outputs": [
    {
     "name": "stdout",
     "output_type": "stream",
     "text": [
      "Stratified K-Fold Average Accuracy: 0.9507995652848935\n"
     ]
    }
   ],
   "source": [
    "from sklearn.model_selection import StratifiedKFold, cross_val_score\n",
    "\n",
    "skf = StratifiedKFold(n_splits=5)\n",
    "scores = cross_val_score(LogisticRegression(max_iter=10000), X, y, cv=skf)\n",
    "print(\"Stratified K-Fold Average Accuracy:\", scores.mean())"
   ]
  },
  {
   "cell_type": "markdown",
   "id": "63110a03",
   "metadata": {},
   "source": [
    "### **8. Write a Python program to load a dataset from a CSV file, apply Logistic Regression, and evaluate its accuracy.**"
   ]
  },
  {
   "cell_type": "code",
   "execution_count": 35,
   "id": "17969a27",
   "metadata": {},
   "outputs": [
    {
     "name": "stdout",
     "output_type": "stream",
     "text": [
      "Accuracy: 0.8555798687089715\n"
     ]
    }
   ],
   "source": [
    "import pandas as pd\n",
    "\n",
    "df = pd.read_csv(\"framingham.csv\")\n",
    "df = df.dropna()\n",
    "X = df.drop(\"target\", axis=1)\n",
    "y = df[\"target\"]\n",
    "\n",
    "model = LogisticRegression(max_iter=10000)\n",
    "model.fit(X, y)\n",
    "print(\"Accuracy:\", accuracy_score(y, model.predict(X)))"
   ]
  },
  {
   "cell_type": "markdown",
   "id": "9df3030a",
   "metadata": {},
   "source": [
    "### **9. Write a Python program to apply RandomizedSearchCV for tuning hyperparameters (C, penalty, solver) in Logistic Regression. Print the best parameters and accuracy.**"
   ]
  },
  {
   "cell_type": "code",
   "execution_count": 12,
   "id": "9656c4a8",
   "metadata": {},
   "outputs": [
    {
     "name": "stdout",
     "output_type": "stream",
     "text": [
      "Best Parameters: {'solver': 'liblinear', 'penalty': 'l2', 'C': 1}\n",
      "Best Accuracy: 0.956140350877193\n"
     ]
    }
   ],
   "source": [
    "from sklearn.model_selection import RandomizedSearchCV\n",
    "\n",
    "param_dist = {\n",
    "    'C': [0.01, 0.1, 1, 10],\n",
    "    'penalty': ['l1', 'l2'],\n",
    "    'solver': ['liblinear', 'saga']\n",
    "}\n",
    "\n",
    "random_search = RandomizedSearchCV(LogisticRegression(max_iter=10000), param_dist, n_iter=5, cv=3)\n",
    "random_search.fit(X_train, y_train)\n",
    "\n",
    "print(\"Best Parameters:\", random_search.best_params_)\n",
    "print(\"Best Accuracy:\", accuracy_score(y_test, random_search.predict(X_test)))"
   ]
  },
  {
   "cell_type": "markdown",
   "id": "6c58a50a",
   "metadata": {},
   "source": [
    "### **10. Write a Python program to implement One-vs-One (OvO) Multiclass Logistic Regression and print accuracy.**"
   ]
  },
  {
   "cell_type": "code",
   "execution_count": 13,
   "id": "f52f25cf",
   "metadata": {},
   "outputs": [
    {
     "name": "stdout",
     "output_type": "stream",
     "text": [
      "OvO Accuracy: 0.956140350877193\n"
     ]
    }
   ],
   "source": [
    "from sklearn.multiclass import OneVsOneClassifier\n",
    "\n",
    "ovo_model = OneVsOneClassifier(LogisticRegression(max_iter=10000))\n",
    "ovo_model.fit(X_train, y_train)\n",
    "print(\"OvO Accuracy:\", accuracy_score(y_test, ovo_model.predict(X_test)))"
   ]
  },
  {
   "cell_type": "markdown",
   "id": "373ff0df",
   "metadata": {},
   "source": [
    "### **11. Write a Python program to train a Logistic Regression model and visualize the confusion matrix for binary classification.**"
   ]
  },
  {
   "cell_type": "code",
   "execution_count": 14,
   "id": "578a05c3",
   "metadata": {},
   "outputs": [
    {
     "data": {
      "image/png": "[encoded data removed]",
      "text/plain": [
       "<Figure size 640x480 with 2 Axes>"
      ]
     },
     "metadata": {},
     "output_type": "display_data"
    }
   ],
   "source": [
    "from sklearn.metrics import ConfusionMatrixDisplay\n",
    "from matplotlib import pyplot as plt\n",
    "\n",
    "ConfusionMatrixDisplay.from_estimator(model, X_test, y_test)\n",
    "plt.title(\"Confusion Matrix\")\n",
    "plt.show()"
   ]
  },
  {
   "cell_type": "markdown",
   "id": "62e29eea",
   "metadata": {},
   "source": [
    "### **12. Write a Python program to train a Logistic Regression model and evaluate its performance using Precision, Recall, and F1-Score.**"
   ]
  },
  {
   "cell_type": "code",
   "execution_count": 16,
   "id": "941732fa",
   "metadata": {},
   "outputs": [
    {
     "name": "stdout",
     "output_type": "stream",
     "text": [
      "Precision: 0.9459459459459459\n",
      "Recall: 0.9859154929577465\n",
      "F1 Score: 0.9655172413793104\n"
     ]
    }
   ],
   "source": [
    "from sklearn.metrics import classification_report, precision_score, recall_score, f1_score\n",
    "\n",
    "y_pred = model.predict(X_test)\n",
    "print(\"Precision:\", precision_score(y_test, y_pred))\n",
    "print(\"Recall:\", recall_score(y_test, y_pred))\n",
    "print(\"F1 Score:\", f1_score(y_test, y_pred))"
   ]
  },
  {
   "cell_type": "markdown",
   "id": "b3be7576",
   "metadata": {},
   "source": [
    "### **13. Write a Python program to train a Logistic Regression model on imbalanced data and apply class weights to improve model performance.**"
   ]
  },
  {
   "cell_type": "code",
   "execution_count": 17,
   "id": "178acce7",
   "metadata": {},
   "outputs": [
    {
     "name": "stdout",
     "output_type": "stream",
     "text": [
      "Balanced Class Accuracy: 0.9736842105263158\n"
     ]
    }
   ],
   "source": [
    "model_balanced = LogisticRegression(class_weight='balanced', max_iter=10000)\n",
    "model_balanced.fit(X_train, y_train)\n",
    "print(\"Balanced Class Accuracy:\", accuracy_score(y_test, model_balanced.predict(X_test)))\n"
   ]
  },
  {
   "cell_type": "markdown",
   "id": "45dcbc9b",
   "metadata": {},
   "source": [
    "### **14. Write a Python program to train Logistic Regression on the Titanic dataset, handle missing values, and evaluate performance.**"
   ]
  },
  {
   "cell_type": "code",
   "execution_count": 18,
   "id": "dd1b61cd",
   "metadata": {},
   "outputs": [
    {
     "name": "stdout",
     "output_type": "stream",
     "text": [
      "Titanic Accuracy: 0.7988826815642458\n"
     ]
    }
   ],
   "source": [
    "import seaborn as sns\n",
    "titanic = sns.load_dataset(\"titanic\")\n",
    "\n",
    "titanic = titanic[[\"survived\", \"pclass\", \"sex\", \"age\"]].dropna()\n",
    "titanic[\"sex\"] = titanic[\"sex\"].map({\"male\": 0, \"female\": 1})\n",
    "\n",
    "X = titanic[[\"pclass\", \"sex\", \"age\"]]\n",
    "y = titanic[\"survived\"]\n",
    "\n",
    "X_train, X_test, y_train, y_test = train_test_split(X, y)\n",
    "model = LogisticRegression(max_iter=10000)\n",
    "model.fit(X_train, y_train)\n",
    "print(\"Titanic Accuracy:\", accuracy_score(y_test, model.predict(X_test)))\n"
   ]
  },
  {
   "cell_type": "markdown",
   "id": "46f73989",
   "metadata": {},
   "source": [
    "### **15. Write a Python program to apply feature scaling (Standardization) before training a Logistic Regression model. Evaluate its accuracy and compare results with and without scaling.**"
   ]
  },
  {
   "cell_type": "code",
   "execution_count": 27,
   "id": "fd849eda",
   "metadata": {},
   "outputs": [
    {
     "name": "stdout",
     "output_type": "stream",
     "text": [
      "Accuracy without Scaling: 0.956140350877193\n",
      "Accuracy with Scaling: 0.9736842105263158\n",
      "Improvement in Accuracy: 0.0175\n"
     ]
    }
   ],
   "source": [
    "from sklearn.datasets import load_breast_cancer\n",
    "from sklearn.model_selection import train_test_split\n",
    "from sklearn.linear_model import LogisticRegression\n",
    "from sklearn.preprocessing import StandardScaler\n",
    "from sklearn.metrics import accuracy_score\n",
    "\n",
    "data = load_breast_cancer()\n",
    "X, y = data.data, data.target\n",
    "\n",
    "X_train, X_test, y_train, y_test = train_test_split(X, y, test_size=0.2, random_state=42)\n",
    "\n",
    "model_raw = LogisticRegression(max_iter=10000)\n",
    "model_raw.fit(X_train, y_train)\n",
    "y_pred_raw = model_raw.predict(X_test)\n",
    "raw_accuracy = accuracy_score(y_test, y_pred_raw)\n",
    "print(\"Accuracy without Scaling:\", raw_accuracy)\n",
    "\n",
    "scaler = StandardScaler()\n",
    "X_train_scaled = scaler.fit_transform(X_train)\n",
    "X_test_scaled = scaler.transform(X_test)\n",
    "\n",
    "model_scaled = LogisticRegression(max_iter=10000)\n",
    "model_scaled.fit(X_train_scaled, y_train)\n",
    "y_pred_scaled = model_scaled.predict(X_test_scaled)\n",
    "scaled_accuracy = accuracy_score(y_test, y_pred_scaled)\n",
    "print(\"Accuracy with Scaling:\", scaled_accuracy)\n",
    "\n",
    "improvement = scaled_accuracy - raw_accuracy\n",
    "print(f\"Improvement in Accuracy: {improvement:.4f}\")\n"
   ]
  },
  {
   "cell_type": "markdown",
   "metadata": {},
   "source": [
    "### **16. Write a Python program to train Logistic Regression and evaluate its performance using ROC-AUC score.**"
   ]
  },
  {
   "cell_type": "code",
   "execution_count": 19,
   "id": "02008930",
   "metadata": {},
   "outputs": [
    {
     "name": "stdout",
     "output_type": "stream",
     "text": [
      "ROC-AUC Score: 0.8567948717948718\n"
     ]
    }
   ],
   "source": [
    "from sklearn.metrics import roc_auc_score\n",
    "\n",
    "y_prob = model.predict_proba(X_test)[:, 1]\n",
    "print(\"ROC-AUC Score:\", roc_auc_score(y_test, y_prob))\n"
   ]
  },
  {
   "cell_type": "markdown",
   "id": "ba8ef8ff",
   "metadata": {},
   "source": [
    "### **17. Write a Python program to train Logistic Regression using a custom learning rate (C=0.5) and evaluate accuracy.**"
   ]
  },
  {
   "cell_type": "code",
   "execution_count": 20,
   "id": "f302a3d4",
   "metadata": {},
   "outputs": [
    {
     "name": "stdout",
     "output_type": "stream",
     "text": [
      "Accuracy with C=0.5: 0.7988826815642458\n"
     ]
    }
   ],
   "source": [
    "model_custom_c = LogisticRegression(C=0.5, max_iter=10000)\n",
    "model_custom_c.fit(X_train, y_train)\n",
    "print(\"Accuracy with C=0.5:\", accuracy_score(y_test, model_custom_c.predict(X_test)))"
   ]
  },
  {
   "cell_type": "markdown",
   "id": "c1f8c52c",
   "metadata": {},
   "source": [
    "### **18. Write a Python program to train Logistic Regression and identify important features based on model coefficients.**"
   ]
  },
  {
   "cell_type": "code",
   "execution_count": 21,
   "id": "81960731",
   "metadata": {},
   "outputs": [
    {
     "name": "stdout",
     "output_type": "stream",
     "text": [
      "mean radius: -1.1518502613873867\n",
      "mean texture: 2.463260405141402\n",
      "mean perimeter: -0.02899692912636335\n"
     ]
    }
   ],
   "source": [
    "importance = model.coef_[0]\n",
    "for feature, coef in zip(data.feature_names, importance):\n",
    "    print(f\"{feature}: {coef}\")"
   ]
  },
  {
   "cell_type": "markdown",
   "id": "559a81db",
   "metadata": {},
   "source": [
    "### **19. Write a Python program to train Logistic Regression and evaluate its performance using Cohen’s Kappa Score.**"
   ]
  },
  {
   "cell_type": "code",
   "execution_count": 28,
   "id": "a0ef8fb6",
   "metadata": {},
   "outputs": [
    {
     "name": "stdout",
     "output_type": "stream",
     "text": [
      "Cohen's Kappa Score: 0.9053470607771504\n"
     ]
    }
   ],
   "source": [
    "from sklearn.metrics import cohen_kappa_score\n",
    "\n",
    "print(\"Cohen's Kappa Score:\", cohen_kappa_score(y_test, y_pred))"
   ]
  },
  {
   "cell_type": "markdown",
   "id": "d29524fc",
   "metadata": {},
   "source": [
    "### **20. Write a Python program to train Logistic Regression and visualize the Precision-Recall Curve for binary classificatio.**"
   ]
  },
  {
   "cell_type": "code",
   "execution_count": null,
   "id": "d3781829",
   "metadata": {},
   "outputs": [
    {
     "data": {
      "image/png": "[encoded data removed]",
      "text/plain": [
       "<Figure size 640x480 with 1 Axes>"
      ]
     },
     "metadata": {},
     "output_type": "display_data"
    }
   ],
   "source": [
    "from sklearn.datasets import load_breast_cancer\n",
    "from sklearn.model_selection import train_test_split\n",
    "from sklearn.linear_model import LogisticRegression\n",
    "from sklearn.metrics import precision_recall_curve, PrecisionRecallDisplay\n",
    "import matplotlib.pyplot as plt\n",
    "\n",
    "data = load_breast_cancer()\n",
    "X, y = data.data, data.target\n",
    "\n",
    "X_train, X_test, y_train, y_test = train_test_split(X, y, test_size=0.2, random_state=42)\n",
    "\n",
    "model = LogisticRegression(max_iter=10000)\n",
    "model.fit(X_train, y_train)\n",
    "\n",
    "y_scores = model.predict_proba(X_test)[:, 1]\n",
    "\n",
    "precision, recall, thresholds = precision_recall_curve(y_test, y_scores)\n",
    "\n",
    "disp = PrecisionRecallDisplay(precision=precision, recall=recall)\n",
    "disp.plot()\n",
    "plt.title(\"Precision-Recall Curve\")\n",
    "plt.grid(True)\n",
    "plt.show()\n"
   ]
  },
  {
   "cell_type": "markdown",
   "metadata": {},
   "source": [
    "### **21. Write a Python program to train Logistic Regression with different solvers (liblinear, saga, lbfgs) and compare their accuracy.**"
   ]
  },
  {
   "cell_type": "code",
   "execution_count": 31,
   "id": "dea14041",
   "metadata": {},
   "outputs": [
    {
     "name": "stdout",
     "output_type": "stream",
     "text": [
      "liblinear solver accuracy: 0.956140350877193\n",
      "lbfgs solver accuracy: 0.956140350877193\n",
      "saga solver accuracy: 0.9736842105263158\n"
     ]
    }
   ],
   "source": [
    "for solver in ['liblinear', 'lbfgs', 'saga']:\n",
    "    model = LogisticRegression(solver=solver, max_iter=10000)\n",
    "    model.fit(X_train, y_train)\n",
    "    acc = accuracy_score(y_test, model.predict(X_test))\n",
    "    print(f\"{solver} solver accuracy: {acc}\")\n"
   ]
  },
  {
   "cell_type": "markdown",
   "id": "7ccffb28",
   "metadata": {},
   "source": [
    "### **22. Write a Python program to train Logistic Regression and evaluate its performance using Matthews Correlation Coefficient (MCC).**"
   ]
  },
  {
   "cell_type": "code",
   "execution_count": 32,
   "id": "84a781e3",
   "metadata": {},
   "outputs": [
    {
     "name": "stdout",
     "output_type": "stream",
     "text": [
      "Mattews Correlation Coefficient: 0.9068106119605033\n"
     ]
    }
   ],
   "source": [
    "from sklearn.metrics import matthews_corrcoef\n",
    "\n",
    "print(\"Mattews Correlation Coefficient:\", matthews_corrcoef(y_test, y_pred))"
   ]
  },
  {
   "cell_type": "markdown",
   "id": "09012618",
   "metadata": {},
   "source": [
    "### **23. Write a Python program to train Logistic Regression on both raw and standardized data. Compare their accuracy to see the impact of feature scaling.**"
   ]
  },
  {
   "cell_type": "code",
   "execution_count": 23,
   "id": "3c1cd390",
   "metadata": {},
   "outputs": [
    {
     "name": "stdout",
     "output_type": "stream",
     "text": [
      "Raw Accuracy: 0.7988826815642458\n",
      "Scaled Accuracy: 0.7988826815642458\n"
     ]
    }
   ],
   "source": [
    "from sklearn.preprocessing import StandardScaler\n",
    "\n",
    "raw_model = LogisticRegression(max_iter=10000)\n",
    "raw_model.fit(X_train, y_train)\n",
    "raw_acc = accuracy_score(y_test, raw_model.predict(X_test))\n",
    "\n",
    "scaler = StandardScaler()\n",
    "X_train_scaled = scaler.fit_transform(X_train)\n",
    "X_test_scaled = scaler.transform(X_test)\n",
    "scaled_model = LogisticRegression(max_iter=10000)\n",
    "scaled_model.fit(X_train_scaled, y_train)\n",
    "scaled_acc = accuracy_score(y_test, scaled_model.predict(X_test_scaled))\n",
    "\n",
    "print(\"Raw Accuracy:\", raw_acc)\n",
    "print(\"Scaled Accuracy:\", scaled_acc)"
   ]
  },
  {
   "cell_type": "markdown",
   "id": "fe8b687d",
   "metadata": {},
   "source": [
    "### **24. Write a Python program to train Logistic Regression and find the optimal C (regularization strength) using cross-validation.**"
   ]
  },
  {
   "cell_type": "code",
   "execution_count": 25,
   "id": "9d684693",
   "metadata": {},
   "outputs": [
    {
     "name": "stdout",
     "output_type": "stream",
     "text": [
      "Optimal C: 1\n"
     ]
    }
   ],
   "source": [
    "param_grid = {'C': [0.01, 0.1, 1, 10, 100]}\n",
    "grid = GridSearchCV(LogisticRegression(max_iter=10000), param_grid, cv=5)\n",
    "grid.fit(X_train, y_train)\n",
    "print(\"Optimal C:\", grid.best_params_['C'])"
   ]
  },
  {
   "cell_type": "markdown",
   "id": "2a31b4ab",
   "metadata": {},
   "source": [
    "### **25. Write a Python program to train Logistic Regression, save the trained model using joblib, and load it again to make predictions.**"
   ]
  },
  {
   "cell_type": "code",
   "execution_count": 26,
   "id": "52a45c4e",
   "metadata": {},
   "outputs": [
    {
     "name": "stdout",
     "output_type": "stream",
     "text": [
      "Loaded Model Accuracy: 0.7988826815642458\n"
     ]
    }
   ],
   "source": [
    "from joblib import dump, load\n",
    "\n",
    "dump(model, \"logreg_model.joblib\")\n",
    "\n",
    "loaded_model = load(\"logreg_model.joblib\")\n",
    "print(\"Loaded Model Accuracy:\", accuracy_score(y_test, loaded_model.predict(X_test)))"
   ]
  },
  {
   "cell_type": "code",
   "execution_count": null,
   "id": "508a08af",
   "metadata": {},
   "outputs": [],
   "source": []
  }
 ],
 "metadata": {
  "kernelspec": {
   "display_name": "venv",
   "language": "python",
   "name": "python3"
  },
  "language_info": {
   "codemirror_mode": {
    "name": "ipython",
    "version": 3
   },
   "file_extension": ".py",
   "mimetype": "text/x-python",
   "name": "python",
   "nbconvert_exporter": "python",
   "pygments_lexer": "ipython3",
   "version": "3.13.2"
  }
 },
 "nbformat": 4,
 "nbformat_minor": 5
}
