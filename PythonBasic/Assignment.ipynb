{
 "cells": [
  {
   "cell_type": "markdown",
   "metadata": {},
   "source": [
    "# Python Basic"
   ]
  },
  {
   "cell_type": "markdown",
   "metadata": {},
   "source": [
    "### Theory Questions"
   ]
  },
  {
   "cell_type": "markdown",
   "metadata": {},
   "source": [
    "1. What is python and why is it popular?\n",
    "\n",
    "- Python is a high-level, interpreted, object-oriented programming language known for its simplicity and readability. It is popular becuase it is widely used in web development, data science, machine learning, automation, and more."
   ]
  },
  {
   "cell_type": "markdown",
   "metadata": {},
   "source": [
    "2. What is an interpreter in python?\n",
    "- An interpreter in Python is a program that executes Python code line by line rather than compiling the entire code at once. It converts high-level Python code into machine-readable instructions dynamically during runtime."
   ]
  },
  {
   "cell_type": "markdown",
   "metadata": {},
   "source": [
    "3. What are pre-defined keywords in python?\n",
    "- There are 35 reserve keywords. \n",
    "\n",
    "    They are:\n",
    "    \n",
    "    if, else, elif, for, while, break, continue, pass, import, from, True, try,\tdef, and, False, except, class, or, None, finally, lambda, not, raise, return, is, assert, yield, in, with, del, global, nonlocal, as"
   ]
  },
  {
   "cell_type": "markdown",
   "metadata": {},
   "source": [
    "4. Can keywords be used as variable names?\n",
    "- No keywords can't be used as variable names."
   ]
  },
  {
   "cell_type": "markdown",
   "metadata": {},
   "source": [
    "5. What is mutablity in python?\n",
    "-   Mutability refers to whether an object’s state can be changed after it is created.\n",
    "    Mutable objects: Can be modified after creation.\n",
    "    Immutable objects: Cannot be changed after creation."
   ]
  },
  {
   "cell_type": "markdown",
   "metadata": {},
   "source": [
    "6. Why are lists mutable but tuples are immutable?\n",
    "- Lists are stored in dynamic memory. Each element in a list is a reference to an object in memory. Since references can be updated, the list itself can be changed. while Tuples are stored in static memory. Elements inside a tuple cannot be modified or reassigned. Tuples store elements directly."
   ]
  },
  {
   "cell_type": "markdown",
   "metadata": {},
   "source": [
    "7. What is the difference between \"==\" and \"is\" operators in python?\n",
    "- \"==\" compares the value while is compares the reference of the object.\n",
    "\n",
    "```\n",
    "    Example:-\n",
    "    l1 = [1,2,3]\n",
    "    l2 = [1,2,3]\n",
    "    l3 = [1,2,4]\n",
    "    l4 = l1\n",
    "    print(l1==l2) # Output: True        because value is same\n",
    "    print(l1==l3) # Output: False       because value is not same\n",
    "    print(l1 is l4) # Output: True      because reference is same\n",
    "    print(l1 is l2) # Output: False     because reference is not same\n",
    "```"
   ]
  },
  {
   "cell_type": "markdown",
   "metadata": {},
   "source": [
    "8. What are logical operators in python?\n",
    "- Logical operators are used to perform logical operations on Boolean values (True or False). They are commonly used in conditional statements and loops. There are 3 logical operators:\n",
    "    - And\n",
    "    - Or\n",
    "    - Not\n",
    "    "
   ]
  },
  {
   "cell_type": "markdown",
   "metadata": {},
   "source": [
    "9. What is type casting in Python?\n",
    "- Type casting in Python refers to converting one data type into another. Python supports both implicit and explicit type casting."
   ]
  },
  {
   "cell_type": "markdown",
   "metadata": {},
   "source": [
    "10. What is the difference between the implicit and explicit type casting?\n",
    "- Implicit Type Casting (Automatic)\n",
    "    - Python automatically converts one data type to another without data loss.\n",
    "    - Happens when mixing different types in an operation.\n",
    "    - Avoids TypeErrors and ensures smooth execution.\n",
    "\n",
    "- Explicit Type Casting (Manual)\n",
    "    - The programmer manually converts a variable’s data type.\n",
    "    - Uses built-in functions like int(), float(), str(), list(), tuple(), set(), etc.\n",
    "    - Can cause data loss if not used carefully."
   ]
  },
  {
   "cell_type": "markdown",
   "metadata": {},
   "source": [
    "11. What is the purpose of conditional statements in Python?\n",
    "- Conditional statements control the flow of execution in a Python program by allowing the program to make decisions based on conditions."
   ]
  },
  {
   "cell_type": "markdown",
   "metadata": {},
   "source": [
    "12. How does the elif statement work?\n",
    "- The elif statement in Python is used when we need to check multiple conditions in sequence. It stands for \"else if\" and allows us to execute different blocks of code based on different conditions.\n",
    "\n",
    "Working:\n",
    "\n",
    "    - The \"if\" condition is checked first.\n",
    "    - If \"if\" is True, its block executes and other conditions are skipped.\n",
    "    - If \"if\" is False, Python moves to the next \"elif\" condition.\n",
    "    - If an \"elif\" condition is True, its block executes and the remaining conditions are ignored.\n",
    "    - If none of the conditions are True, the else block (if present) executes."
   ]
  },
  {
   "cell_type": "markdown",
   "metadata": {},
   "source": [
    "13. What is difference between for and while loop?\n",
    "- We use for loop if we know the number of times loops will be executed. If we don't know the number of steps loops will be executed then we use while loop."
   ]
  },
  {
   "cell_type": "markdown",
   "metadata": {},
   "source": [
    "14. Describe a scenario where a while loop is more suitable than a for loop?\n",
    "-  When we are writing a program to reverse any random number. In this case while loop is suuitable."
   ]
  },
  {
   "cell_type": "markdown",
   "metadata": {},
   "source": [
    "# Practicle Question"
   ]
  },
  {
   "cell_type": "markdown",
   "metadata": {},
   "source": [
    "1. Write a program to print \"Hello World!\""
   ]
  },
  {
   "cell_type": "code",
   "execution_count": 5,
   "metadata": {},
   "outputs": [
    {
     "name": "stdout",
     "output_type": "stream",
     "text": [
      "Hello World!\n"
     ]
    }
   ],
   "source": [
    "print(\"Hello World!\")"
   ]
  },
  {
   "cell_type": "markdown",
   "metadata": {},
   "source": [
    "2. Write a program that displays your name and age?"
   ]
  },
  {
   "cell_type": "code",
   "execution_count": 6,
   "metadata": {},
   "outputs": [
    {
     "name": "stdout",
     "output_type": "stream",
     "text": [
      "My name is Harsh and I am 26 old\n"
     ]
    }
   ],
   "source": [
    "name = \"Harsh\"\n",
    "age = 26\n",
    "\n",
    "print(f\"My name is {name} and I am {age} old\")"
   ]
  },
  {
   "cell_type": "markdown",
   "metadata": {},
   "source": [
    "3. Write code to print all the pre-defined keywords in python usnig the keyword library."
   ]
  },
  {
   "cell_type": "code",
   "execution_count": 7,
   "metadata": {},
   "outputs": [
    {
     "name": "stdout",
     "output_type": "stream",
     "text": [
      "['False', 'None', 'True', 'and', 'as', 'assert', 'async', 'await', 'break', 'class', 'continue', 'def', 'del', 'elif', 'else', 'except', 'finally', 'for', 'from', 'global', 'if', 'import', 'in', 'is', 'lambda', 'nonlocal', 'not', 'or', 'pass', 'raise', 'return', 'try', 'while', 'with', 'yield']\n"
     ]
    }
   ],
   "source": [
    "import keyword\n",
    "print(keyword.kwlist)"
   ]
  },
  {
   "cell_type": "markdown",
   "metadata": {},
   "source": [
    "4. Write a program that checks if a given word is a Python keyword."
   ]
  },
  {
   "cell_type": "code",
   "execution_count": 15,
   "metadata": {},
   "outputs": [
    {
     "name": "stdout",
     "output_type": "stream",
     "text": [
      "know is not a keyword.\n"
     ]
    }
   ],
   "source": [
    "import keyword\n",
    "\n",
    "word = \"know\"\n",
    "\n",
    "if word in keyword.kwlist:\n",
    "    print(f\"{word} is a keyword.\")\n",
    "else:\n",
    "    print(f\"{word} is not a keyword.\") "
   ]
  },
  {
   "cell_type": "markdown",
   "metadata": {},
   "source": [
    "5. Create a list and tuple in Python, and demonstrate how attempting to change an element works differently\n",
    "for each\n"
   ]
  },
  {
   "cell_type": "code",
   "execution_count": 16,
   "metadata": {},
   "outputs": [],
   "source": [
    "fruits = [\"Apple\", \"Orange\", \"Mango\"]\n",
    "\n",
    "fruits[0] = \"Banana\""
   ]
  },
  {
   "cell_type": "code",
   "execution_count": 17,
   "metadata": {},
   "outputs": [
    {
     "ename": "TypeError",
     "evalue": "'tuple' object does not support item assignment",
     "output_type": "error",
     "traceback": [
      "\u001b[1;31m---------------------------------------------------------------------------\u001b[0m",
      "\u001b[1;31mTypeError\u001b[0m                                 Traceback (most recent call last)",
      "Cell \u001b[1;32mIn[17], line 3\u001b[0m\n\u001b[0;32m      1\u001b[0m fruits \u001b[38;5;241m=\u001b[39m (\u001b[38;5;124m\"\u001b[39m\u001b[38;5;124mApple\u001b[39m\u001b[38;5;124m\"\u001b[39m, \u001b[38;5;124m\"\u001b[39m\u001b[38;5;124mOrange\u001b[39m\u001b[38;5;124m\"\u001b[39m, \u001b[38;5;124m\"\u001b[39m\u001b[38;5;124mMango\u001b[39m\u001b[38;5;124m\"\u001b[39m)\n\u001b[1;32m----> 3\u001b[0m \u001b[43mfruits\u001b[49m\u001b[43m[\u001b[49m\u001b[38;5;241;43m0\u001b[39;49m\u001b[43m]\u001b[49m \u001b[38;5;241m=\u001b[39m \u001b[38;5;124m\"\u001b[39m\u001b[38;5;124mBanana\u001b[39m\u001b[38;5;124m\"\u001b[39m\n",
      "\u001b[1;31mTypeError\u001b[0m: 'tuple' object does not support item assignment"
     ]
    }
   ],
   "source": [
    "fruits = (\"Apple\", \"Orange\", \"Mango\")\n",
    "\n",
    "fruits[0] = \"Banana\""
   ]
  },
  {
   "cell_type": "markdown",
   "metadata": {},
   "source": [
    "6. Write a function to demonstrate the behavior of mutable and immutable arguments."
   ]
  },
  {
   "cell_type": "code",
   "execution_count": 18,
   "metadata": {},
   "outputs": [
    {
     "name": "stdout",
     "output_type": "stream",
     "text": [
      "Before function call:\n",
      "num (immutable): 50\n",
      "numbers_list (mutable): [1, 2, 3]\n",
      "Inside function (immutable_arg modified): 60\n",
      "Inside function (mutable_arg modified): [1, 2, 3, 100]\n",
      "\n",
      "After function call:\n",
      "num (immutable): 50\n",
      "numbers_list (mutable): [1, 2, 3, 100]\n"
     ]
    }
   ],
   "source": [
    "def modify_arguments(immutable_arg, mutable_arg):\n",
    "    immutable_arg += 10\n",
    "    print(\"Inside function (immutable_arg modified):\", immutable_arg)\n",
    "\n",
    "    mutable_arg.append(100)\n",
    "    print(\"Inside function (mutable_arg modified):\", mutable_arg)\n",
    "\n",
    "\n",
    "num = 50\n",
    "numbers_list = [1, 2, 3]\n",
    "\n",
    "print(\"Before function call:\")\n",
    "print(\"num (immutable):\", num)\n",
    "print(\"numbers_list (mutable):\", numbers_list)\n",
    "\n",
    "modify_arguments(num, numbers_list)\n",
    "\n",
    "print(\"\\nAfter function call:\")\n",
    "print(\"num (immutable):\", num)\n",
    "print(\"numbers_list (mutable):\", numbers_list)"
   ]
  },
  {
   "cell_type": "markdown",
   "metadata": {},
   "source": [
    "7. Write a program that performs basic arithmetic operations on two user-input numbers."
   ]
  },
  {
   "cell_type": "code",
   "execution_count": 2,
   "metadata": {},
   "outputs": [
    {
     "name": "stdout",
     "output_type": "stream",
     "text": [
      "Addition: 123\n",
      "Addition: -33\n",
      "Addition: 3510\n",
      "Addition: 0.5769230769230769\n"
     ]
    }
   ],
   "source": [
    "num1 = int(input(\"Enter first number: \"))\n",
    "num2 = int(input(\"Enter second number: \"))\n",
    "\n",
    "print(f\"Addition: {num1 + num2}\")\n",
    "print(f\"Addition: {num1 - num2}\")\n",
    "print(f\"Addition: {num1 * num2}\")\n",
    "print(f\"Addition: {num1 / num2}\")"
   ]
  },
  {
   "cell_type": "markdown",
   "metadata": {},
   "source": [
    "8. Write a program to demonstrate the use of logical operators."
   ]
  },
  {
   "cell_type": "code",
   "execution_count": 5,
   "metadata": {},
   "outputs": [
    {
     "name": "stdout",
     "output_type": "stream",
     "text": [
      "571 is largest.\n"
     ]
    }
   ],
   "source": [
    "a = 451\n",
    "b = 571\n",
    "c = 97\n",
    "\n",
    "if a>b and a>c:\n",
    "    print(f\"{a} is largest.\")\n",
    "elif b>c and b>a:\n",
    "    print(f\"{b} is largest.\")\n",
    "else:\n",
    "    print(f\"{c} is largest.\")"
   ]
  },
  {
   "cell_type": "markdown",
   "metadata": {},
   "source": [
    "9. Write a Python program to convert user input from string to integer, float, and boolean types."
   ]
  },
  {
   "cell_type": "code",
   "execution_count": 6,
   "metadata": {},
   "outputs": [
    {
     "name": "stdout",
     "output_type": "stream",
     "text": [
      "My roll no is 45, I have scored 78.5% and I am pass.\n"
     ]
    }
   ],
   "source": [
    "roll = int(input(\"Enter roll : \"))\n",
    "percentage = float(input(\"Enter percentage: \"))\n",
    "is_pass = bool(input(\"Passed(True/False): \"))\n",
    "\n",
    "print(f\"My roll no is {roll}, I have scored {percentage}% and I am {[\"Fail.\", \"pass.\"][is_pass]}\")"
   ]
  },
  {
   "cell_type": "markdown",
   "metadata": {},
   "source": [
    "10. Write code to demonstrate type casting with list elements."
   ]
  },
  {
   "cell_type": "code",
   "execution_count": 7,
   "metadata": {},
   "outputs": [
    {
     "name": "stdout",
     "output_type": "stream",
     "text": [
      "[10, 15, 75, 49, 82, 74, 34, 64]\n"
     ]
    }
   ],
   "source": [
    "numbers_list = [\"10\", \"15\", \"75\", \"49\", \"82\", \"74\", \"34\", \"64\"]\n",
    "num_list = []\n",
    "\n",
    "for ele in numbers_list:\n",
    "    num_list.append(int(ele))\n",
    "\n",
    "print(num_list)"
   ]
  },
  {
   "cell_type": "markdown",
   "metadata": {},
   "source": [
    "11. Write a program that checks if a number is positive, negative, or zero."
   ]
  },
  {
   "cell_type": "code",
   "execution_count": 10,
   "metadata": {},
   "outputs": [
    {
     "name": "stdout",
     "output_type": "stream",
     "text": [
      "Negative\n"
     ]
    }
   ],
   "source": [
    "num = -45\n",
    "\n",
    "if num > 0:\n",
    "    print(\"Postive\")\n",
    "elif num < 0:\n",
    "    print(\"Negative\")\n",
    "else:\n",
    "    print(\"Zero\")"
   ]
  },
  {
   "cell_type": "markdown",
   "metadata": {},
   "source": [
    "12. Write a for loop to print numbers from 1 to 10."
   ]
  },
  {
   "cell_type": "code",
   "execution_count": 11,
   "metadata": {},
   "outputs": [
    {
     "name": "stdout",
     "output_type": "stream",
     "text": [
      "1\n",
      "2\n",
      "3\n",
      "4\n",
      "5\n",
      "6\n",
      "7\n",
      "8\n",
      "9\n",
      "10\n"
     ]
    }
   ],
   "source": [
    "for i in range(1, 11):\n",
    "    print(i)"
   ]
  },
  {
   "cell_type": "markdown",
   "metadata": {},
   "source": [
    "13. Write a Python program to find the sum of all even numbers between 1 and 50."
   ]
  },
  {
   "cell_type": "code",
   "execution_count": 12,
   "metadata": {},
   "outputs": [
    {
     "name": "stdout",
     "output_type": "stream",
     "text": [
      "600\n"
     ]
    }
   ],
   "source": [
    "sum_even_number = 0\n",
    "for i in range(1, 50):\n",
    "    if i & 1 == 0:\n",
    "        sum_even_number += i\n",
    "\n",
    "print(sum_even_number)"
   ]
  },
  {
   "cell_type": "markdown",
   "metadata": {},
   "source": [
    "14. Write a program to reverse a string using a while loop."
   ]
  },
  {
   "cell_type": "code",
   "execution_count": 17,
   "metadata": {},
   "outputs": [
    {
     "name": "stdout",
     "output_type": "stream",
     "text": [
      "tnahpelE\n"
     ]
    }
   ],
   "source": [
    "str1 = \"Elephant\"\n",
    "str2 = \"\"\n",
    "i = 1\n",
    "while i <= len(str1):\n",
    "    str2 += str1[i * (-1)]\n",
    "    i+=1\n",
    "print(str2)"
   ]
  },
  {
   "cell_type": "markdown",
   "metadata": {},
   "source": [
    "15. Write a Python program to calculate the factorial of a number provided by the user using a while loop."
   ]
  },
  {
   "cell_type": "code",
   "execution_count": 18,
   "metadata": {},
   "outputs": [
    {
     "name": "stdout",
     "output_type": "stream",
     "text": [
      "Factorial of 5 is 120\n"
     ]
    }
   ],
   "source": [
    "num = int(input(\"Enter a number: \"))\n",
    "fact = 1\n",
    "i = num\n",
    "while i > 1:\n",
    "    fact *= i\n",
    "    i -= 1\n",
    "\n",
    "print(f\"Factorial of {num} is {fact}\")"
   ]
  },
  {
   "cell_type": "code",
   "execution_count": null,
   "metadata": {},
   "outputs": [],
   "source": []
  }
 ],
 "metadata": {
  "kernelspec": {
   "display_name": "Python 3",
   "language": "python",
   "name": "python3"
  },
  "language_info": {
   "codemirror_mode": {
    "name": "ipython",
    "version": 3
   },
   "file_extension": ".py",
   "mimetype": "text/x-python",
   "name": "python",
   "nbconvert_exporter": "python",
   "pygments_lexer": "ipython3",
   "version": "3.12.8"
  }
 },
 "nbformat": 4,
 "nbformat_minor": 2
}
