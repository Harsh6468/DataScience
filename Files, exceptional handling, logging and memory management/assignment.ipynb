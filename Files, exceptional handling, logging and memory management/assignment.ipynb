{
 "cells": [
  {
   "cell_type": "markdown",
   "metadata": {},
   "source": [
    "## **Files, exceptional handling, logging and memory management**\n",
    "### **Theory Question**"
   ]
  },
  {
   "cell_type": "markdown",
   "metadata": {},
   "source": [
    "#### **1. What is the difference between interpreted and compiled languages?**\n",
    "- **Interpreted Languages:**\n",
    "    - The source code is executed line-by-line by an interpreter. This typically means there is no separate compilation step; code is executed directly, which can allow for greater flexibility and easier debugging. However, it may run slower because the interpretation happens at runtime.\n",
    "- **Compiled Languages:**\n",
    "    - The source code is translated into machine code by a compiler before execution. This process produces an executable file that runs directly on the hardware. Compiled programs often run faster because the translation is done ahead of time, but they might be less flexible during development.\n"
   ]
  },
  {
   "cell_type": "markdown",
   "metadata": {},
   "source": [
    "#### **2. What is exception handling in Python?**\n",
    "- Exception handling is the mechanism used to manage `errors` gracefully. Python provides the try and except blocks to catch and handle exceptions. Developers can anticipate potential error conditions and implement strategies to recover or log them without crashing the program."
   ]
  },
  {
   "cell_type": "markdown",
   "metadata": {},
   "source": [
    "#### **3. What is the purpose of the finally block in exception handling?**\n",
    "- The `finally` block is used to execute code regardless of whether an exception was raised or not. It is typically used for clean-up actions such as closing files, releasing resources, or other necessary final steps that must occur after the try/except processing."
   ]
  },
  {
   "cell_type": "markdown",
   "metadata": {},
   "source": [
    "#### **4. What is logging in Python?**\n",
    "- `Logging` refers to the process of tracking events that happen when some software runs. Python’s built-in logging module allows developers to report status, error, and informational messages. It is highly configurable, letting we record different levels of information (like DEBUG, INFO, etc.) and output them to various destinations (console, files, remote servers)."
   ]
  },
  {
   "cell_type": "markdown",
   "metadata": {},
   "source": [
    "#### **5. What is the significance of the __del__ method in Python?**\n",
    "- The `__del__` method is a destructor in Python. It is called when an object is about to be destroyed. Although its use is not common in everyday Python programming due to automatic garbage collection, it can be used to clean up resources before the object is removed from memory."
   ]
  },
  {
   "cell_type": "markdown",
   "metadata": {},
   "source": [
    "#### **6. What is the difference between import and from ... import in Python?**\n",
    "- import module:\n",
    "    - This statement imports the entire module, and we must prefix its functions or classes with the module name (e.g., module.function()).\n",
    "- from module import name:\n",
    "    - This statement imports a specific function, class, or variable directly into wer namespace. we can use the name directly without the module prefix."
   ]
  },
  {
   "cell_type": "markdown",
   "metadata": {},
   "source": [
    "#### **7. How can we handle multiple exceptions in Python**\n",
    "- Python allows handling multiple exceptions in one block by grouping them in a tuple within a single except clause. Alternatively, we can chain multiple except blocks if different handling is required.\n",
    "Exapmle\n",
    "```python\n",
    "    try:\n",
    "        result = 5/0\n",
    "    except ZeroDivisionError as e:\n",
    "        print(e)\n",
    "    except Exception as e: \n",
    "        print(e)\n",
    "```"
   ]
  },
  {
   "cell_type": "markdown",
   "metadata": {},
   "source": [
    "#### **8. What is the purpose of the with statement when handling files in Python?**\n",
    "- The `with` statement is used to wrap the execution of a block with methods defined by a context manager. In file handling, it ensures that the file is properly closed after its suite finishes, even if an error occurs. This leads to cleaner and more reliable code."
   ]
  },
  {
   "cell_type": "markdown",
   "metadata": {},
   "source": [
    "#### **9. What is the difference between multithreading and multiprocessing?**\n",
    "- Multithreading:\n",
    "    - Uses multiple threads within a single process. Threads share the same memory space, making inter-thread communication easier but also introducing challenges like race conditions and the Global Interpreter Lock (GIL) in Python, which can limit parallel execution in CPU-bound tasks.\n",
    "- Multiprocessing:\n",
    "    - Involves multiple processes, each with its own memory space. This avoids the GIL limitation and is more effective for CPU-bound tasks, but inter-process communication can be more complex and resource-intensive. "
   ]
  },
  {
   "cell_type": "markdown",
   "metadata": {},
   "source": [
    "#### **10. What are the advantages of using logging in a program?**\n",
    "- Debugging and Monitoring: Provides insight into the application’s behavior during development and in production.\n",
    "- Audit Trails: Maintains records of events, which can be critical for security and compliance.\n",
    "- Configurable Output: Offers multiple logging levels and output formats that can be adjusted without changing the code.\n",
    "- Non-Intrusive: Allows background monitoring without affecting the program flow or user experience."
   ]
  },
  {
   "cell_type": "markdown",
   "metadata": {},
   "source": [
    "#### **11. What is memory management in Python?**\n",
    "- Memory management in Python involves the allocation and deallocation of memory for objects. Python uses automatic memory management, which primarily consists of:\n",
    "    - Reference Counting: Every object keeps a count of references pointing to it.\n",
    "    - Garbage Collection: A cyclic garbage collector detects and collects groups of objects that reference each other but are no longer reachable from any active code."
   ]
  },
  {
   "cell_type": "markdown",
   "metadata": {},
   "source": [
    "#### **12. What are the basic steps involved in exception handling in Python?**\n",
    "1. Try Block: Enclose code that might raise an exception.\n",
    "2. Except Block(s): Catch and handle specific exceptions that occur in the try block.\n",
    "3. Else Block (Optional): Execute if no exceptions were raised in the try block.\n",
    "4. Finally Block (Optional): Execute code that must run regardless of whether an exception occurred."
   ]
  },
  {
   "cell_type": "markdown",
   "metadata": {},
   "source": [
    "#### **13. Why is memory management important in Python?**\n",
    "- Efficient memory management is crucial to prevent memory leaks, reduce fragmentation, and ensure that the application uses resources optimally. Poor memory management can lead to performance degradation, crashes, or unresponsive programs, especially in long-running applications."
   ]
  },
  {
   "cell_type": "markdown",
   "metadata": {},
   "source": [
    "#### **14. What is the role of try and except in exception handling?**\n",
    "- The try block is used to wrap code that might throw an exception, while the except block is used to catch and handle these exceptions. This allows programs to continue running even if an error occurs, rather than terminating abruptly."
   ]
  },
  {
   "cell_type": "markdown",
   "metadata": {},
   "source": [
    "#### **15. How does Python's garbage collection system work?**\n",
    "- Python primarily uses reference counting to keep track of objects. When an object’s reference count drops to zero, the memory is deallocated immediately. Additionally, Python has a cyclic garbage collector that detects groups of objects involved in reference cycles, which reference counting alone cannot resolve, and reclaims their memory."
   ]
  },
  {
   "cell_type": "markdown",
   "metadata": {},
   "source": [
    "#### **16. What is the purpose of the else block in exception handling?**\n",
    "- The else block is executed only if the code in the try block did not raise any exceptions. It is useful for code that should run only when the try block is successful and no error handling is required."
   ]
  },
  {
   "cell_type": "markdown",
   "metadata": {},
   "source": [
    "#### **17. What are the common logging levels in Python?**\n",
    "- Python’s logging module defines several levels to indicate the severity of events:\n",
    "    - DEBUG: Detailed information, typically of interest only when diagnosing problems.\n",
    "    - INFO: Confirmation that things are working as expected.\n",
    "    - WARNING: An indication that something unexpected happened or may happen.\n",
    "    - ERROR: Due to a more serious problem, the software has not been able to perform some function.\n",
    "    - CRITICAL: A serious error, indicating that the program itself may be unable to continue running."
   ]
  },
  {
   "cell_type": "markdown",
   "metadata": {},
   "source": [
    "#### **18. What is the difference between os.fork() and multiprocessing in Python?**\n",
    "- os.fork():\n",
    "Available on Unix-based systems, it creates a new process by duplicating the current process. It is a low-level system call that can lead to complexities in process management.\n",
    "- Multiprocessing Module:\n",
    "Provides a high-level interface to create and manage processes in a cross-platform manner. It abstracts many complexities and allows for easier sharing of data between processes."
   ]
  },
  {
   "cell_type": "markdown",
   "metadata": {},
   "source": [
    "#### **19. What is the importance of closing a file in Python?**\n",
    "- Closing a file releases the system resources that were allocated to it, ensures that all data is written to disk, and prevents potential data corruption or memory leaks."
   ]
  },
  {
   "cell_type": "markdown",
   "metadata": {},
   "source": [
    "#### **20. What is the difference between file.read() and file.readline() in Python?**\n",
    "- file.read():\n",
    "Reads the entire file into a single string.\n",
    "- file.readline():\n",
    "Reads one line from the file each time it is called, which is useful for processing files line by line without loading the whole file into memory."
   ]
  },
  {
   "cell_type": "markdown",
   "metadata": {},
   "source": [
    "#### **21. What is the logging module in Python used for?**\n",
    "- The logging module is used to record events that occur during the execution of a program. It provides a flexible framework for emitting log messages from Python programs, which can be critical for debugging, monitoring, and auditing application behavior."
   ]
  },
  {
   "cell_type": "markdown",
   "metadata": {},
   "source": [
    "#### **22. What is the os module in Python used for in file handling?**\n",
    "- The `os` module in Python offers a way to interact with the operating system. In file handling, it is used for tasks like navigating the file system, handling file paths, creating or deleting files and directories, and interfacing with system-level file operations."
   ]
  },
  {
   "cell_type": "markdown",
   "metadata": {},
   "source": [
    "#### **23. What are the challenges associated with memory management in Python?**\n",
    "- Reference Cycles: Objects referencing each other can create cycles that are not automatically cleaned up by reference counting alone.\n",
    "- Memory Leaks: Improper management of resources or lingering references can lead to memory not being freed even when it is no longer needed.\n",
    "- Efficient Allocation: Balancing memory allocation and deallocation to maintain performance, especially in large or long-running applications."
   ]
  },
  {
   "cell_type": "markdown",
   "metadata": {},
   "source": [
    "#### **24. How do we raise an exception manually in Python?**\n",
    "- We can manually raise an exception using the raise statement.\n",
    "    \n",
    "    For example:\n",
    "    ```python\n",
    "    raise ValueError(\"A value error occurred\")\n",
    "    ```\n",
    "    This creates an exception instance and passes it up the call stack."
   ]
  },
  {
   "cell_type": "markdown",
   "metadata": {},
   "source": [
    "#### **25. Why is it important to use multithreading in certain applications?**\n",
    "- Multithreading can be particularly beneficial for I/O-bound tasks, such as network operations, file I/O, or waiting for user input, because it allows a program to remain responsive by handling multiple operations concurrently. While CPU-bound tasks might be limited by Python’s Global Interpreter Lock (GIL), multithreading can still improve performance in scenarios where the program spends time waiting on external resources."
   ]
  },
  {
   "cell_type": "markdown",
   "metadata": {},
   "source": [
    "### **Practical Question**"
   ]
  },
  {
   "cell_type": "markdown",
   "metadata": {},
   "source": [
    "#### **1.  How can you open a file for writing in Python and write a string to it?**"
   ]
  },
  {
   "cell_type": "code",
   "execution_count": 23,
   "metadata": {},
   "outputs": [],
   "source": [
    "with open(\"test.txt\", \"w\") as file:\n",
    "    file.write(\"I love AI and I want to learn how to build it.\")"
   ]
  },
  {
   "cell_type": "markdown",
   "metadata": {},
   "source": [
    "#### **2.  Write a Python program to read the contents of a file and print each line?**"
   ]
  },
  {
   "cell_type": "code",
   "execution_count": 1,
   "metadata": {},
   "outputs": [
    {
     "name": "stdout",
     "output_type": "stream",
     "text": [
      "I love AI and I want to learn how to build it.\n",
      "I love AI and I want to learn how to build it.\n",
      "I love AI and I want to learn how to build it.\n",
      "I love AI and I want to learn how to build it.\n",
      "Today is wonderfull day."
     ]
    }
   ],
   "source": [
    "with open(\"test.txt\", \"r\") as file:\n",
    "    for line in file:\n",
    "        print(line, end=\"\")"
   ]
  },
  {
   "cell_type": "markdown",
   "metadata": {},
   "source": [
    "#### **3.  How would you handle a case where the file doesn't exist while trying to open it for reading?**"
   ]
  },
  {
   "cell_type": "code",
   "execution_count": 2,
   "metadata": {},
   "outputs": [],
   "source": [
    "try:\n",
    "    with open(\"test001.txt\", \"r\") as file:\n",
    "        text = file.read()\n",
    "except Exception as e:\n",
    "    print(e)"
   ]
  },
  {
   "cell_type": "markdown",
   "metadata": {},
   "source": [
    "#### **4.  Write a Python script that reads from one file and writes its content to another file?**"
   ]
  },
  {
   "cell_type": "code",
   "execution_count": 3,
   "metadata": {},
   "outputs": [],
   "source": [
    "source_file = \"test.txt\"\n",
    "destination_file = \"test001.txt\"\n",
    "with open(source_file, \"r\") as file:\n",
    "    text = file.read()\n",
    "\n",
    "with open(destination_file, \"w\") as file:\n",
    "    file.write(text)"
   ]
  },
  {
   "cell_type": "markdown",
   "metadata": {},
   "source": [
    "#### **5.  How would you catch and handle division by zero error in Python?**"
   ]
  },
  {
   "cell_type": "code",
   "execution_count": 4,
   "metadata": {},
   "outputs": [
    {
     "name": "stdout",
     "output_type": "stream",
     "text": [
      "division by zero\n"
     ]
    }
   ],
   "source": [
    "num1 = 75\n",
    "num2 = 0\n",
    "try:\n",
    "    result = num1 / num2\n",
    "except ZeroDivisionError as zde:\n",
    "    print(zde)"
   ]
  },
  {
   "cell_type": "markdown",
   "metadata": {},
   "source": [
    "#### **6.  Write a Python program that logs an error message to a log file when a division by zero exception occurs?**"
   ]
  },
  {
   "cell_type": "code",
   "execution_count": 5,
   "metadata": {},
   "outputs": [
    {
     "name": "stdout",
     "output_type": "stream",
     "text": [
      "division by zero\n"
     ]
    }
   ],
   "source": [
    "import logging\n",
    "\n",
    "logging.basicConfig(filename=\"test.log\", level=logging.DEBUG)\n",
    "\n",
    "num1 = 75\n",
    "num2 = 0\n",
    "try:\n",
    "    result = num1 / num2\n",
    "except ZeroDivisionError as zde:\n",
    "    logging.error(zde)\n",
    "    print(zde)"
   ]
  },
  {
   "cell_type": "markdown",
   "metadata": {},
   "source": [
    "#### **7.  How do you log information at different levels (INFO, ERROR, WARNING) in Python using the logging module?**"
   ]
  },
  {
   "cell_type": "code",
   "execution_count": 6,
   "metadata": {},
   "outputs": [],
   "source": [
    "import logging\n",
    "\n",
    "logging.basicConfig(filename=\"new_test.log\", level=logging.DEBUG, format='%(asctime)s %(levelname)s %(message)s')\n",
    "\n",
    "logging.warning(\"This is warning.\")\n",
    "logging.info(\"This is the information.\")\n",
    "logging.error(\"Unfortunatly error occured.\")"
   ]
  },
  {
   "cell_type": "markdown",
   "metadata": {},
   "source": [
    "#### **8.  Write a program to handle a file opening error using exception handling?**"
   ]
  },
  {
   "cell_type": "code",
   "execution_count": 7,
   "metadata": {},
   "outputs": [
    {
     "name": "stdout",
     "output_type": "stream",
     "text": [
      "[Errno 2] No such file or directory: 'test002.txt'\n"
     ]
    }
   ],
   "source": [
    "try:\n",
    "    with open(\"test002.txt\", \"r\") as file:\n",
    "        text = file.read()\n",
    "except Exception as e:\n",
    "    print(e)"
   ]
  },
  {
   "cell_type": "markdown",
   "metadata": {},
   "source": [
    "#### **9.  How can you read a file line by line and store its content in a list in Python?**"
   ]
  },
  {
   "cell_type": "code",
   "execution_count": 8,
   "metadata": {},
   "outputs": [
    {
     "name": "stdout",
     "output_type": "stream",
     "text": [
      "['I love AI and I want to learn how to build it.\\n', 'I love AI and I want to learn how to build it.\\n', 'I love AI and I want to learn how to build it.\\n', 'I love AI and I want to learn how to build it.\\n', 'Today is wonderfull day.']\n"
     ]
    }
   ],
   "source": [
    "text = []\n",
    "with open(\"test.txt\", \"r\") as file:\n",
    "    for line in file:\n",
    "        text.append(line)\n",
    "\n",
    "print(text)"
   ]
  },
  {
   "cell_type": "markdown",
   "metadata": {},
   "source": [
    "#### **10. How can you append data to an existing file in Python?**"
   ]
  },
  {
   "cell_type": "code",
   "execution_count": 9,
   "metadata": {},
   "outputs": [],
   "source": [
    "with open(\"test.txt\", \"a\") as file:\n",
    "    file.write(\"Today is wonderfull day.\")"
   ]
  },
  {
   "cell_type": "markdown",
   "metadata": {},
   "source": [
    "#### **11. Write a Python program that uses a try-except block to handle an error when attempting to access a dictionary key that doesn't exist?**"
   ]
  },
  {
   "cell_type": "code",
   "execution_count": 10,
   "metadata": {},
   "outputs": [
    {
     "name": "stdout",
     "output_type": "stream",
     "text": [
      "Name: Shubhu\n",
      "Age: 23\n",
      "Course: B.Tech\n",
      "'roll_no'\n"
     ]
    }
   ],
   "source": [
    "person = {\n",
    "    \"name\": \"Shubhu\",\n",
    "    \"age\": 23,\n",
    "    \"course\": \"B.Tech\"\n",
    "}\n",
    "\n",
    "try:\n",
    "    print(f\"Name: {person['name']}\")\n",
    "    print(f\"Age: {person['age']}\")\n",
    "    print(f\"Course: {person['course']}\")\n",
    "    print(f\"Roll No.: {person['roll_no']}\")\n",
    "except Exception as e:\n",
    "    print(e)"
   ]
  },
  {
   "cell_type": "markdown",
   "metadata": {},
   "source": [
    "#### **12. Write a program that demonstrates using multiple except blocks to handle different types of exceptions?**"
   ]
  },
  {
   "cell_type": "code",
   "execution_count": 11,
   "metadata": {},
   "outputs": [
    {
     "name": "stdout",
     "output_type": "stream",
     "text": [
      "Error: Division by zero is not allowed.\n"
     ]
    }
   ],
   "source": [
    "x = int(input(\"Enter a number: \"))\n",
    "try:\n",
    "    result = 10 / x\n",
    "    print(\"Result is:\", result)\n",
    "except ValueError:\n",
    "    print(\"Error: Please enter a valid integer.\")\n",
    "except ZeroDivisionError:\n",
    "    print(\"Error: Division by zero is not allowed.\")\n",
    "except Exception as e:\n",
    "    print(\"An unexpected error occurred:\", e)\n"
   ]
  },
  {
   "cell_type": "markdown",
   "metadata": {},
   "source": [
    "#### **13. How would you check if a file exists before attempting to read it in Python?**"
   ]
  },
  {
   "cell_type": "code",
   "execution_count": 12,
   "metadata": {},
   "outputs": [
    {
     "name": "stdout",
     "output_type": "stream",
     "text": [
      "The file example.txt does not exist.\n"
     ]
    }
   ],
   "source": [
    "import os\n",
    "\n",
    "file_path = \"example.txt\"\n",
    "\n",
    "if os.path.exists(file_path):\n",
    "    with open(file_path, \"r\") as file:\n",
    "        content = file.read()\n",
    "        print(content)\n",
    "else:\n",
    "    print(f\"The file {file_path} does not exist.\")"
   ]
  },
  {
   "cell_type": "markdown",
   "metadata": {},
   "source": [
    "#### **14. Write a program that uses the logging module to log both informational and error messages?**"
   ]
  },
  {
   "cell_type": "code",
   "execution_count": 13,
   "metadata": {},
   "outputs": [],
   "source": [
    "import logging\n",
    "\n",
    "logging.basicConfig(filename='test001.log', level=logging.INFO, format=\"%(asctime)s %(levelname)s %(message)s\")\n",
    "\n",
    "logging.error(\"This an error.\")\n",
    "logging.info(\"This an information.\")"
   ]
  },
  {
   "cell_type": "markdown",
   "metadata": {},
   "source": [
    "#### **15. Write a Python program that prints the content of a file and handles the case when the file is empty?**"
   ]
  },
  {
   "cell_type": "code",
   "execution_count": 14,
   "metadata": {},
   "outputs": [
    {
     "name": "stdout",
     "output_type": "stream",
     "text": [
      "I love AI and I want to learn how to build it.\n",
      "I love AI and I want to learn how to build it.\n",
      "I love AI and I want to learn how to build it.\n",
      "I love AI and I want to learn how to build it.\n",
      "Today is wonderfull day.\n"
     ]
    }
   ],
   "source": [
    "try:\n",
    "    with open(\"test001.txt\", \"r\") as file:\n",
    "        text = file.read()\n",
    "        if not text:\n",
    "            print(\"File is empty.\")\n",
    "        else:\n",
    "            print(text)\n",
    "except Exception as e:\n",
    "    print(e)"
   ]
  },
  {
   "cell_type": "markdown",
   "metadata": {},
   "source": [
    "#### **16. Demonstrate how to use memory profiling to check the memory usage of a small program?**"
   ]
  },
  {
   "cell_type": "code",
   "execution_count": 15,
   "metadata": {},
   "outputs": [],
   "source": [
    "# test.py is created for this answer"
   ]
  },
  {
   "cell_type": "markdown",
   "metadata": {},
   "source": [
    "#### **17. Write a Python program to create and write a list of numbers to a file, one number per line?**"
   ]
  },
  {
   "cell_type": "code",
   "execution_count": 16,
   "metadata": {},
   "outputs": [],
   "source": [
    "numbers = [1, 2, 3, 4, 5]\n",
    "\n",
    "with open(\"numbers.txt\", \"w\") as file:\n",
    "    for number in numbers:\n",
    "        file.write(str(number) + \"\\n\")\n"
   ]
  },
  {
   "cell_type": "markdown",
   "metadata": {},
   "source": [
    "#### **18. How would you implement a basic logging setup that logs to a file with rotation after 1MB?**"
   ]
  },
  {
   "cell_type": "code",
   "execution_count": 17,
   "metadata": {},
   "outputs": [],
   "source": [
    "import logging\n",
    "from logging.handlers import RotatingFileHandler\n",
    "\n",
    "logger = logging.getLogger(\"test002.log\")\n",
    "logger.setLevel(logging.DEBUG)\n",
    "\n",
    "handler = RotatingFileHandler(\n",
    "    \"app.log\",\n",
    "    maxBytes=1_000_000,\n",
    "    backupCount=3\n",
    ")\n",
    "handler.setLevel(logging.DEBUG)\n",
    "\n",
    "formatter = logging.Formatter('%(asctime)s - %(name)s - %(levelname)s - %(message)s')\n",
    "handler.setFormatter(formatter)\n",
    "\n",
    "logger.addHandler(handler)\n",
    "\n",
    "logger.debug(\"This is a debug message.\")\n",
    "logger.info(\"This is an info message.\")\n",
    "logger.warning(\"This is a warning message.\")\n",
    "logger.error(\"This is an error message.\")\n",
    "logger.critical(\"This is a critical message.\")\n"
   ]
  },
  {
   "cell_type": "markdown",
   "metadata": {},
   "source": [
    "#### **19. Write a program that handles both IndexError and KeyError using a try-except block?**"
   ]
  },
  {
   "cell_type": "code",
   "execution_count": 18,
   "metadata": {},
   "outputs": [
    {
     "name": "stdout",
     "output_type": "stream",
     "text": [
      "Caught an IndexError: list index out of range\n"
     ]
    }
   ],
   "source": [
    "number = [10, 20, 30]\n",
    "dict1 = {\"a\": 1, \"b\": 2}\n",
    "\n",
    "try:\n",
    "    print(\"List element:\", number[5])\n",
    "    print(\"Dictionary value:\", dict1[\"c\"])\n",
    "except IndexError as ie:\n",
    "    print(\"Caught an IndexError:\", ie)\n",
    "except KeyError as ke:\n",
    "    print(\"Caught a KeyError:\", ke)\n"
   ]
  },
  {
   "cell_type": "markdown",
   "metadata": {},
   "source": [
    "#### **20. How would you open a file and read its contents using a context manager in Python?**"
   ]
  },
  {
   "cell_type": "code",
   "execution_count": 19,
   "metadata": {},
   "outputs": [
    {
     "name": "stdout",
     "output_type": "stream",
     "text": [
      "I love AI and I want to learn how to build it.\n",
      "I love AI and I want to learn how to build it.\n",
      "I love AI and I want to learn how to build it.\n",
      "I love AI and I want to learn how to build it.\n",
      "Today is wonderfull day.Today is wonderfull day.\n"
     ]
    }
   ],
   "source": [
    "with open(\"test.txt\", \"r\") as file:\n",
    "    text = file.read()\n",
    "\n",
    "print(text)\n"
   ]
  },
  {
   "cell_type": "markdown",
   "metadata": {},
   "source": [
    "#### **21. Write a Python program that reads a file and prints the number of occurrences of a specific word?**"
   ]
  },
  {
   "cell_type": "code",
   "execution_count": 20,
   "metadata": {},
   "outputs": [
    {
     "name": "stdout",
     "output_type": "stream",
     "text": [
      "The word 'want' occurs 4 times in the file.\n"
     ]
    }
   ],
   "source": [
    "target_word = \"want\"\n",
    "occurrence_count = 0\n",
    "\n",
    "with open(\"test.txt\", \"r\") as file:\n",
    "    for line in file:\n",
    "        words = line.lower().split()\n",
    "        occurrence_count += words.count(target_word.lower())\n",
    "\n",
    "print(f\"The word '{target_word}' occurs {occurrence_count} times in the file.\")\n"
   ]
  },
  {
   "cell_type": "markdown",
   "metadata": {},
   "source": [
    "#### **22. How can you check if a file is empty before attempting to read its contents?**"
   ]
  },
  {
   "cell_type": "code",
   "execution_count": 21,
   "metadata": {},
   "outputs": [
    {
     "name": "stdout",
     "output_type": "stream",
     "text": [
      "I love AI and I want to learn how to build it.\n",
      "I love AI and I want to learn how to build it.\n",
      "I love AI and I want to learn how to build it.\n",
      "I love AI and I want to learn how to build it.\n",
      "Today is wonderfull day.\n"
     ]
    }
   ],
   "source": [
    "import os\n",
    "\n",
    "file_path = \"test001.txt\"\n",
    "\n",
    "if os.path.exists(file_path) and os.path.getsize(file_path) > 0:\n",
    "    with open(file_path, \"r\") as file:\n",
    "        text = file.read()\n",
    "        print(text)\n",
    "else:\n",
    "    print(\"The file is empty or does not exist.\")\n"
   ]
  },
  {
   "cell_type": "markdown",
   "metadata": {},
   "source": [
    "#### **23. Write a Python program that writes to a log file when an error occurs during file handling?**"
   ]
  },
  {
   "cell_type": "code",
   "execution_count": 22,
   "metadata": {},
   "outputs": [
    {
     "name": "stdout",
     "output_type": "stream",
     "text": [
      "An error occurred. Check error.log for details.\n"
     ]
    }
   ],
   "source": [
    "import logging\n",
    "\n",
    "logging.basicConfig(\n",
    "    filename='error.log',\n",
    "    level=logging.ERROR,\n",
    "    format='%(asctime)s:%(levelname)s:%(message)s'\n",
    ")\n",
    "\n",
    "file_path = \"nonexistent.txt\"\n",
    "\n",
    "try:\n",
    "    with open(file_path, \"r\") as file:\n",
    "        data = file.read()\n",
    "        print(\"File read successfully!\")\n",
    "except Exception as e:\n",
    "    logging.error(\"Error occurred while handling the file: %s\", e)\n",
    "    print(\"An error occurred. Check error.log for details.\")\n"
   ]
  },
  {
   "cell_type": "code",
   "execution_count": null,
   "metadata": {},
   "outputs": [],
   "source": []
  }
 ],
 "metadata": {
  "kernelspec": {
   "display_name": "Python 3",
   "language": "python",
   "name": "python3"
  },
  "language_info": {
   "codemirror_mode": {
    "name": "ipython",
    "version": 3
   },
   "file_extension": ".py",
   "mimetype": "text/x-python",
   "name": "python",
   "nbconvert_exporter": "python",
   "pygments_lexer": "ipython3",
   "version": "3.13.2"
  }
 },
 "nbformat": 4,
 "nbformat_minor": 2
}
